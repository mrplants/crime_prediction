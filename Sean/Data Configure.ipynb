{
 "cells": [
  {
   "cell_type": "code",
   "execution_count": 1,
   "metadata": {},
   "outputs": [],
   "source": [
    "import numpy as np\n",
    "import tensorflow as tf\n",
    "import pandas as pd\n",
    "from tensorflow.python.framework import ops\n",
    "import math\n",
    "import matplotlib.pyplot as plt"
   ]
  },
  {
   "cell_type": "code",
   "execution_count": 2,
   "metadata": {},
   "outputs": [
    {
     "name": "stderr",
     "output_type": "stream",
     "text": [
      "/Users/sean/anaconda3/lib/python3.6/site-packages/IPython/core/interactiveshell.py:3018: DtypeWarning: Columns (0,2,4,6,7,9) have mixed types. Specify dtype option on import or set low_memory=False.\n",
      "  interactivity=interactivity, compiler=compiler, result=result)\n"
     ]
    }
   ],
   "source": [
    "# Convert to UTF-8 as follows:\n",
    "# iconv -c -f ASCII -t UTF-8 < Trade_DetailedTradeMatrix_E_All_Data_\\(Normalized\\).csv > trade.csv &\n",
    "\n",
    "trade_raw = pd.read_csv('Sean/Data/trade.csv')\n",
    "food_balance_raw = pd.read_csv('Sean/Data/balance.csv')\n",
    "food_supply_raw = pd.read_csv('Sean/Data/supply.csv')\n",
    "food_production_raw = pd.read_csv('Sean/Data/production.csv')\n",
    "malnutrition_raw = pd.read_csv('Sean/Data/malnutrition.csv')\n",
    "population_raw = pd.read_csv('Sean/Data/population.csv')"
   ]
  },
  {
   "cell_type": "code",
   "execution_count": 465,
   "metadata": {},
   "outputs": [],
   "source": [
    "# CONSTANTS\n",
    "PREDICTION_LENGTH = 1\n",
    "np.random.seed(1)"
   ]
  },
  {
   "cell_type": "code",
   "execution_count": 466,
   "metadata": {},
   "outputs": [],
   "source": [
    "# Filter Food Production to only include production (Element Code 5510, tonnes)\n",
    "# food_production_unaggregated = food_production_raw.loc[:,['Area Code','Item Code','Element Code','Year Code','Value']].loc[food_production_raw['Element Code']==5510].drop(columns=['Element Code']).apply(pd.to_numeric, errors='ignore')\n",
    "# Filter Food Supply to only include Food Supply Quantity (Element Code 641, tonnes)\n",
    "# food_supply = food_supply_raw.loc[:,['Area Code','Item Code','Element Code','Year Code','Value']].loc[food_supply_raw['Element Code']==641].drop(columns=['Element Code']).apply(pd.to_numeric, errors='ignore')\n",
    "# Filter Trade to only include export quantity (Element Code 5910, tonnes) and import quantity (Element Code 5610, tonnes)\n",
    "# Note that reporter and partner quantity may not agree (http://fenixservices.fao.org/faostat/static/documents/TM/TM_e.pdf)\n",
    "# Thus only count imports and exports with respect to the reporting country.  That's what matter for actual balance.\n",
    "# trade_export_unaggregated = trade_raw.loc[:,['Reporter Country Code','Item Code','Element Code','Year Code','Value']].loc[trade_raw['Element Code']==5910].rename(columns={'Reporter Country Code':'Area Code'}).drop(columns=['Element Code']).apply(pd.to_numeric, errors='ignore')\n",
    "# trade_import_unaggregated = trade_raw.loc[:,['Reporter Country Code','Item Code','Element Code','Year Code','Value']].loc[trade_raw['Element Code']==5610].rename(columns={'Reporter Country Code':'Area Code'}).drop(columns=['Element Code']).apply(pd.to_numeric, errors='ignore')\n",
    "# Filter Population to only include Total Population- both sexes (Element Code 511, 1000 persons) -> need to multiply by 1000 to get number of people\n",
    "# population = population_raw.loc[:,['Area Code','Year Code','Value','Element Code']].loc[population_raw['Element Code']==511].rename(columns={'Value': 'Population'}).drop(columns=['Element Code']).apply(pd.to_numeric, errors='ignore')\n",
    "# population.loc[:,['Population']] = population.loc[:,['Population']].values * 1000."
   ]
  },
  {
   "cell_type": "code",
   "execution_count": 467,
   "metadata": {},
   "outputs": [],
   "source": [
    "# Instead of accumulated trade, supply, and population data, use the balance data.  The UN already has accounted for the issues we are facing.\n",
    "\n",
    "# Filter Food Balance to only include food available for consumption (Element Code 5142, 1000 tonnes)\n",
    "food_balance = food_balance_raw.loc[:,['Area','Item','Area Code','Item Code','Element Code','Year Code','Value']].loc[food_balance_raw['Element Code']==5301].drop(columns=['Element Code']).apply(pd.to_numeric, errors='ignore')\n",
    "food_balance = food_balance.rename(columns={'Value':'Total Food Balance'})\n",
    "# For export, use Element Code 5911\n",
    "trade_export = food_balance_raw.loc[:,['Area Code', 'Item Code', 'Element Code', 'Year Code', 'Value']].loc[food_balance_raw['Element Code']==5911].drop(columns=['Element Code']).apply(pd.to_numeric, errors='ignore')\n",
    "trade_export = trade_export.rename(columns={'Value':'Amount Exported'})\n",
    "# For import, use Element Code 5611\n",
    "trade_import = food_balance_raw.loc[:,['Area Code', 'Item Code', 'Element Code', 'Year Code', 'Value']].loc[food_balance_raw['Element Code']==5611].drop(columns=['Element Code']).apply(pd.to_numeric, errors='ignore')\n",
    "trade_import = trade_import.rename(columns={'Value':'Amount Imported'})\n",
    "# For production, use Element Code 5511\n",
    "food_production = food_balance_raw.loc[:,['Area Code', 'Item Code', 'Element Code', 'Year Code', 'Value']].loc[food_balance_raw['Element Code']==5511].drop(columns=['Element Code']).apply(pd.to_numeric, errors='ignore')\n",
    "food_production = food_production.rename(columns={'Value':'Amount Produced'})\n",
    "# For population, use Element Code 511\n",
    "population = food_balance_raw.loc[:,['Area Code', 'Element Code', 'Year Code', 'Value']].loc[food_balance_raw['Element Code']==511].drop(columns=['Element Code']).apply(pd.to_numeric, errors='ignore')\n",
    "population = population.rename(columns={'Value':'Population'})\n",
    "# For feed, use Element Code 5521\n",
    "food_for_livestock = food_balance_raw.loc[:,['Area Code', 'Item Code', 'Element Code', 'Year Code', 'Value']].loc[food_balance_raw['Element Code']==5521].drop(columns=['Element Code']).apply(pd.to_numeric, errors='ignore')\n",
    "food_for_livestock = food_for_livestock.rename(columns={'Value':'Food for Livestock'})\n",
    "# For seed, use Element Code 5527\n",
    "food_for_plants = food_balance_raw.loc[:,['Area Code', 'Item Code', 'Element Code', 'Year Code', 'Value']].loc[food_balance_raw['Element Code']==5527].drop(columns=['Element Code']).apply(pd.to_numeric, errors='ignore')\n",
    "food_for_plants = food_for_plants.rename(columns={'Value':'Food for Plants'})\n",
    "# For people food, use Element Code 5142\n",
    "food_for_people = food_balance_raw.loc[:,['Area Code', 'Item Code', 'Element Code', 'Year Code', 'Value']].loc[food_balance_raw['Element Code']==5142].drop(columns=['Element Code']).apply(pd.to_numeric, errors='ignore')\n",
    "food_for_people = food_for_people.rename(columns={'Value':'Food for People'})\n",
    "# For losses, use Element Code 5123\n",
    "losses = food_balance_raw.loc[:,['Area Code', 'Item Code', 'Element Code', 'Year Code', 'Value']].loc[food_balance_raw['Element Code']==5123].drop(columns=['Element Code']).apply(pd.to_numeric, errors='ignore')\n",
    "losses = losses.rename(columns={'Value':'Losses'})\n"
   ]
  },
  {
   "cell_type": "code",
   "execution_count": 468,
   "metadata": {},
   "outputs": [],
   "source": [
    "# DEBUG - only consider the USA\n",
    "# food_production_unaggregated = food_production_unaggregated.loc[food_production_unaggregated['Area Code']==231]\n",
    "# food_supply = food_supply.loc[food_supply['Area Code']==231]\n",
    "# food_balance = food_balance.loc[food_balance['Area Code']==231]\n",
    "# trade_unaggregated = trade_unaggregated.loc[(trade_unaggregated['Area Code']==231)]\n",
    "# DEBUG - only consider the USA"
   ]
  },
  {
   "cell_type": "code",
   "execution_count": 469,
   "metadata": {},
   "outputs": [],
   "source": [
    "# FAO aggregates products for Food Balance and Food Supply\n",
    "# Food Production and Trade is not aggregated\n",
    "# In order to compare the datasets, Food Production and Trade must be aggregated using the aggregate mapping\n",
    "# The aggregate mapping requires pre-processing\n",
    "# aggregate_mapping_raw = pd.read_csv('Sean/Data/aggregate-mapping.csv').loc[:,['Item Code', 'Description']].rename(columns={'Item Code':'Aggregate Item Code'})\n",
    "# aggregate_index_mapping = aggregate_mapping_raw.Description.str.extractall('(\\d+)').reset_index().drop(columns=['match']).rename(columns={0:'Item Code'}).rename(columns={'level_0':'Aggregated Item Code Index'})\n",
    "# aggregate_mapping = pd.merge(left=aggregate_mapping_raw,\n",
    "#                              right=aggregate_index_mapping,\n",
    "#                              how='outer',\n",
    "#                              left_index=True,\n",
    "#                              right_on=['Aggregated Item Code Index']).dropna().drop(columns=['Aggregated Item Code Index','Description']).apply(pd.to_numeric, errors='ignore')"
   ]
  },
  {
   "cell_type": "code",
   "execution_count": 470,
   "metadata": {},
   "outputs": [],
   "source": [
    "\n",
    "# Aggregate the Food Production and Trade dataframes\n",
    "# food_production = pd.merge(left=food_production_unaggregated,\n",
    "#                                       right=aggregate_mapping,\n",
    "#                                       how='inner',\n",
    "#                                       on='Item Code').drop(columns=['Item Code']).rename(columns={'Aggregate Item Code':'Item Code'})\n",
    "# trade_import = pd.merge(left=trade_import_unaggregated,\n",
    "#                             right=aggregate_mapping,\n",
    "#                             how='inner',\n",
    "#                             on='Item Code').drop(columns=['Item Code']).rename(columns={'Aggregate Item Code':'Item Code'})\n",
    "# trade_export = pd.merge(left=trade_export_unaggregated,\n",
    "#                             right=aggregate_mapping,\n",
    "#                             how='inner',\n",
    "#                             on='Item Code').drop(columns=['Item Code']).rename(columns={'Aggregate Item Code':'Item Code'})"
   ]
  },
  {
   "cell_type": "code",
   "execution_count": 471,
   "metadata": {},
   "outputs": [
    {
     "name": "stdout",
     "output_type": "stream",
     "text": [
      "1144776\n"
     ]
    }
   ],
   "source": [
    "# Given [country, year, item code, element code]\n",
    "# Predict [future balance]\n",
    "# From [supply, amount traded out, amount traded in]\n",
    "\n",
    "# Create new prediction_data dataframe from food_supply dataframe\n",
    "prediction_data = food_balance.copy().rename(columns={'Value':'Current Balance'})\n",
    "print(len(prediction_data))"
   ]
  },
  {
   "cell_type": "code",
   "execution_count": 472,
   "metadata": {},
   "outputs": [
    {
     "name": "stdout",
     "output_type": "stream",
     "text": [
      "958412\n"
     ]
    }
   ],
   "source": [
    "# Filter by summing [Value] for a constant [Area Code, Item Code, Year Code]\n",
    "# trade_export = trade_export.groupby(['Area Code', 'Item Code', 'Year Code'])[['Value']].sum().reset_index()\n",
    "# Rename the [Value] column of trade_export to be [Amount Exported]\n",
    "# trade_export = trade_export.rename(columns={'Value': 'Amount Exported'})\n",
    "# Merge trade_export with prediction_data on [Area Code, Item Code, Year Code]\n",
    "prediction_data = pd.merge(left=prediction_data,\n",
    "                           right=trade_export,\n",
    "                           how='inner',\n",
    "                           on=['Area Code', 'Item Code', 'Year Code'])\n",
    "print(len(prediction_data))"
   ]
  },
  {
   "cell_type": "code",
   "execution_count": 473,
   "metadata": {},
   "outputs": [
    {
     "name": "stdout",
     "output_type": "stream",
     "text": [
      "942433\n"
     ]
    }
   ],
   "source": [
    "# Filter by summing [Value] for a constant [Area Code, Item Code, Year Code]\n",
    "# trade_import = trade_import.groupby(['Area Code', 'Item Code', 'Year Code'])[['Value']].sum().reset_index()\n",
    "# Rename the [Value] column of trade_import to be [Amount Exported]\n",
    "# trade_import = trade_import.rename(columns={'Value': 'Amount Imported'})\n",
    "# Merge trade_import with prediction_data on [Area Code, Item Code, Year Code]\n",
    "prediction_data = pd.merge(left=prediction_data,\n",
    "                           right=trade_import,\n",
    "                           how='inner',\n",
    "                           on=['Area Code', 'Item Code', 'Year Code'])\n",
    "print(len(prediction_data))"
   ]
  },
  {
   "cell_type": "code",
   "execution_count": 474,
   "metadata": {},
   "outputs": [
    {
     "name": "stdout",
     "output_type": "stream",
     "text": [
      "715445\n"
     ]
    }
   ],
   "source": [
    "# Rename the [Value] column of food_production to be [Amount Produced]\n",
    "# food_production = food_production.rename(columns={'Value': 'Amount Produced'})\n",
    "# Merge food_balance with prediction_data on [Area Code, Item Code, 'Year Code']\n",
    "prediction_data = pd.merge(left=prediction_data,\n",
    "                          right=food_production,\n",
    "                          how='inner',\n",
    "                          on=['Area Code','Item Code','Year Code'])\n",
    "print(len(prediction_data))"
   ]
  },
  {
   "cell_type": "code",
   "execution_count": 475,
   "metadata": {},
   "outputs": [
    {
     "name": "stdout",
     "output_type": "stream",
     "text": [
      "715445\n"
     ]
    }
   ],
   "source": [
    "# Insert population into the prediction_data\n",
    "prediction_data = pd.merge(left=prediction_data,\n",
    "                          right=population,\n",
    "                          how='left',\n",
    "                          on=['Area Code','Year Code'])\n",
    "print(len(prediction_data))"
   ]
  },
  {
   "cell_type": "code",
   "execution_count": 476,
   "metadata": {},
   "outputs": [
    {
     "name": "stdout",
     "output_type": "stream",
     "text": [
      "226020\n"
     ]
    }
   ],
   "source": [
    "# Insert population into the prediction_data\n",
    "prediction_data = pd.merge(left=prediction_data,\n",
    "                          right=food_for_livestock,\n",
    "                          how='inner',\n",
    "                          on=['Area Code','Item Code','Year Code'])\n",
    "print(len(prediction_data))"
   ]
  },
  {
   "cell_type": "code",
   "execution_count": 477,
   "metadata": {},
   "outputs": [
    {
     "name": "stdout",
     "output_type": "stream",
     "text": [
      "114382\n"
     ]
    }
   ],
   "source": [
    "# Insert population into the prediction_data\n",
    "prediction_data = pd.merge(left=prediction_data,\n",
    "                          right=food_for_plants,\n",
    "                          how='inner',\n",
    "                          on=['Area Code','Item Code','Year Code'])\n",
    "print(len(prediction_data))"
   ]
  },
  {
   "cell_type": "code",
   "execution_count": 478,
   "metadata": {},
   "outputs": [
    {
     "name": "stdout",
     "output_type": "stream",
     "text": [
      "108521\n"
     ]
    }
   ],
   "source": [
    "# Insert population into the prediction_data\n",
    "prediction_data = pd.merge(left=prediction_data,\n",
    "                          right=food_for_people,\n",
    "                          how='inner',\n",
    "                          on=['Area Code','Item Code','Year Code'])\n",
    "print(len(prediction_data))"
   ]
  },
  {
   "cell_type": "code",
   "execution_count": 479,
   "metadata": {},
   "outputs": [
    {
     "name": "stdout",
     "output_type": "stream",
     "text": [
      "97985\n"
     ]
    }
   ],
   "source": [
    "# Insert population into the prediction_data\n",
    "prediction_data = pd.merge(left=prediction_data,\n",
    "                          right=losses,\n",
    "                          how='inner',\n",
    "                          on=['Area Code','Item Code','Year Code'])\n",
    "print(len(prediction_data))"
   ]
  },
  {
   "cell_type": "code",
   "execution_count": 480,
   "metadata": {},
   "outputs": [
    {
     "name": "stdout",
     "output_type": "stream",
     "text": [
      "95896\n"
     ]
    }
   ],
   "source": [
    "future_people_food = food_for_people.copy()\n",
    "# Translate the food_balance out PREDICTION_LENGTH years\n",
    "future_people_food.loc[:,['Year Code']] = future_people_food.loc[:,['Year Code']].values - PREDICTION_LENGTH\n",
    "# Rename the [Value] column of food_balance to be [Predicted Value]\n",
    "future_people_food = future_people_food.rename(columns={'Food for People': 'Predicted Food for People'})\n",
    "# Merge food_balance with prediction_data on [Area Code, Item Code, 'Year Code']\n",
    "prediction_data = pd.merge(left=prediction_data,\n",
    "                          right=future_people_food,\n",
    "                          how='inner',\n",
    "                          on=['Area Code','Item Code','Year Code'])\n",
    "print(len(prediction_data))"
   ]
  },
  {
   "cell_type": "code",
   "execution_count": 481,
   "metadata": {},
   "outputs": [
    {
     "name": "stdout",
     "output_type": "stream",
     "text": [
      "95896\n"
     ]
    }
   ],
   "source": [
    "# Input Data Columns: [Year Code, Item Code, Current Supply, Amount Produced, Amount Exported, Amount Imported, Population]\n",
    "# Predicted Data Columns: [Predicted Balance]\n",
    "prediction_data = prediction_data.dropna()\n",
    "print(len(prediction_data))"
   ]
  },
  {
   "cell_type": "code",
   "execution_count": 482,
   "metadata": {},
   "outputs": [],
   "source": [
    "# create train and test datasets\n",
    "X = prediction_data.loc[:,['Item Code', 'Total Food Balance', 'Amount Exported', 'Amount Imported', 'Amount Produced', 'Population', 'Food for Livestock', 'Food for Plants', 'Food for People', 'Losses', 'Predicted Food for People']].sample(frac=1, axis=0)\n",
    "Y = X.loc[:,'Predicted Food for People']\n",
    "m = X.shape[0]\n",
    "Y_train = Y[int(m*.1):m-1]\n",
    "Y_test = Y[0:int(m*.1)]\n",
    "X_train = X[int(m*.1):m-1]\n",
    "X_test = X[0:int(m*.1)]\n",
    "mean = X_train.mean(axis=0)\n",
    "std = X_train.std(axis=0)\n",
    "X_train = (X_train - mean) / std\n",
    "X_test = (X_test - mean) / std\n",
    "X_train = X_train.drop(columns=['Predicted Food for People']).values.T\n",
    "Y_train = Y_train.values.T.reshape(1,-1)\n",
    "X_test = X_test.drop(columns=['Predicted Food for People']).values.T\n",
    "Y_test = Y_test.values.T.reshape(1,-1)"
   ]
  },
  {
   "cell_type": "code",
   "execution_count": 483,
   "metadata": {},
   "outputs": [],
   "source": [
    "def random_mini_batches(X, Y, mini_batch_size = 64, seed = 0):\n",
    "    \"\"\"\n",
    "    Creates a list of random minibatches from (X, Y)\n",
    "    \n",
    "    Arguments:\n",
    "    X -- input data, of shape (input size, number of examples)\n",
    "    Y -- true \"label\" vector (1 for blue dot / 0 for red dot), of shape (1, number of examples)\n",
    "    mini_batch_size -- size of the mini-batches, integer\n",
    "    \n",
    "    Returns:\n",
    "    mini_batches -- list of synchronous (mini_batch_X, mini_batch_Y)\n",
    "    \"\"\"\n",
    "    \n",
    "    np.random.seed(seed)            # To make your \"random\" minibatches the same as ours\n",
    "    m = X.shape[1]                  # number of training examples\n",
    "    mini_batches = []\n",
    "    \n",
    "    if mini_batch_size > m:\n",
    "        mini_batches.append((X,Y))\n",
    "    else:\n",
    "        # Step 1: Shuffle (X, Y)\n",
    "        permutation = list(np.random.permutation(m))\n",
    "        shuffled_X = X[:, permutation]\n",
    "        shuffled_Y = Y[:, permutation].reshape((1,m))\n",
    "\n",
    "        # Step 2: Partition (shuffled_X, shuffled_Y). Minus the end case.\n",
    "        num_complete_minibatches = math.floor(m/mini_batch_size) # number of mini batches of size mini_batch_size in your partitionning\n",
    "        for k in range(0, num_complete_minibatches):\n",
    "            ### START CODE HERE ### (approx. 2 lines)\n",
    "            mini_batch_X = shuffled_X[:, k*mini_batch_size: (k+1)*(mini_batch_size)]\n",
    "            mini_batch_Y = shuffled_Y[:, k*mini_batch_size: (k+1)*(mini_batch_size)]\n",
    "            ### END CODE HERE ###\n",
    "            mini_batch = (mini_batch_X, mini_batch_Y)\n",
    "            mini_batches.append(mini_batch)\n",
    "\n",
    "        # Handling the end case (last mini-batch < mini_batch_size)\n",
    "        if m % mini_batch_size != 0:\n",
    "            ### START CODE HERE ### (approx. 2 lines)\n",
    "            mini_batch_X = shuffled_X[:, int(mini_batch_size*np.floor(m/mini_batch_size)): m]\n",
    "            mini_batch_Y = shuffled_Y[:, int(mini_batch_size*np.floor(m/mini_batch_size)): m]\n",
    "            ### END CODE HERE ###\n",
    "            mini_batch = (mini_batch_X, mini_batch_Y)\n",
    "            mini_batches.append(mini_batch)\n",
    "    \n",
    "    return mini_batches"
   ]
  },
  {
   "cell_type": "code",
   "execution_count": 487,
   "metadata": {},
   "outputs": [],
   "source": [
    "def model(X_train,\n",
    "          Y_train,\n",
    "          X_test,\n",
    "          Y_test,\n",
    "          learning_rate = 0.0001,\n",
    "          num_epochs = 1500,\n",
    "          minibatch_size = 64,\n",
    "          print_cost = True):\n",
    "    ops.reset_default_graph()\n",
    "    (n_x, m) = X_train.shape\n",
    "    n_y = Y_train.shape[0]\n",
    "    costs = []\n",
    "    \n",
    "    X = tf.placeholder(tf.float32, shape=(n_x,None), name='X')\n",
    "    Y = tf.placeholder(tf.float32, shape=(1,None), name='X')\n",
    "    \n",
    "    W1 = tf.get_variable('W1', (10,n_x), initializer=tf.contrib.layers.xavier_initializer(seed=1))\n",
    "    b1 = tf.get_variable('b1', (10,1), initializer=tf.zeros_initializer())\n",
    "    W2 = tf.get_variable('W2', (1,10), initializer=tf.contrib.layers.xavier_initializer(seed=1))\n",
    "    b2 = tf.get_variable('b2', (1,1), initializer=tf.zeros_initializer())\n",
    "    W3 = tf.get_variable('W3', (1,10), initializer=tf.contrib.layers.xavier_initializer(seed=1))\n",
    "    b3 = tf.get_variable('b3', (1,1), initializer=tf.zeros_initializer())\n",
    "    W4 = tf.get_variable('W4', (10,10), initializer=tf.contrib.layers.xavier_initializer(seed=1))\n",
    "    b4 = tf.get_variable('b4', (10,1), initializer=tf.zeros_initializer())\n",
    "    W5 = tf.get_variable('W5', (10,10), initializer=tf.contrib.layers.xavier_initializer(seed=1))\n",
    "    b5 = tf.get_variable('b5', (10,1), initializer=tf.zeros_initializer())\n",
    "    W6 = tf.get_variable('W6', (1,10), initializer=tf.contrib.layers.xavier_initializer(seed=1))\n",
    "    b6 = tf.get_variable('b6', (1,1), initializer=tf.zeros_initializer())\n",
    "\n",
    "    parameters = {'W1':W1,\n",
    "                 'b1':b1,\n",
    "                 'W2':W2,\n",
    "                 'b2':b2,\n",
    "                 'W3':W3,\n",
    "                 'b3':b3,\n",
    "                 'W4':W4,\n",
    "                 'b4':b4,\n",
    "                 'W5':W5,\n",
    "                 'b5':b5,\n",
    "                 'W6':W6,\n",
    "                 'b6':b6}\n",
    "    \n",
    "    Z1 = W1@X+b1\n",
    "    A1 = tf.nn.relu(Z1)\n",
    "    Z2 = W2@A1+b2\n",
    "    A2 = tf.nn.relu(Z2)\n",
    "#     Z3 = W3@A2+b3\n",
    "#     A3 = tf.nn.relu(Z3)\n",
    "#     Z4 = W4@A3+b4\n",
    "#     A4 = tf.nn.relu(Z4)\n",
    "#     Z5 = W5@A4+b5\n",
    "#     A5 = tf.nn.relu(Z5)\n",
    "#     Z6 = W6@A5+b6\n",
    "#     A6 = tf.nn.relu(Z6)\n",
    "\n",
    "    cost = tf.sqrt(tf.reduce_mean((A2-Y)**2))\n",
    "    \n",
    "    optimizer = tf.train.AdamOptimizer(learning_rate = learning_rate).minimize(cost)\n",
    "\n",
    "    init = tf.global_variables_initializer()\n",
    "    \n",
    "    seed = 3\n",
    "    with tf.Session() as sess:\n",
    "        sess.run(init)\n",
    "        for epoch in range(num_epochs):\n",
    "            epoch_cost = 0.\n",
    "            num_minibatches = int(m / minibatch_size)\n",
    "            if num_minibatches < 1: num_minibatches=1\n",
    "            seed = seed + 1\n",
    "            minibatches = random_mini_batches(X_train, Y_train, minibatch_size, seed)\n",
    "            for minibatch in minibatches:\n",
    "                (minibatch_X, minibatch_Y) = minibatch\n",
    "                _ , minibatch_cost = sess.run([optimizer, cost], feed_dict={X: minibatch_X, Y: minibatch_Y})\n",
    "                epoch_cost += minibatch_cost / num_minibatches\n",
    "            if print_cost == True and epoch % 100 == 0:\n",
    "                print (\"Cost after epoch %i: %f\" % (epoch, epoch_cost))\n",
    "            if print_cost == True and epoch % 5 == 0:\n",
    "                costs.append(epoch_cost)\n",
    "        # plot the cost\n",
    "        plt.plot(np.squeeze(costs))\n",
    "        plt.ylabel('cost')\n",
    "        plt.xlabel('iterations (per tens)')\n",
    "        plt.title(\"Learning rate =\" + str(learning_rate))\n",
    "        plt.show()\n",
    "\n",
    "        # lets save the parameters in a variable\n",
    "        parameters = sess.run(parameters)\n",
    "        print (\"Parameters have been trained!\")\n",
    "\n",
    "        # Calculate the correct predictions\n",
    "        correct_prediction = tf.abs(1-A2/Y) < 0.2\n",
    "\n",
    "        # Calculate accuracy on the test set\n",
    "        accuracy = tf.reduce_mean(tf.cast(correct_prediction, \"float\"))\n",
    "\n",
    "        print (\"Train Accuracy:\", accuracy.eval({X: X_train, Y: Y_train}))\n",
    "        print (\"Test Accuracy:\", accuracy.eval({X: X_test, Y: Y_test}))\n",
    "        #print(sess.run(W1))"
   ]
  },
  {
   "cell_type": "code",
   "execution_count": 488,
   "metadata": {
    "scrolled": true
   },
   "outputs": [
    {
     "name": "stdout",
     "output_type": "stream",
     "text": [
      "Cost after epoch 0: 36739.699219\n",
      "Cost after epoch 100: 30911.863281\n",
      "Cost after epoch 200: 18880.878906\n",
      "Cost after epoch 300: 16731.308594\n",
      "Cost after epoch 400: 14046.434570\n",
      "Cost after epoch 500: 10645.580078\n",
      "Cost after epoch 600: 7459.853516\n",
      "Cost after epoch 700: 4935.082520\n",
      "Cost after epoch 800: 2629.014160\n",
      "Cost after epoch 900: 1151.010132\n",
      "Cost after epoch 1000: 1011.019043\n",
      "Cost after epoch 1100: 998.727661\n",
      "Cost after epoch 1200: 994.009705\n",
      "Cost after epoch 1300: 991.852539\n",
      "Cost after epoch 1400: 990.621277\n"
     ]
    },
    {
     "data": {
      "image/png": "[encoded data removed]",
      "text/plain": [
       "<Figure size 432x288 with 1 Axes>"
      ]
     },
     "metadata": {
      "needs_background": "light"
     },
     "output_type": "display_data"
    },
    {
     "name": "stdout",
     "output_type": "stream",
     "text": [
      "Parameters have been trained!\n",
      "Train Accuracy: 0.61381596\n",
      "Test Accuracy: 0.6116383\n"
     ]
    }
   ],
   "source": [
    "model(X_train, Y_train, X_test, Y_test, learning_rate=0.08, minibatch_size=10000000)"
   ]
  },
  {
   "cell_type": "code",
   "execution_count": 374,
   "metadata": {},
   "outputs": [
    {
     "name": "stdout",
     "output_type": "stream",
     "text": [
      "_________________________________________________________________\n",
      "Layer (type)                 Output Shape              Param #   \n",
      "=================================================================\n",
      "dense_9 (Dense)              (None, 10)                110       \n",
      "_________________________________________________________________\n",
      "dense_10 (Dense)             (None, 10)                110       \n",
      "_________________________________________________________________\n",
      "dense_11 (Dense)             (None, 1)                 11        \n",
      "=================================================================\n",
      "Total params: 231\n",
      "Trainable params: 231\n",
      "Non-trainable params: 0\n",
      "_________________________________________________________________\n"
     ]
    }
   ],
   "source": [
    "from tensorflow import keras\n",
    "\n",
    "def build_model():\n",
    "  model = keras.Sequential([\n",
    "    keras.layers.Dense(10, activation=tf.nn.relu,\n",
    "                       input_shape=(X_train.shape[0],)),\n",
    "    keras.layers.Dense(10, activation=tf.nn.relu),\n",
    "    keras.layers.Dense(1)\n",
    "  ])\n",
    "\n",
    "  optimizer = tf.train.RMSPropOptimizer(0.001)\n",
    "\n",
    "  model.compile(loss='mse',\n",
    "                optimizer=optimizer,\n",
    "                metrics=['mae'])\n",
    "  return model\n",
    "\n",
    "model = build_model()\n",
    "model.summary()"
   ]
  },
  {
   "cell_type": "code",
   "execution_count": 376,
   "metadata": {},
   "outputs": [
    {
     "name": "stdout",
     "output_type": "stream",
     "text": [
      "\n",
      "...................................................................................................."
     ]
    }
   ],
   "source": [
    "# Display training progress by printing a single dot for each completed epoch\n",
    "class PrintDot(keras.callbacks.Callback):\n",
    "  def on_epoch_end(self, epoch, logs):\n",
    "    if epoch % 100 == 0: print('')\n",
    "    print('.', end='')\n",
    "\n",
    "EPOCHS = 500\n",
    "\n",
    "# Store training stats\n",
    "history = model.fit(X_train.T, Y_train.T, epochs=100,\n",
    "                    validation_split=0.2, verbose=0,\n",
    "                    callbacks=[PrintDot()])"
   ]
  },
  {
   "cell_type": "code",
   "execution_count": 377,
   "metadata": {},
   "outputs": [
    {
     "data": {
      "image/png": "[encoded data removed]",
      "text/plain": [
       "<Figure size 432x288 with 1 Axes>"
      ]
     },
     "metadata": {
      "needs_background": "light"
     },
     "output_type": "display_data"
    }
   ],
   "source": [
    "def plot_history(history):\n",
    "  plt.figure()\n",
    "  plt.xlabel('Epoch')\n",
    "  plt.ylabel('Mean Abs Error [1000$]')\n",
    "  plt.plot(history.epoch, np.array(history.history['mean_absolute_error']),\n",
    "           label='Train Loss')\n",
    "  plt.plot(history.epoch, np.array(history.history['val_mean_absolute_error']),\n",
    "           label = 'Val loss')\n",
    "  plt.legend()\n",
    "  plt.ylim([0, 5])\n",
    "\n",
    "plot_history(history)"
   ]
  },
  {
   "cell_type": "code",
   "execution_count": null,
   "metadata": {},
   "outputs": [],
   "source": []
  }
 ],
 "metadata": {
  "kernelspec": {
   "display_name": "Python 3",
   "language": "python",
   "name": "python3"
  },
  "language_info": {
   "codemirror_mode": {
    "name": "ipython",
    "version": 3
   },
   "file_extension": ".py",
   "mimetype": "text/x-python",
   "name": "python",
   "nbconvert_exporter": "python",
   "pygments_lexer": "ipython3",
   "version": "3.6.6"
  }
 },
 "nbformat": 4,
 "nbformat_minor": 2
}
