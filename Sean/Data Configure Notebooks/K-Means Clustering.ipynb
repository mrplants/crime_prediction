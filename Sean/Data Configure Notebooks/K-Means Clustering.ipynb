{
 "cells": [
  {
   "cell_type": "code",
   "execution_count": 6,
   "metadata": {},
   "outputs": [
    {
     "data": {
      "image/png": "[encoded data removed]",
      "text/plain": [
       "<Figure size 432x288 with 1 Axes>"
      ]
     },
     "metadata": {
      "needs_background": "light"
     },
     "output_type": "display_data"
    },
    {
     "data": {
      "image/png": "[encoded data removed]",
      "text/plain": [
       "<Figure size 432x288 with 1 Axes>"
      ]
     },
     "metadata": {
      "needs_background": "light"
     },
     "output_type": "display_data"
    },
    {
     "data": {
      "text/plain": [
       "array([-0.01694371, -0.44589334,  0.2776184 , -0.01076238,  0.18625603,\n",
       "        0.32824648,  0.01524765,  0.05693245,  0.15054282])"
      ]
     },
     "execution_count": 6,
     "metadata": {},
     "output_type": "execute_result"
    }
   ],
   "source": [
    "import numpy as np\n",
    "import random\n",
    "import matplotlib.pyplot as plt\n",
    "\n",
    "########################################\n",
    "# K-MEANS CLUSTERING AND GAP STATISTIC #\n",
    "########################################\n",
    "\n",
    "# Source: https://datasciencelab.wordpress.com/2013/12/12/clustering-with-k-means-in-python/\n",
    "# Source: https://datasciencelab.wordpress.com/2013/12/27/finding-the-k-in-k-means-clustering/\n",
    "\n",
    "NUM_REF_DATASETS = 10\n",
    "REF_DATASET_SIZE = 100\n",
    "MAX_K = 10\n",
    "\n",
    "def init_board_gauss(N, k):\n",
    "    n = float(N)/k\n",
    "    X = []\n",
    "    for i in range(k):\n",
    "        c = (random.uniform(-1, 1), random.uniform(-1, 1))\n",
    "        s = random.uniform(0.05,0.5)\n",
    "        x = []\n",
    "        while len(x) < n:\n",
    "            a, b = np.array([np.random.normal(c[0], s), np.random.normal(c[1], s)])\n",
    "            # Continue drawing points from the distribution in the range [-1,1]\n",
    "            if abs(a) < 1 and abs(b) < 1:\n",
    "                x.append([a,b])\n",
    "        X.extend(x)\n",
    "    X = np.array(X)[:N]\n",
    "    return X\n",
    "\n",
    "def cluster_points(X, mu):\n",
    "    clusters  = {}\n",
    "    for x in X:\n",
    "        bestmukey = min([(i[0], np.linalg.norm(x-mu[i[0]])) \\\n",
    "                    for i in enumerate(mu)], key=lambda t:t[1])[0]\n",
    "        try:\n",
    "            clusters[bestmukey].append(x)\n",
    "        except KeyError:\n",
    "            clusters[bestmukey] = [x]\n",
    "    return clusters\n",
    " \n",
    "def reevaluate_centers(mu, clusters):\n",
    "    newmu = []\n",
    "    keys = sorted(clusters.keys())\n",
    "    for k in keys:\n",
    "        newmu.append(np.mean(clusters[k], axis = 0))\n",
    "    return newmu\n",
    " \n",
    "def has_converged(mu, oldmu):\n",
    "    return (set([tuple(a) for a in mu]) == set([tuple(a) for a in oldmu]))\n",
    " \n",
    "def find_centers(X, K):\n",
    "    # Initialize to K random centers\n",
    "    oldmu = random.sample(X.tolist(), K)\n",
    "    mu = random.sample(X.tolist(), K)\n",
    "    while not has_converged(mu, oldmu):\n",
    "        oldmu = mu\n",
    "        # Assign all points in X to clusters\n",
    "        clusters = cluster_points(X, mu)\n",
    "        # Reevaluate centers\n",
    "        mu = reevaluate_centers(oldmu, clusters)\n",
    "    return(mu, clusters)\n",
    "\n",
    "def Wk(mu, clusters):\n",
    "    K = len(mu)\n",
    "    return sum([np.linalg.norm(mu[i]-c)**2/(2*len(c)) for i in range(K) for c in clusters[i]])\n",
    "\n",
    "def bounding_box(X):\n",
    "    xmin, xmax = min(X,key=lambda a:a[0])[0], max(X,key=lambda a:a[0])[0]\n",
    "    ymin, ymax = min(X,key=lambda a:a[1])[1], max(X,key=lambda a:a[1])[1]\n",
    "    return (xmin,xmax), (ymin,ymax)\n",
    " \n",
    "def gap_statistic(X):\n",
    "    (xmin,xmax), (ymin,ymax) = bounding_box(X)\n",
    "    # Dispersion for real distribution\n",
    "    ks = range(1,MAX_K+1)\n",
    "    Wks = np.zeros(len(ks))\n",
    "    Wkbs = np.zeros(len(ks))\n",
    "    sk = np.zeros(len(ks))\n",
    "    for indk, k in enumerate(ks):\n",
    "        mu, clusters = find_centers(X,k)\n",
    "        Wks[indk] = np.log(Wk(mu, clusters))\n",
    "        # Create B reference datasets\n",
    "        B = NUM_REF_DATASETS\n",
    "        BWkbs = np.zeros(B)\n",
    "        for i in range(B):\n",
    "            Xb = []\n",
    "            for n in range(REF_DATASET_SIZE):\n",
    "                Xb.append([random.uniform(xmin,xmax),\n",
    "                          random.uniform(ymin,ymax)])\n",
    "            Xb = np.array(Xb)\n",
    "            mu, clusters = find_centers(Xb,k)\n",
    "            BWkbs[i] = np.log(Wk(mu, clusters))\n",
    "        Wkbs[indk] = sum(BWkbs)/B\n",
    "        sk[indk] = np.sqrt(sum((BWkbs-Wkbs[indk])**2)/B)\n",
    "    sk = sk*np.sqrt(1+1/B)\n",
    "    return(ks, Wks, Wkbs, sk)\n",
    "\n",
    "points = init_board_gauss(200, 3)\n",
    "centers = np.array(find_centers(points, 3)[0])\n",
    "ks, logWks, logWkbs, sk = gap_statistic(points)\n",
    "gap = logWkbs - logWks\n",
    "gap_stat = gap[:MAX_K-1]-(gap[1:MAX_K]-sk[1:MAX_K])\n",
    "plt.plot(points[:,0], points[:,1], 'r.')\n",
    "plt.plot(centers[:,0], centers[:,1], 'go')\n",
    "plt.show()\n",
    "plt.plot(gap_stat)\n",
    "plt.show()\n",
    "gap_stat"
   ]
  },
  {
   "cell_type": "code",
   "execution_count": null,
   "metadata": {},
   "outputs": [],
   "source": []
  }
 ],
 "metadata": {
  "kernelspec": {
   "display_name": "CS230",
   "language": "python",
   "name": "cs230"
  },
  "language_info": {
   "codemirror_mode": {
    "name": "ipython",
    "version": 3
   },
   "file_extension": ".py",
   "mimetype": "text/x-python",
   "name": "python",
   "nbconvert_exporter": "python",
   "pygments_lexer": "ipython3",
   "version": "3.6.6"
  }
 },
 "nbformat": 4,
 "nbformat_minor": 2
}
