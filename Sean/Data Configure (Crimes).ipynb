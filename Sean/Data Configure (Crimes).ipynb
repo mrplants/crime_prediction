{
 "cells": [
  {
   "cell_type": "code",
   "execution_count": 36,
   "metadata": {},
   "outputs": [],
   "source": [
    "import numpy as np\n",
    "import pandas as pd\n",
    "import math"
   ]
  },
  {
   "cell_type": "code",
   "execution_count": 37,
   "metadata": {},
   "outputs": [],
   "source": [
    "# Pull the grocery and liquor store dataframes\n",
    "crime_dataframe = pd.read_excel('/Volumes/GoogleDrive/My Drive/Crime Data/Final Folder/14_November.xlsx')\n",
    "liquor_store_dataframe = pd.read_csv('/Volumes/GoogleDrive/My Drive/Crime Data/Raw Data/Business_Licenses_-_Current_Liquor_and_Public_Places_of_Amusement_Licenses.csv')\n",
    "# grocery_store_dataframe = pd.read_csv('/Volumes/GoogleDrive/My Drive/Crime Data/Composite Data/Ali Workspace/grocery_liquor_joined___key_liquorStores_2018-11-14 19-03-34.xlsx')"
   ]
  },
  {
   "cell_type": "code",
   "execution_count": null,
   "metadata": {},
   "outputs": [],
   "source": [
    "# Select LAT and LONG columns, convert to numpy, then drop NAs\n",
    "liquor_locations = liquor_store_dataframe.loc[:,['LATITUDE','LONGITUDE']].dropna().values\n",
    "# grocer_locations = grocery_store_dataframe.loc[:,['LATITUDE','LONGITUDE']].dropna().values\n",
    "crime_locations = crime_dataframe.loc[:,['Latitude', 'Longitude']].dropna().values\n",
    "\n",
    "# Find the distance from the crime to all grocery stores and liquor stores.\n",
    "for crime_index, crime_location in enumerate(crime_locations):\n",
    "    # Record the minimum distance to any liquor store and grocery store\n",
    "    crime_dataframe.loc[crime_index,'closestLiquorStore'] = np.min(np.linalg.norm((liquor_locations - crime_location),axis=1))\n",
    "#     crime_dataframe.loc[crime_index,'closestGroceryStore'] = np.min(np.linalg.norm((grocer_locations - crime_location),axis=1))"
   ]
  },
  {
   "cell_type": "code",
   "execution_count": null,
   "metadata": {},
   "outputs": [],
   "source": [
    "# Write the new crime data to a temporary file in my workspace\n",
    "writer = pd.ExcelWriter('/Volumes/GoogleDrive/My Drive/Crime Data/Composite Data/Sean Workspace/19_November.xlsx')\n",
    "crime_dataframe.to_excel(writer)\n",
    "writer.save()"
   ]
  },
  {
   "cell_type": "code",
   "execution_count": null,
   "metadata": {},
   "outputs": [],
   "source": []
  }
 ],
 "metadata": {
  "kernelspec": {
   "display_name": "Python 3",
   "language": "python",
   "name": "python3"
  },
  "language_info": {
   "codemirror_mode": {
    "name": "ipython",
    "version": 3
   },
   "file_extension": ".py",
   "mimetype": "text/x-python",
   "name": "python",
   "nbconvert_exporter": "python",
   "pygments_lexer": "ipython3",
   "version": "3.6.6"
  }
 },
 "nbformat": 4,
 "nbformat_minor": 2
}
