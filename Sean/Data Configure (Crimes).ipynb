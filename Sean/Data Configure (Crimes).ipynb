{
 "cells": [
  {
   "cell_type": "code",
   "execution_count": 2,
   "metadata": {},
   "outputs": [],
   "source": [
    "import numpy as np\n",
    "import pandas as pd\n",
    "import math"
   ]
  },
  {
   "cell_type": "code",
   "execution_count": 3,
   "metadata": {},
   "outputs": [
    {
     "name": "stderr",
     "output_type": "stream",
     "text": [
      "/Users/sean/anaconda3/lib/python3.6/site-packages/IPython/core/interactiveshell.py:3018: DtypeWarning: Columns (9,16,17) have mixed types. Specify dtype option on import or set low_memory=False.\n",
      "  interactivity=interactivity, compiler=compiler, result=result)\n"
     ]
    }
   ],
   "source": [
    "# Pull the crime dataframe\n",
    "crime_dataframe = pd.read_excel('/Volumes/GoogleDrive/My Drive/Crime Data/Final Folder/14_November.xlsx')\n",
    "# Pull related dataframes\n",
    "businesss_dataframe = pd.read_csv('/Volumes/GoogleDrive/My Drive/Crime Data/Raw Data/Business Licenses (Chicago).csv')\n",
    "temperatures_dataframe = pd.read_csv('/Volumes/GoogleDrive/My Drive/Crime Data/Raw Data/Temperatures (Chicago).csv')\n",
    "socioeconomic_dataframe = pd.read_csv('/Volumes/GoogleDrive/My Drive/Crime Data/Raw Data/Socioeconomic Indicators (Chicago).csv')\n",
    "SBIF_grants_dataframe = pd.read_csv('/Volumes/GoogleDrive/My Drive/Crime Data/Raw Data/SBIF Grants (Chicago).csv')\n",
    "life_expectancy_dataframe = pd.read_csv('/Volumes/GoogleDrive/My Drive/Crime Data/Raw Data/Life Expectancy (Chicago).csv')\n",
    "L_entries_dataframe = pd.read_csv('/Volumes/GoogleDrive/My Drive/Crime Data/Raw Data/L Station Entries (Chicago).csv')"
   ]
  },
  {
   "cell_type": "code",
   "execution_count": 38,
   "metadata": {},
   "outputs": [],
   "source": [
    "# Select LAT and LONG columns, convert to numpy, then drop NAs\n",
    "liquor_locations = liquor_store_dataframe.loc[:,['LATITUDE','LONGITUDE']].dropna().values\n",
    "# grocer_locations = grocery_store_dataframe.loc[:,['LATITUDE','LONGITUDE']].dropna().values\n",
    "crime_locations = crime_dataframe.loc[:,['Latitude', 'Longitude']].dropna().values\n",
    "\n",
    "# Find the distance from the crime to all grocery stores and liquor stores.\n",
    "for crime_index, crime_location in enumerate(crime_locations):\n",
    "    # Record the minimum distance to any liquor store and grocery store\n",
    "    crime_dataframe.loc[crime_index,'closestLiquorStore'] = np.min(np.linalg.norm((liquor_locations - crime_location),axis=1))\n",
    "#     crime_dataframe.loc[crime_index,'closestGroceryStore'] = np.min(np.linalg.norm((grocer_locations - crime_location),axis=1))"
   ]
  },
  {
   "cell_type": "code",
   "execution_count": 39,
   "metadata": {},
   "outputs": [],
   "source": [
    "# Write the new crime data to a temporary file in my workspace\n",
    "writer = pd.ExcelWriter('/Volumes/GoogleDrive/My Drive/Crime Data/Composite Data/Sean Workspace/19_November.xlsx')\n",
    "crime_dataframe.to_excel(writer)\n",
    "writer.save()"
   ]
  },
  {
   "cell_type": "code",
   "execution_count": null,
   "metadata": {},
   "outputs": [],
   "source": []
  },
  {
   "cell_type": "code",
   "execution_count": 77,
   "metadata": {},
   "outputs": [],
   "source": [
    "# Pull the crime dataframe\n",
    "crime_dataframe = pd.read_csv('/Volumes/GoogleDrive/My Drive/Crime Data/Raw Data/Crimes (Chicago).csv').dropna()"
   ]
  },
  {
   "cell_type": "code",
   "execution_count": 87,
   "metadata": {},
   "outputs": [],
   "source": [
    "# Pull the temperature dataframe\n",
    "temp_dataframe = pd.read_csv('/Volumes/GoogleDrive/My Drive/Crime Data/Raw Data/Temperatures (Chicago).csv').drop(columns=['TAVG']).dropna()"
   ]
  },
  {
   "cell_type": "code",
   "execution_count": 79,
   "metadata": {},
   "outputs": [],
   "source": [
    "# Pull the liquor license dataframe\n",
    "liquor_license_dataframe = pd.read_csv('/Volumes/GoogleDrive/My Drive/Crime Data/Raw Data/Liquor Licenses (Chicago).csv').dropna()"
   ]
  },
  {
   "cell_type": "code",
   "execution_count": 139,
   "metadata": {},
   "outputs": [
    {
     "name": "stderr",
     "output_type": "stream",
     "text": [
      "/Users/sean/anaconda3/lib/python3.6/site-packages/IPython/core/interactiveshell.py:3018: DtypeWarning: Columns (1375) have mixed types. Specify dtype option on import or set low_memory=False.\n",
      "  interactivity=interactivity, compiler=compiler, result=result)\n"
     ]
    }
   ],
   "source": [
    "AHS_2001_dataframe = pd.read_csv('/Volumes/GoogleDrive/My Drive/Crime Data/Raw Data/AHS/2001.csv').dropna()\n",
    "AHS_2003_dataframe = pd.read_csv('/Volumes/GoogleDrive/My Drive/Crime Data/Raw Data/AHS/2003.csv').dropna()\n",
    "AHS_2005_dataframe = pd.read_csv('/Volumes/GoogleDrive/My Drive/Crime Data/Raw Data/AHS/2005.csv').dropna()\n",
    "AHS_2007_dataframe = pd.read_csv('/Volumes/GoogleDrive/My Drive/Crime Data/Raw Data/AHS/2007.csv').dropna()\n",
    "AHS_2009_dataframe = pd.read_csv('/Volumes/GoogleDrive/My Drive/Crime Data/Raw Data/AHS/2009.csv').dropna()\n",
    "AHS_2011_dataframe = pd.read_csv('/Volumes/GoogleDrive/My Drive/Crime Data/Raw Data/AHS/2011.csv').dropna()\n",
    "AHS_2013_dataframe = pd.read_csv('/Volumes/GoogleDrive/My Drive/Crime Data/Raw Data/AHS/2013.csv').dropna()\n",
    "AHS_2015_dataframe = pd.read_csv('/Volumes/GoogleDrive/My Drive/Crime Data/Raw Data/AHS/2015.csv').dropna()"
   ]
  },
  {
   "cell_type": "code",
   "execution_count": 93,
   "metadata": {},
   "outputs": [
    {
     "data": {
      "text/plain": [
       "Index(['CONTROL', 'OWNHERE', 'JWNHER', 'RAD', 'JRAS', 'RAD1', 'RAD2', 'RAD3',\n",
       "       'RAD4', 'RAD5',\n",
       "       ...\n",
       "       'RGROC', 'RKIDC', 'RMEDI', 'ROTHE', 'RUTIL', 'IPOV', 'FMR', 'LMED',\n",
       "       'L50', 'L80'],\n",
       "      dtype='object', length=1917)"
      ]
     },
     "execution_count": 93,
     "metadata": {},
     "output_type": "execute_result"
    }
   ],
   "source": [
    "AHS_2001_dataframe.columns"
   ]
  },
  {
   "cell_type": "code",
   "execution_count": 126,
   "metadata": {},
   "outputs": [
    {
     "data": {
      "text/plain": [
       "array([9999, 1680,  520, 5480, 1125, 9993, 2120,  840,  640, 5720, 1640,\n",
       "       7560, 4160, 6080, 3980, 9040, 3320, 3965, 1600, 7500, 3160, 4000,\n",
       "       3760, 3600,  460, 6920, 3120, 6160, 3000, 8280, 5640,  200, 8960,\n",
       "       1560, 4400, 1000, 4280, 8840,  600,  760, 6200, 7600, 5190, 3480,\n",
       "       2285, 4120, 1320, 7160, 6640, 5015, 3360, 2320, 4880, 5560, 7320,\n",
       "       8000,  680, 8200, 5380, 5600, 5880, 6780, 7240, 4720, 1840,  560,\n",
       "       3840,  360, 2800, 2160, 7510, 5000, 8160, 4920, 2680, 6000, 1160,\n",
       "       1920, 6280, 2400, 7680, 6480, 5170, 7400, 1880, 7040, 1440, 8720,\n",
       "       8520, 5080, 2960, 4480, 8400, 3560, 8560,  720, 5960, 9992, 7360,\n",
       "       5775, 5360,  875, 1720, 4900, 5120, 2840, 8880, 8120, 5160, 5920,\n",
       "       9240, 2080, 1760, 9991, 1120,  240,  845, 2020,  160, 6120, 7090,\n",
       "        620, 6840,   80, 3640, 3280, 9320, 2640, 6880, 8040, 7120, 4040,\n",
       "       7480, 2360, 2760, 5240,  275, 7840, 2240, 2440, 3660, 2700, 1960,\n",
       "       8680, 8480])"
      ]
     },
     "execution_count": 126,
     "metadata": {},
     "output_type": "execute_result"
    }
   ],
   "source": [
    "AHS_2001_dataframe['SMSA'].unique()"
   ]
  },
  {
   "cell_type": "code",
   "execution_count": 117,
   "metadata": {},
   "outputs": [],
   "source": [
    "city_codes = json.loads('{\"0080\": \"Arkon, OH\", \"0160\": \"Albany Schenectady Troy, NY\", \"0200\": \"Albuquerque, NM\", \"0240\": \"Allentown Bethlehem Easton, PA\", \"0275\": \"Alton Granite City, IL\", \"0360\": \"Anaheim Santa Ana (Orange County), CA\", \"0460\": \"Appleton Oshkosh Neenah, WI\", \"0520\": \"Atlanta, GA\", \"0560\": \"Atlantic City, NJ\", \"0600\": \"Augusta, GA SC\", \"0640\": \"Austin, TX\", \"0680\": \"Bakersfield, CA\", \"0720\": \"Baltimore, MD\", \"0760\": \"Baton Rouge, LA\", \"0840\": \"Beaumont Port Arthur, TX\", \"0845\": \"Beaver, PA\", \"0875\": \"Bergen Passaic, NJ\", \"1000\": \"Birmingham, AL\", \"1120\": \"Boston, MA\", \"1125\": \"Boulder Longmont, CO\", \"1160\": \"Bridgeport Milford, CT\", \"1320\": \"Canton, OH\", \"1440\": \"Charleston, SC\", \"1560\": \"Chattanooga, TN GA\", \"1600\": \"Chicago, IL\", \"1640\": \"Cincinnati, OH KY IN\", \"1680\": \"Cleveland, OH\", \"1720\": \"Colorado Springs, CO\", \"1760\": \"Columbia, SC\", \"1840\": \"Columbus, OH\", \"1880\": \"Corpus Christi, TX\", \"1920\": \"Dallas, TX\", \"1960\": \"Davenport Rock Island Moline, IA IL\", \"2020\": \"Daytona Beach, FL\", \"2080\": \"Denver, CO\", \"2120\": \"Des Moines, IA\", \"2160\": \"Detroit, MI\", \"2240\": \"Duluth, MN WI\", \"2285\": \"East St. Louis Belleville, IL\", \"2320\": \"El Paso, TX\", \"2360\": \"Erie, PA\", \"2400\": \"Eugene Springfield, OR\", \"2440\": \"Evansville, IN KY\", \"2640\": \"Flint, MI\", \"2680\": \"Fort Lauderdale Hollywood, FL\", \"2700\": \"Fort Myers Cape Coral, FL\", \"2760\": \"Fort Wayne, IN\", \"2800\": \"Fort Worth Arlington, TX\", \"2840\": \"Fresno, CA\", \"2960\": \"Gary Hammond, IN\", \"3000\": \"Grand Rapids, MI\", \"3120\": \"Greensboro Winston Salem High Point, NC\", \"3160\": \"Greenville Spartanburg, SC\", \"3280\": \"Hartford, CT\", \"3320\": \"Honolulu, HI\", \"3360\": \"Houston, TX\", \"3480\": \"Indianapolis, IN\", \"3560\": \"Jackson, MS\", \"3600\": \"Jacksonville, FL\", \"3640\": \"Jersey City, NJ\", \"3660\": \"Johnson City Kingsport Bristol, TN VA\", \"3760\": \"Kansas City, MO KS\", \"3840\": \"Knoxville, TN\", \"3965\": \"Lake County, IL\", \"3980\": \"Lakeland Winter Haven, FL\", \"4000\": \"Lancaster, PA\", \"4040\": \"Lansing East Lansing, MI\", \"4120\": \"Las Vegas, NV\", \"4160\": \"Lawrence Haverhill, MA NH\", \"4280\": \"Lexington Fayette, KY\", \"4400\": \"Little Rock North Little Rock, AR\", \"4480\": \"Los Angeles Long Beach, CA\", \"4720\": \"Madison, WI\", \"4880\": \"McAllen Edinburgh Mission, TX\", \"4900\": \"Melbourne Titusville Palm Bay, FL\", \"4920\": \"Memphis, TN AR MS\", \"5000\": \"Miami Hialeah, FL\", \"5015\": \"Middlesex Somerset Hunterdon, NJ\", \"5080\": \"Milwaukee, WI\", \"5120\": \"Minneapolis St. Paul, MN\", \"5160\": \"Mobile, AL\", \"5170\": \"Modesto, CA\", \"5190\": \"Monmouth Ocean, NJ\", \"5240\": \"Montgomery, AL\", \"5360\": \"Nashville, TN\", \"5380\": \"Nassau Suffolk, NY\", \"5480\": \"New Haven Meriden, CT\", \"5560\": \"New Orleans, LA\", \"5600\": \"New York City, NY\", \"5640\": \"Newark, NJ\", \"5720\": \"Norfolk Virginia Beach\", \"5775\": \"Oakland, CA\", \"5880\": \"Oklahoma City, OK\", \"5920\": \"Omaha, NE IA\", \"5960\": \"Orlando, FL\", \"6000\": \"Oxnard Ventura, CA\", \"6080\": \"Pensacola, FL\", \"6120\": \"Peoria, IL\", \"6160\": \"Philadelphia, PA NJ\", \"6200\": \"Phoenix, AZ\", \"6280\": \"Pittsburgh, PA\", \"6480\": \"Providence, RI\", \"6640\": \"Raleigh Durham, NC\", \"6780\": \"Riverside San Bernardino, CA\", \"6840\": \"Rochester, NY\", \"6880\": \"Rockford, IL\", \"6920\": \"Sacramento, CA\", \"7040\": \"St. Louis, MO IL\", \"7090\": \"Salem Gloucester, MA\", \"7120\": \"Salinas Seaside Monterey, CA\", \"7160\": \"Salt Lake City Ogden, UT\", \"7240\": \"San Antonio, TX\", \"7280\": \"San Bernardino Riverside, CA\", \"7320\": \"San Diego, CA\", \"7360\": \"San Francisco, CA\", \"7400\": \"San Jose, CA\", \"7480\": \"Santa Barbara Santa Maria Lompoc, CA\", \"7500\": \"Santa Rosa Petaluma, CA\", \"7510\": \"Sarasota, FL\", \"7560\": \"Scranton Wilkes Barre, PA\", \"7600\": \"Seattle, WA\", \"7680\": \"Shreveport, LA\", \"7840\": \"Spokane, WA\", \"8000\": \"Springfield, MA\", \"8040\": \"Stamford, CT\", \"8120\": \"Stockton, CA\", \"8160\": \"Syracuse, NY\", \"8200\": \"Tacoma, WA\", \"8280\": \"Tampa St. Petersburg Clearwater, FL\", \"8400\": \"Toledo, OH\", \"8480\": \"Trenton, NJ\", \"8520\": \"Tucson, AZ\", \"8560\": \"Tulsa, OK\", \"8680\": \"Utica Rome, NY\", \"8720\": \"Vallejo Fairfield Napa, CA\", \"8840\": \"Washington, DC MD VA\", \"8880\": \"Waterbury, CT\", \"8960\": \"West Palm Beach Boca Raton, FL\", \"9040\": \"Wichita, KS\", \"9240\": \"Worcester, MA\", \"9320\": \"Youngstown Warren, OH\", \"9991\": \"Chicago Areas \", \"9992\": \"New York Areas \", \"9993\": \"Northern New Jersey Areas \", \"9999\": \"Non Metro or Suppressed MS\"}')"
   ]
  },
  {
   "cell_type": "code",
   "execution_count": 163,
   "metadata": {},
   "outputs": [
    {
     "data": {
      "text/plain": [
       "array([  -6,  300,  270,  500,  530,  350,  635,  815,  519,  600,  325,\n",
       "        535,  525,  840,  875,  529,  545,  135, 1000,  700,  690, 1100,\n",
       "        605, 1300,  515,  161,  400,  560,  609,  550,  450,  650,  860,\n",
       "        810,  730,  580,  585,  540, 2302,  850,  640,  410,  750,  475,\n",
       "        514,  444,  665,  587,  799,   88,  485,  660,  415,  375,  460,\n",
       "        175,  830,   60,  180,  625,  465,  549,  575, 1250,  669,  735,\n",
       "        879,  146,  680,  265,  510,  539,  925,  970,  895,  675,  900,\n",
       "       1500,  740,  439,  495,  805,  295,  765,  425, 1230,  865,  206,\n",
       "        345,    1,  138,  405, 1050,  332, 1035,  800,  569,  824,  780,\n",
       "        870,  490,  445,   54,  610,  950, 1450,  760,  820,  920,  785,\n",
       "        565,  995,  200,  160,  559,  337,  639, 1150,  430,  638, 1195,\n",
       "       1090, 1200,  739, 1236,  755,  320,  630,  948,  470,  980,  671,\n",
       "        790, 1400,  477,  888,  775, 1255,  990, 1010,  595, 1140,  715,\n",
       "       1075,  563, 1165,  695,  158,  930, 1130,  725, 1125,  566, 1065,\n",
       "       1325,  620,  964, 1380,  985,  385, 1370,  745,  498,  339,  561,\n",
       "        489,  652,  473,  825,  940,  890,  921,  615,  240,   95,   34,\n",
       "        520,  543,   97,  570,  235,  209,   94,  462,  204,  571,  855,\n",
       "        670,  401,  694,  710,  250,  395, 1025, 1180,  193,  130,  128,\n",
       "        720, 1480,  334,  590,  636,  915,  387,  978,  309,  734, 1080,\n",
       "       1295, 1026,  531,  308, 1350,  429,   75,  330, 1245,  253,  370,\n",
       "        281,  290,  327,  169, 1001, 1395,  685,  522,  390,  340,  555,\n",
       "        164,  386,  220, 1070,    2,  184,  360,  179,  102,  722,  492,\n",
       "        275,  483,  516,  518,  645,  268,  293,  861,  165,  505,  693,\n",
       "        963,  682,  582,  435,   83,  886,  283,  546,  304,  237,  172,\n",
       "        225,  396,  150,  488,  736,  657,  125,  664,  792,  502,  598,\n",
       "        947, 1345,  369,  420,  835, 1196,  384,  380,  455,  689,  668,\n",
       "        382,  789, 1110,  312,  955,  391,  480,    6, 1272,  880,  170,\n",
       "        723, 1425,  604,  779,  449,  533,  100,  185,  355,  145,  836,\n",
       "        659,  365,  413,  381,  118,  335, 1085,  556,  572,  537,  932,\n",
       "        699,  845,  310,  418, 1046, 1495, 1045,  187,  378,  286, 1040,\n",
       "        195,  363,  469,  683,  188,   30,  285,   13,  486,  137,  155,\n",
       "        341,  975,   65,  181,  991,  315, 1095,  151,  316,  244,  833,\n",
       "        301,  210,  241,  945,  394,  440,  299,  326,  245,  910,  987,\n",
       "        769,  140,   50,   70,   79,  795,  496, 1054,  905,  599,  761,\n",
       "        239,  136, 1225,  586, 1322,   77,   80,   90,  406,  280, 1285,\n",
       "        152,   73,  223,  112,  120,  142,  497,  467,  133,  148,  139,\n",
       "        479,  576,  233,  348,  119,   63,  131,  284,  397,  260,  388,\n",
       "        153,  853,  749,  544,  149,  463,  612,  115,  116,  196,  167,\n",
       "        778,  770,   82,  885,  534,  705,   22,   36,  389,  649,  329,\n",
       "        624,  162, 1133, 1231,  721, 1280,  724, 1105,  536,  577,  662,\n",
       "        417,  809, 1355, 1020,  377, 1115,  476,  641,  507,  842, 1015,\n",
       "        512, 1312,  436,  372,  236,  487,  578, 1240,  159,  541,  783,\n",
       "        758, 1270,  902, 1202, 1060,  793,  672,  874, 1234,  621,  306,\n",
       "        173,   93, 1160,  506,  588,  461,  613,  247,  757, 1290,  457,\n",
       "        255,  424,  869,  443,  984,  938,  742,   66,  214, 1460,  230,\n",
       "        407,  611,  276,  583, 1188, 1069,  957,  716,  163,  656, 1475,\n",
       "        844,  706,  752,  211,   12,  110, 1138,  434,  807,  663,  679,\n",
       "        794,  607,  960,  423,  714,  614,  379,  655,  644,  459,  409,\n",
       "        238,  291,  274,  538,  784, 1185,  305, 1108,  942,  523,  294,\n",
       "        804,  766,  627, 1470,  681,  432,  296,  509,  979,  935,  839,\n",
       "        619,  719,   24,  117, 1210,  132,  351,  371,  343, 1378,  177,\n",
       "        261,  524,  499,  129,  889, 1135, 1051,  126, 1204,   25,  774,\n",
       "         52,   23,  733,  215,  107,  526,   40,  593,  143,  249,  288,\n",
       "         31,  803,  219, 1175,   41,  189,  362,  707,  217,  398,  201,\n",
       "        857,  227,  618,  123, 1030,  399,  686,  983, 1067,  478,  108,\n",
       "        266,  122,  494, 1066, 1159,  744,  501,  328,  419,  359,  965,\n",
       "        651,   57, 1120,  726, 1005,  592,  654,  993,  709,  513,  666,\n",
       "        342,  356,  573,  798, 1311, 1022,  194,  421,  199,  746,  491,\n",
       "       1032,  564,  242, 1039,  319,  402,   96,  344,  743,  208,  901,\n",
       "        923,  813,  191,  751, 1420,  579,  892,  567,  178, 1260,  289,\n",
       "        551,  482,  269,  352, 1141,  596,  658,  676,  909,  127,  589,\n",
       "        817,  471,  336, 1435,  729,  456,  687,  205,  759,  876,  867,\n",
       "       1004,  258,  257,   91, 1131,  453,  190,   51, 1177, 1239,  897,\n",
       "        234,   99,  454,   45,  314,  232,   98,  602,  264,   87, 1011,\n",
       "       1340,   85,  608,  557,  278,  156,  168,  448,  787,  367,  282,\n",
       "        364,   62,  581,  186,  267,   55,  642,  176,  302,  692,  764,\n",
       "        229,  361,  147,  174,  731, 1145,  704,  631,  712,  906,  738,\n",
       "        873,  843,  547,  737,  626,   92,  594,  202,  349,   67, 1017,\n",
       "       1310,  732,  937, 1485,  354,   33,  144,   89,  198,  542,  166,\n",
       "        438,  183,  697,  262, 1375,  552,  321,  928,  629,  412, 1157,\n",
       "        259,  852,  422,  698,  503,  212,  333,  961,  442,  134,   37,\n",
       "        103,  493,  667,  532,  392,  231,  504,   18, 1434, 1024,  772,\n",
       "        427, 1275,  254,  376,  673,  287,  441,  408,   84,  848,  263,\n",
       "        838,  207,  383,  298,  141,  527,  796,  111,   59,  907,  101,\n",
       "        374,  273,  472,  622,  912,  451,  517,  182,  252,  713, 1076,\n",
       "        702, 1243,  878, 1365,  248, 1215, 1335, 1055,  896, 1058,  331,\n",
       "        647,  121, 1389,  818, 1237, 1042,  243,  548,  511,  661,  521,\n",
       "       1153,  727, 1092,  653,   42, 1385,  603,  637,  297,  558, 1014,\n",
       "        831,  866,  768,  703,  924,  623,  791, 1174,   68,  956,  452,\n",
       "        464,  632,  353,  221, 1037,  256,   76,  416,   35,  358,  303,\n",
       "       1034, 1061,  222,  403,   56, 1320,   15,  124,   58,  228,  323,\n",
       "        105,  466,    8,   10,  279, 1007,  106,   26, 1244,    3,  606,\n",
       "        899,  574,  962, 1059,  171,  481,  788, 1093, 1155, 1170,  851,\n",
       "       1287,  197,  684,  366,  701,  446, 1118,  949, 1073,  904,  373,\n",
       "        447,  528, 1052,  468, 1430, 1289,  997,  324,  691,  317,  411,\n",
       "        633,  951,  628, 1465,   71,  823, 1190,  553,  696,  224,  988,\n",
       "        977,  114,  104,  554,  192, 1305,  584,  811,  634, 1220, 1265,\n",
       "        859, 1103,    5,  982, 1490,  931, 1455, 1235,  999,  967, 1099,\n",
       "        763])"
      ]
     },
     "execution_count": 163,
     "metadata": {},
     "output_type": "execute_result"
    }
   ],
   "source": [
    "# len(AHS_2005_dataframe[AHS_2005_dataframe['SMSA']==1600]) # also 9991\n",
    "AHS_2001_dataframe['RENT'].unique()"
   ]
  },
  {
   "cell_type": "code",
   "execution_count": null,
   "metadata": {},
   "outputs": [],
   "source": []
  }
 ],
 "metadata": {
  "kernelspec": {
   "display_name": "Python 3",
   "language": "python",
   "name": "python3"
  },
  "language_info": {
   "codemirror_mode": {
    "name": "ipython",
    "version": 3
   },
   "file_extension": ".py",
   "mimetype": "text/x-python",
   "name": "python",
   "nbconvert_exporter": "python",
   "pygments_lexer": "ipython3",
   "version": "3.6.6"
  }
 },
 "nbformat": 4,
 "nbformat_minor": 2
}
