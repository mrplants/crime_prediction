{
 "cells": [
  {
   "cell_type": "code",
   "execution_count": 1,
   "metadata": {},
   "outputs": [],
   "source": [
    "import pandas as pd\n",
    "import json\n",
    "import matplotlib.pyplot as plt\n",
    "import numpy as np\n",
    "import os"
   ]
  },
  {
   "cell_type": "code",
   "execution_count": 13,
   "metadata": {},
   "outputs": [],
   "source": [
    "################################\n",
    "# NON-HYPERPARAMETER CONSTANTS #\n",
    "################################\n",
    "final_dataset_location = '/Volumes/GoogleDrive/My Drive/Crime Data/Final Folder/'\n",
    "playground_dataset_location = '/Volumes/GoogleDrive/My Drive/Crime Data/Composute Data/Sean Workspace/'\n",
    "trial_file_location = '/Users/sean/Documents/Education/Stanford/230/Project/Sean/Trials/'\n",
    "# trial_file_location = '/home/ec2-user/cs230/crime_prediction/Sean/Trials/'\n",
    "pickled_model_location = '/Users/sean/Documents/Education/Stanford/230/Project/Sean/Trials/Pickled Models/Trial %d.ckpt'\n",
    "# pickled_model_location = '/home/ec2-user/cs230/crime_prediction/Sean/Trials/Pickled Models/Trial %d.ckpt'\n",
    "trial_file_format = 'Trial %d.xlsx'\n",
    "epochs_between_prints = 100\n",
    "hyperparameter_file_columns = ['Epoch Cost',\n",
    "                               'Train Accuracy',\n",
    "                               'Dev Accuracy',\n",
    "                               'Duration',\n",
    "                               'Dev Set Proportion',\n",
    "                               'Test Set Proportion',\n",
    "                               'Train Set Proportion',\n",
    "                               'Learning Rate',\n",
    "                               'Goal Total Epochs',\n",
    "                               'Minibatch Size',\n",
    "                               'Hidden Units per Layer',\n",
    "                               'Hidden Layers',\n",
    "                               'Dataset',\n",
    "                               'Optimizer Name',\n",
    "                               'L2 Regularization Lambda']"
   ]
  },
  {
   "cell_type": "code",
   "execution_count": 121,
   "metadata": {},
   "outputs": [
    {
     "name": "stdout",
     "output_type": "stream",
     "text": [
      "Trial not recorded.\n"
     ]
    }
   ],
   "source": [
    "###################################################\n",
    "# RETRIEVE AND PLOT THE MODEL'S TRAINING PROGRESS #\n",
    "###################################################\n",
    "\n",
    "trial_number = 42\n",
    "\n",
    "if os.path.isfile(trial_file_location+trial_file_format % trial_number):\n",
    "    hyperparameter_data = pd.read_excel(trial_file_location+trial_file_format % trial_number)\n",
    "    costs = hyperparameter_data['Epoch Cost'].values\n",
    "    train_accuracies = hyperparameter_data['Train Accuracy'].values\n",
    "    dev_accuracies = hyperparameter_data['Dev Accuracy'].values\n",
    "    average_duration = np.mean(hyperparameter_data['Duration'].values)\n",
    "    \n",
    "    # Print best dev accuracy and corresponding test accuracy\n",
    "    best_dev_index = np.argmax(dev_accuracies)+1\n",
    "    print('There have been %d training epochs.' % len(costs))\n",
    "    print('The best dev set accuracy is %f.' % dev_accuracies[best_dev_index])\n",
    "    print('The corresponding train accuracy is %f.' % train_accuracies[best_dev_index])\n",
    "    print('This was recorded on epoch %d.' % best_dev_index)\n",
    "    print('Average epoch duration is %f seconds.' % average_duration)\n",
    "\n",
    "    # Plot cost\n",
    "    cost_line, = plt.plot(np.squeeze(costs))\n",
    "    plt.ylabel('Cost')\n",
    "    plt.xlabel('Number of Epochs')\n",
    "    plt.show()\n",
    "\n",
    "    # Plot train and dev accuracy\n",
    "    train_line, = plt.plot(np.squeeze(train_accuracies))\n",
    "    dev_line, = plt.plot(np.squeeze(dev_accuracies))\n",
    "    plt.ylabel('Accuracy')\n",
    "    plt.xlabel('Number of Epochs')\n",
    "    plt.show()\n",
    "    \n",
    "    # Print the remaining parameters\n",
    "    print('Other Hyperparameters (only first epoch):\\n')\n",
    "    for hyperparameter in hyperparameter_file_columns:\n",
    "        if hyperparameter in ['Epoch Cost', 'Train Accuracy', 'Dev Accuracy', 'Duration']: continue\n",
    "        print('Average {0:30} is {1:>20}'.format(hyperparameter, hyperparameter_data[hyperparameter][0]))\n",
    "else:\n",
    "    print(\"Trial not recorded.\")"
   ]
  },
  {
   "cell_type": "code",
   "execution_count": null,
   "metadata": {},
   "outputs": [],
   "source": []
  }
 ],
 "metadata": {
  "kernelspec": {
   "display_name": "Python 3",
   "language": "python",
   "name": "python3"
  },
  "language_info": {
   "codemirror_mode": {
    "name": "ipython",
    "version": 3
   },
   "file_extension": ".py",
   "mimetype": "text/x-python",
   "name": "python",
   "nbconvert_exporter": "python",
   "pygments_lexer": "ipython3",
   "version": "3.6.6"
  }
 },
 "nbformat": 4,
 "nbformat_minor": 2
}
