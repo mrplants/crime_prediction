{
 "cells": [
  {
   "cell_type": "code",
   "execution_count": 4,
   "metadata": {},
   "outputs": [],
   "source": [
    "import pandas as pd\n",
    "import json\n",
    "import matplotlib.pyplot as plt\n",
    "import numpy as np\n",
    "import os"
   ]
  },
  {
   "cell_type": "code",
   "execution_count": 5,
   "metadata": {},
   "outputs": [],
   "source": [
    "################################\n",
    "# NON-HYPERPARAMETER CONSTANTS #\n",
    "################################\n",
    "final_dataset_location = '/Volumes/GoogleDrive/My Drive/Crime Data/Final Folder/'\n",
    "playground_dataset_location = '/Volumes/GoogleDrive/My Drive/Crime Data/Composute Data/Sean Workspace/'\n",
    "trial_file_location = '/Users/sean/Documents/Education/Stanford/230/Project/Sean/Trials/'\n",
    "pickled_model_location = '/Users/sean/Documents/Education/Stanford/230/Project/Sean/Trials/Pickled Models/Trial %d.ckpt'\n",
    "trial_file_format = 'Trial %d.xlsx'\n",
    "epochs_between_prints = 100\n",
    "hyperparameter_file_columns = ['Epoch Cost',\n",
    "                               'Train Accuracy',\n",
    "                               'Dev Accuracy',\n",
    "                               'Epoch Duration',\n",
    "                               'Dev Set Proportion',\n",
    "                               'Test Set Proportion',\n",
    "                               'Train Set Proportion',\n",
    "                               'Learning Rate',\n",
    "                               'Goal Total Epochs',\n",
    "                               'Minibatch Size',\n",
    "                               'Hidden Units per Layer',\n",
    "                               'Hidden Layers',\n",
    "                               'Dataset',\n",
    "                               'Optimizer Name']"
   ]
  },
  {
   "cell_type": "code",
   "execution_count": 12,
   "metadata": {},
   "outputs": [
    {
     "name": "stdout",
     "output_type": "stream",
     "text": [
      "The best dev set accuracy is 0.309871\n",
      "The corresponding train accuracy is 0.308248\n",
      "This was recorded on epoch 2\n"
     ]
    },
    {
     "data": {
      "image/png": "[encoded data removed]",
      "text/plain": [
       "<Figure size 432x288 with 1 Axes>"
      ]
     },
     "metadata": {
      "needs_background": "light"
     },
     "output_type": "display_data"
    },
    {
     "data": {
      "image/png": "[encoded data removed]",
      "text/plain": [
       "<Figure size 432x288 with 1 Axes>"
      ]
     },
     "metadata": {
      "needs_background": "light"
     },
     "output_type": "display_data"
    }
   ],
   "source": [
    "###################################################\n",
    "# RETRIEVE AND PLOT THE MODEL'S TRAINING PROGRESS #\n",
    "###################################################\n",
    "\n",
    "trial_number = 32\n",
    "\n",
    "if os.path.isfile(trial_file_location+trial_file_format % trial_number):\n",
    "    hyperparameter_data = pd.read_excel(trial_file_location+trial_file_format % trial_number)\n",
    "    costs = hyperparameter_data['Epoch Cost'].values\n",
    "    train_accuracies = hyperparameter_data['Train Accuracy'].values\n",
    "    dev_accuracies = hyperparameter_data['Dev Accuracy'].values\n",
    "    \n",
    "    # Print best dev accuracy and corresponding test accuracy\n",
    "    best_dev_index = np.argmax(dev_accuracies)\n",
    "    print('The best dev set accuracy is %f' % dev_accuracies[best_dev_index])\n",
    "    print('The corresponding train accuracy is %f' % train_accuracies[best_dev_index])\n",
    "    print('This was recorded on epoch %d' % best_dev_index)\n",
    "\n",
    "    # Plot cost\n",
    "    cost_line, = plt.plot(np.squeeze(costs))\n",
    "    plt.ylabel('Cost')\n",
    "    plt.xlabel('Iterations (by 5)')\n",
    "    # plt.title('Learning rate = ' + str(learning_rate))\n",
    "    plt.show()\n",
    "\n",
    "    # Plot train and dev accuracy\n",
    "    train_line, = plt.plot(np.squeeze(train_accuracies))\n",
    "    dev_line, = plt.plot(np.squeeze(dev_accuracies))\n",
    "    plt.ylabel('Accuracy')\n",
    "    plt.xlabel('Number of Epochs')\n",
    "    # plt.title('Learning rate = ' + str(learning_rate))\n",
    "    plt.show()\n",
    "else:\n",
    "    print(\"Trial not recorded.\")"
   ]
  },
  {
   "cell_type": "code",
   "execution_count": null,
   "metadata": {},
   "outputs": [],
   "source": []
  }
 ],
 "metadata": {
  "kernelspec": {
   "display_name": "Python 3",
   "language": "python",
   "name": "python3"
  },
  "language_info": {
   "codemirror_mode": {
    "name": "ipython",
    "version": 3
   },
   "file_extension": ".py",
   "mimetype": "text/x-python",
   "name": "python",
   "nbconvert_exporter": "python",
   "pygments_lexer": "ipython3",
   "version": "3.6.6"
  }
 },
 "nbformat": 4,
 "nbformat_minor": 2
}
