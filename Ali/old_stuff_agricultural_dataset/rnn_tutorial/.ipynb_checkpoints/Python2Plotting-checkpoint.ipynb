{
 "cells": [
  {
   "cell_type": "code",
   "execution_count": 15,
   "metadata": {},
   "outputs": [],
   "source": [
    "import pandas as pd\n",
    "# import pathlib as pl\n",
    "import numpy as np\n",
    "import matplotlib.pyplot as plt\n",
    "\n"
   ]
  },
  {
   "cell_type": "code",
   "execution_count": 20,
   "metadata": {
    "collapsed": true
   },
   "outputs": [],
   "source": [
    "# https://stackoverflow.com/questions/4530611/saving-and-loading-objects-and-using-pickle\n",
    "import pickle\n",
    "dataPath = r'C:/Users/User/Desktop/newMe/newMe/Training/Stanford/Deep Learning Class/Project/python_code/datafile/'\n",
    "\n",
    "def pObj_old(obj, fileName):\n",
    "    path = dataPath+fileName+\".pickle\"\n",
    "    pickle.dump( obj, open( path, \"wb\" ) )\n",
    "\n",
    "def rObj_old(fileName):\n",
    "    path = dataPath+fileName+\".pickle\"\n",
    "    return pickle.load( open( path, \"rb\" ) )\n",
    "\n",
    "\n",
    "\n",
    "\n",
    "def pObj(df, fileName):\n",
    "    path = dataPath+fileName+\".csv\"\n",
    "    df.to_csv(path, sep=',', index=False)\n",
    "\n",
    "def rObj(fileName):\n",
    "    path = dataPath+fileName+\".csv\"\n",
    "    return pd.read_csv(path, sep=',') "
   ]
  },
  {
   "cell_type": "code",
   "execution_count": 22,
   "metadata": {},
   "outputs": [],
   "source": [
    "abc =rObj('abc')"
   ]
  },
  {
   "cell_type": "code",
   "execution_count": null,
   "metadata": {
    "collapsed": true
   },
   "outputs": [],
   "source": [
    "#plot data\n",
    "x = np.arange(100).reshape(1,100)\n",
    "y = x**2"
   ]
  },
  {
   "cell_type": "code",
   "execution_count": 24,
   "metadata": {},
   "outputs": [
    {
     "data": {
      "image/png": "[encoded data removed]",
      "text/plain": [
       "<matplotlib.figure.Figure at 0xb4192b0>"
      ]
     },
     "metadata": {},
     "output_type": "display_data"
    }
   ],
   "source": [
    "plt.scatter(abc.x,abc.y)\n",
    "# plt.scatter(x,y)\n",
    "plt.show()"
   ]
  },
  {
   "cell_type": "code",
   "execution_count": null,
   "metadata": {},
   "outputs": [],
   "source": []
  },
  {
   "cell_type": "code",
   "execution_count": null,
   "metadata": {
    "collapsed": true
   },
   "outputs": [],
   "source": []
  }
 ],
 "metadata": {
  "kernelspec": {
   "display_name": "Python 2",
   "language": "python",
   "name": "python2"
  },
  "language_info": {
   "codemirror_mode": {
    "name": "ipython",
    "version": 2
   },
   "file_extension": ".py",
   "mimetype": "text/x-python",
   "name": "python",
   "nbconvert_exporter": "python",
   "pygments_lexer": "ipython2",
   "version": "2.7.14"
  }
 },
 "nbformat": 4,
 "nbformat_minor": 2
}
