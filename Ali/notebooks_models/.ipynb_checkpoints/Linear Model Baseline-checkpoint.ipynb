{
 "cells": [
  {
   "cell_type": "code",
   "execution_count": 1,
   "metadata": {},
   "outputs": [
    {
     "data": {
      "text/plain": [
       "'C:\\\\Users\\\\User\\\\Anaconda2\\\\envs\\\\py35'"
      ]
     },
     "execution_count": 1,
     "metadata": {},
     "output_type": "execute_result"
    }
   ],
   "source": [
    "import tensorflow as tf\n",
    "import sys\n",
    "\n",
    "import pandas as pd\n",
    "import pathlib as pl\n",
    "import numpy as np\n",
    "sys.prefix"
   ]
  },
  {
   "cell_type": "code",
   "execution_count": null,
   "metadata": {},
   "outputs": [],
   "source": [
    "import io\n",
    "# import cv2\n",
    "import base64 \n",
    "import numpy as np\n",
    "from PIL import Image"
   ]
  },
  {
   "cell_type": "code",
   "execution_count": null,
   "metadata": {
    "collapsed": true
   },
   "outputs": [],
   "source": [
    "\n",
    "\n",
    "# Take in base64 string and return PIL image\n",
    "def stringToImage(base64_string):\n",
    "    imgdata = base64.b64decode(base64_string)\n",
    "    return Image.open(io.BytesIO(imgdata))\n",
    "\n",
    "# convert PIL Image to an RGB image( technically a numpy array ) that's compatible with opencv\n",
    "def toRGB(image):\n",
    "    return cv2.cvtColor(np.array(image), cv2.COLOR_BGR2RGB)"
   ]
  },
  {
   "cell_type": "code",
   "execution_count": 2,
   "metadata": {},
   "outputs": [
    {
     "name": "stdout",
     "output_type": "stream",
     "text": [
      "The scikit-learn version is 0.20.0.\n",
      "The pandas version is 0.23.4.\n"
     ]
    }
   ],
   "source": [
    "#library of functions here\n",
    "#df.dropna()\n",
    "\n",
    "from sklearn.preprocessing import StandardScaler\n",
    "import sklearn \n",
    "print('The scikit-learn version is {}.'.format(sklearn.__version__))\n",
    "print('The pandas version is {}.'.format(pd.__version__))\n",
    "def normalizeInputs(x, y):\n",
    "    sc = StandardScaler()\n",
    "    x = sc.fit_transform(x)\n",
    "    y = sc.fit_transform(y)\n",
    "    return x,y\n"
   ]
  },
  {
   "cell_type": "code",
   "execution_count": 3,
   "metadata": {},
   "outputs": [
    {
     "name": "stderr",
     "output_type": "stream",
     "text": [
      "C:\\Users\\User\\Anaconda2\\envs\\py35\\lib\\site-packages\\pandas\\io\\excel.py:329: FutureWarning: The `sheetname` keyword is deprecated, use `sheet_name` instead\n",
      "  **kwds)\n"
     ]
    },
    {
     "name": "stdout",
     "output_type": "stream",
     "text": [
      "done\n"
     ]
    },
    {
     "data": {
      "text/html": [
       "<div>\n",
       "<style scoped>\n",
       "    .dataframe tbody tr th:only-of-type {\n",
       "        vertical-align: middle;\n",
       "    }\n",
       "\n",
       "    .dataframe tbody tr th {\n",
       "        vertical-align: top;\n",
       "    }\n",
       "\n",
       "    .dataframe thead th {\n",
       "        text-align: right;\n",
       "    }\n",
       "</style>\n",
       "<table border=\"1\" class=\"dataframe\">\n",
       "  <thead>\n",
       "    <tr style=\"text-align: right;\">\n",
       "      <th></th>\n",
       "      <th>hr</th>\n",
       "      <th>min</th>\n",
       "      <th>Latitude</th>\n",
       "      <th>Longitude</th>\n",
       "      <th>categoryCode</th>\n",
       "      <th>Community Area</th>\n",
       "      <th>District</th>\n",
       "      <th>PERCENT AGED UNDER 18 OR OVER 64</th>\n",
       "      <th>PERCENT OF HOUSING CROWDED</th>\n",
       "      <th>PER CAPITA INCOME</th>\n",
       "      <th>PERCENT AGED 16+ UNEMPLOYED</th>\n",
       "      <th>HARDSHIP INDEX</th>\n",
       "      <th>PERCENT HOUSEHOLDS BELOW POVERTY</th>\n",
       "      <th>PERCENT AGED 25+ WITHOUT HIGH SCHOOL DIPLOMA</th>\n",
       "      <th>LiquorStoreCount_District</th>\n",
       "    </tr>\n",
       "  </thead>\n",
       "  <tbody>\n",
       "    <tr>\n",
       "      <th>0</th>\n",
       "      <td>17</td>\n",
       "      <td>0</td>\n",
       "      <td>42.005362</td>\n",
       "      <td>-87.671555</td>\n",
       "      <td>6</td>\n",
       "      <td>1</td>\n",
       "      <td>24</td>\n",
       "      <td>27.5</td>\n",
       "      <td>7.7</td>\n",
       "      <td>23939</td>\n",
       "      <td>8.7</td>\n",
       "      <td>39</td>\n",
       "      <td>23.6</td>\n",
       "      <td>18.2</td>\n",
       "      <td>169.0</td>\n",
       "    </tr>\n",
       "    <tr>\n",
       "      <th>1</th>\n",
       "      <td>16</td>\n",
       "      <td>0</td>\n",
       "      <td>42.004741</td>\n",
       "      <td>-87.665712</td>\n",
       "      <td>32</td>\n",
       "      <td>1</td>\n",
       "      <td>24</td>\n",
       "      <td>27.5</td>\n",
       "      <td>7.7</td>\n",
       "      <td>23939</td>\n",
       "      <td>8.7</td>\n",
       "      <td>39</td>\n",
       "      <td>23.6</td>\n",
       "      <td>18.2</td>\n",
       "      <td>169.0</td>\n",
       "    </tr>\n",
       "    <tr>\n",
       "      <th>2</th>\n",
       "      <td>10</td>\n",
       "      <td>0</td>\n",
       "      <td>42.014983</td>\n",
       "      <td>-87.666882</td>\n",
       "      <td>8</td>\n",
       "      <td>1</td>\n",
       "      <td>24</td>\n",
       "      <td>27.5</td>\n",
       "      <td>7.7</td>\n",
       "      <td>23939</td>\n",
       "      <td>8.7</td>\n",
       "      <td>39</td>\n",
       "      <td>23.6</td>\n",
       "      <td>18.2</td>\n",
       "      <td>169.0</td>\n",
       "    </tr>\n",
       "    <tr>\n",
       "      <th>3</th>\n",
       "      <td>16</td>\n",
       "      <td>0</td>\n",
       "      <td>42.008437</td>\n",
       "      <td>-87.673834</td>\n",
       "      <td>8</td>\n",
       "      <td>1</td>\n",
       "      <td>24</td>\n",
       "      <td>27.5</td>\n",
       "      <td>7.7</td>\n",
       "      <td>23939</td>\n",
       "      <td>8.7</td>\n",
       "      <td>39</td>\n",
       "      <td>23.6</td>\n",
       "      <td>18.2</td>\n",
       "      <td>169.0</td>\n",
       "    </tr>\n",
       "    <tr>\n",
       "      <th>4</th>\n",
       "      <td>22</td>\n",
       "      <td>0</td>\n",
       "      <td>42.021138</td>\n",
       "      <td>-87.668724</td>\n",
       "      <td>32</td>\n",
       "      <td>1</td>\n",
       "      <td>24</td>\n",
       "      <td>27.5</td>\n",
       "      <td>7.7</td>\n",
       "      <td>23939</td>\n",
       "      <td>8.7</td>\n",
       "      <td>39</td>\n",
       "      <td>23.6</td>\n",
       "      <td>18.2</td>\n",
       "      <td>169.0</td>\n",
       "    </tr>\n",
       "  </tbody>\n",
       "</table>\n",
       "</div>"
      ],
      "text/plain": [
       "   hr  min   Latitude  Longitude  categoryCode  Community Area  District  \\\n",
       "0  17    0  42.005362 -87.671555             6               1        24   \n",
       "1  16    0  42.004741 -87.665712            32               1        24   \n",
       "2  10    0  42.014983 -87.666882             8               1        24   \n",
       "3  16    0  42.008437 -87.673834             8               1        24   \n",
       "4  22    0  42.021138 -87.668724            32               1        24   \n",
       "\n",
       "   PERCENT AGED UNDER 18 OR OVER 64  PERCENT OF HOUSING CROWDED  \\\n",
       "0                              27.5                         7.7   \n",
       "1                              27.5                         7.7   \n",
       "2                              27.5                         7.7   \n",
       "3                              27.5                         7.7   \n",
       "4                              27.5                         7.7   \n",
       "\n",
       "   PER CAPITA INCOME   PERCENT AGED 16+ UNEMPLOYED  HARDSHIP INDEX  \\\n",
       "0               23939                          8.7              39   \n",
       "1               23939                          8.7              39   \n",
       "2               23939                          8.7              39   \n",
       "3               23939                          8.7              39   \n",
       "4               23939                          8.7              39   \n",
       "\n",
       "   PERCENT HOUSEHOLDS BELOW POVERTY  \\\n",
       "0                              23.6   \n",
       "1                              23.6   \n",
       "2                              23.6   \n",
       "3                              23.6   \n",
       "4                              23.6   \n",
       "\n",
       "   PERCENT AGED 25+ WITHOUT HIGH SCHOOL DIPLOMA  LiquorStoreCount_District  \n",
       "0                                          18.2                      169.0  \n",
       "1                                          18.2                      169.0  \n",
       "2                                          18.2                      169.0  \n",
       "3                                          18.2                      169.0  \n",
       "4                                          18.2                      169.0  "
      ]
     },
     "execution_count": 3,
     "metadata": {},
     "output_type": "execute_result"
    }
   ],
   "source": [
    "#read in Excel file\n",
    "# path = r'C:/Users/User/Documents/CS230 Project/chicago crime/crime_ocurrences2018-10-24 10-41-33.xlsx'\n",
    "path = r'C:/Users/User/Documents/CS230 Project/chicago crime/crime_socio_lqr_2018-10-25 22-35-49.xlsx'\n",
    "df = pd.read_excel(open(path,'rb'), sheetname='data')\n",
    "\n",
    "print(\"done\")\n",
    "df.head()\n",
    "#https://stackoverflow.com/questions/17063458/reading-an-excel-file-in-python-using-pandas"
   ]
  },
  {
   "cell_type": "code",
   "execution_count": 4,
   "metadata": {},
   "outputs": [
    {
     "name": "stdout",
     "output_type": "stream",
     "text": [
      "['hr', 'min', 'Latitude', 'Longitude', 'Community Area', 'District', 'PERCENT AGED UNDER 18 OR OVER 64', 'PERCENT OF HOUSING CROWDED', 'PER CAPITA INCOME ', 'PERCENT AGED 16+ UNEMPLOYED', 'HARDSHIP INDEX', 'PERCENT HOUSEHOLDS BELOW POVERTY', 'PERCENT AGED 25+ WITHOUT HIGH SCHOOL DIPLOMA']\n",
      "13\n"
     ]
    }
   ],
   "source": [
    "cols = df.columns.tolist()\n",
    "cols.remove('categoryCode')\n",
    "cols.remove('LiquorStoreCount_District')\n",
    "# cols.remove('PER CAPITA INCOME ')\n",
    "\n",
    "# df[cols].head()\n",
    "print(cols)\n",
    "print(len(cols))"
   ]
  },
  {
   "cell_type": "code",
   "execution_count": 5,
   "metadata": {},
   "outputs": [
    {
     "name": "stdout",
     "output_type": "stream",
     "text": [
      "done\n"
     ]
    }
   ],
   "source": [
    "# bk = df.copy()\n",
    "\n",
    "#normalize any variables\n",
    "# df['LiquorStoreCount_District'] = df['LiquorStoreCount_District']/df['LiquorStoreCount_District'].max()*100.0\n",
    "df['PER CAPITA INCOME '] = df['PER CAPITA INCOME ']/df['PER CAPITA INCOME '].max()*100.0\n",
    "\n",
    "\n",
    "print(\"done\")\n",
    "# df.head()"
   ]
  },
  {
   "cell_type": "code",
   "execution_count": 6,
   "metadata": {
    "collapsed": true
   },
   "outputs": [],
   "source": [
    "# print(len(df))\n",
    "# len(df.categoryCode.unique().tolist())\n",
    "\n",
    "# abc = df.categoryCode.unique().tolist()\n",
    "# abc.sort()\n",
    "# abc\n",
    "\n"
   ]
  },
  {
   "cell_type": "code",
   "execution_count": 7,
   "metadata": {},
   "outputs": [
    {
     "name": "stdout",
     "output_type": "stream",
     "text": [
      "done randomizing\n",
      "done splitting the data\n"
     ]
    }
   ],
   "source": [
    "classes = 35   # 9 is missing \n",
    "\n",
    "#sorts the data \n",
    "df = df.sample(frac=1).reset_index(drop=True)\n",
    "\n",
    "print(\"done randomizing\")\n",
    "\n",
    "#just dev and train set\n",
    "test = df[:30000].copy()\n",
    "Y_test = test['categoryCode'].copy().values\n",
    "Y_test = Y_test.reshape(len(Y_test),1)\n",
    "X_test = test[cols].copy().values\n",
    "train = df[30000:].copy()\n",
    "Y_train = train['categoryCode'].copy().values\n",
    "Y_train = Y_train.reshape(len(Y_train),1)\n",
    "\n",
    "X_train = train[cols].copy().values\n",
    "print(\"done splitting the data\")"
   ]
  },
  {
   "cell_type": "markdown",
   "metadata": {
    "collapsed": true
   },
   "source": [
    "SVM"
   ]
  },
  {
   "cell_type": "code",
   "execution_count": 19,
   "metadata": {},
   "outputs": [
    {
     "name": "stdout",
     "output_type": "stream",
     "text": [
      "done\n"
     ]
    }
   ],
   "source": [
    "from sklearn.svm import SVC\n",
    "\n",
    "Y_test_ = np.array(Y_test.flatten().tolist())\n",
    "Y_train_ = np.array(Y_train.flatten().tolist())\n",
    "\n",
    "\n",
    "clf = SVC(gamma='auto')\n",
    "clf.fit(X_train[:30000], Y_train_[:30000])\n",
    "print('done')\n",
    "# X1= np.array([[-1, -1], [-2, -1], [1, 1], [2, 1]])\n",
    "# y1 = np.array([1, 1, 2, 2])\n",
    "# X1.shape (4,2)\n",
    "# y1.shape  (4,)\n",
    "\n"
   ]
  },
  {
   "cell_type": "code",
   "execution_count": 20,
   "metadata": {},
   "outputs": [
    {
     "name": "stdout",
     "output_type": "stream",
     "text": [
      "[32 32  2 32 32  2  2 32 32 32]\n",
      "[ 6 17  7 ... 29 30 16]\n"
     ]
    }
   ],
   "source": [
    "y_pred = clf.predict(X_test[:2000])\n",
    "print(y_pred[:10])\n",
    "Y_train_for_compare = Y_test_[:2000]\n",
    "print(Y_train_for_compare)\n",
    "\n"
   ]
  },
  {
   "cell_type": "code",
   "execution_count": 21,
   "metadata": {},
   "outputs": [
    {
     "name": "stdout",
     "output_type": "stream",
     "text": [
      "Accuracy of linear model:  0.336\n"
     ]
    }
   ],
   "source": [
    "# make a pandas dataframe to see the results \n",
    "truth = Y_train_for_compare.tolist()\n",
    "pred = y_pred.tolist()\n",
    "df_res = pd.DataFrame({'truth':truth, 'pred':pred})\n",
    "df_res.head()\n",
    "df_res['res']=0\n",
    "assert(df_res.pred.dtype == df_res.truth.dtype)\n",
    "df_res.loc[df_res.pred ==df_res.truth, 'res' ] = 1\n",
    "df_res.head()\n",
    "\n",
    "acc = df_res.res.sum()/(len(df_res) +.0)\n",
    "print(\"Accuracy of linear model: \", acc) # 30,000 train, 1000 test\n",
    "# print(type(Y_train_for_compare.tolist()))\n",
    "# y_pred"
   ]
  },
  {
   "cell_type": "code",
   "execution_count": 32,
   "metadata": {},
   "outputs": [
    {
     "data": {
      "text/html": [
       "<div>\n",
       "<style scoped>\n",
       "    .dataframe tbody tr th:only-of-type {\n",
       "        vertical-align: middle;\n",
       "    }\n",
       "\n",
       "    .dataframe tbody tr th {\n",
       "        vertical-align: top;\n",
       "    }\n",
       "\n",
       "    .dataframe thead th {\n",
       "        text-align: right;\n",
       "    }\n",
       "</style>\n",
       "<table border=\"1\" class=\"dataframe\">\n",
       "  <thead>\n",
       "    <tr style=\"text-align: right;\">\n",
       "      <th></th>\n",
       "      <th>pred</th>\n",
       "      <th>truth</th>\n",
       "      <th>res</th>\n",
       "    </tr>\n",
       "  </thead>\n",
       "  <tbody>\n",
       "    <tr>\n",
       "      <th>0</th>\n",
       "      <td>32</td>\n",
       "      <td>6</td>\n",
       "      <td>0</td>\n",
       "    </tr>\n",
       "    <tr>\n",
       "      <th>1</th>\n",
       "      <td>32</td>\n",
       "      <td>17</td>\n",
       "      <td>0</td>\n",
       "    </tr>\n",
       "    <tr>\n",
       "      <th>2</th>\n",
       "      <td>2</td>\n",
       "      <td>7</td>\n",
       "      <td>0</td>\n",
       "    </tr>\n",
       "    <tr>\n",
       "      <th>3</th>\n",
       "      <td>32</td>\n",
       "      <td>8</td>\n",
       "      <td>0</td>\n",
       "    </tr>\n",
       "    <tr>\n",
       "      <th>4</th>\n",
       "      <td>32</td>\n",
       "      <td>17</td>\n",
       "      <td>0</td>\n",
       "    </tr>\n",
       "  </tbody>\n",
       "</table>\n",
       "</div>"
      ],
      "text/plain": [
       "   pred  truth  res\n",
       "0    32      6    0\n",
       "1    32     17    0\n",
       "2     2      7    0\n",
       "3    32      8    0\n",
       "4    32     17    0"
      ]
     },
     "execution_count": 32,
     "metadata": {},
     "output_type": "execute_result"
    }
   ],
   "source": [
    "df_res.head()"
   ]
  },
  {
   "cell_type": "markdown",
   "metadata": {},
   "source": [
    "Trying a perceptron softmax model\n"
   ]
  },
  {
   "cell_type": "code",
   "execution_count": 25,
   "metadata": {
    "collapsed": true
   },
   "outputs": [],
   "source": [
    "# one hot encoding\n",
    "\n",
    "Y_test_ = np.array(Y_test.flatten().tolist())\n",
    "Y_train_ = np.array(Y_train.flatten().tolist())\n",
    "#https://stackoverflow.com/questions/29831489/convert-array-of-indices-to-1-hot-encoded-numpy-array\n",
    "Y_test__= np.zeros((Y_test_.size, Y_test_.max()+1))\n",
    "Y_train__= np.zeros((Y_train_.size, Y_train_.max()+1))\n",
    "\n",
    "Y_test__[np.arange(Y_test_.size), Y_test_] = 1\n",
    "Y_train__[np.arange(Y_train_.size), Y_train_] = 1\n",
    "\n",
    "\n",
    "# print(Y_test__.shape)\n",
    "# Y_train2 = tf.one_hot(Y_train[:,0], depth = classes, axis = -1) #should be -1\n",
    "# Y_test2 = tf.one_hot(Y_test[:,0], depth = classes, axis = -1)\n",
    "\n",
    "# Y_train2 = tf.transpose(Y_train2)\n",
    "# Y_test2 = tf.transpose(Y_test2)\n",
    "# print(Y_train2)\n",
    "# print(Y_test2)\n",
    "\n",
    "# Y_train__[:10]\n",
    "cutoff = 50000\n",
    "X_train = X_train[:cutoff]\n",
    "Y_train__ = Y_train__[:cutoff]\n",
    "Y_test__ = Y_test__.T\n",
    "Y_train__ = Y_train__.T"
   ]
  },
  {
   "cell_type": "code",
   "execution_count": null,
   "metadata": {
    "collapsed": true
   },
   "outputs": [],
   "source": [
    "# def getMiniBatches(Y_test)"
   ]
  },
  {
   "cell_type": "code",
   "execution_count": 30,
   "metadata": {},
   "outputs": [
    {
     "ename": "TypeError",
     "evalue": "get_variable() got an unexpected keyword argument 'reuse'",
     "output_type": "error",
     "traceback": [
      "\u001b[1;31m---------------------------------------------------------------------------\u001b[0m",
      "\u001b[1;31mTypeError\u001b[0m                                 Traceback (most recent call last)",
      "\u001b[1;32m<ipython-input-30-ffd17a9f663b>\u001b[0m in \u001b[0;36m<module>\u001b[1;34m()\u001b[0m\n\u001b[0;32m      5\u001b[0m \u001b[1;33m\u001b[0m\u001b[0m\n\u001b[0;32m      6\u001b[0m \u001b[1;31m#the parameters\u001b[0m\u001b[1;33m\u001b[0m\u001b[1;33m\u001b[0m\u001b[0m\n\u001b[1;32m----> 7\u001b[1;33m \u001b[0mW1\u001b[0m \u001b[1;33m=\u001b[0m \u001b[0mtf\u001b[0m\u001b[1;33m.\u001b[0m\u001b[0mget_variable\u001b[0m\u001b[1;33m(\u001b[0m\u001b[1;34m\"W1\"\u001b[0m\u001b[1;33m,\u001b[0m \u001b[1;33m[\u001b[0m\u001b[0mclasses\u001b[0m\u001b[1;33m,\u001b[0m\u001b[0mlen\u001b[0m\u001b[1;33m(\u001b[0m\u001b[0mcols\u001b[0m\u001b[1;33m)\u001b[0m\u001b[1;33m]\u001b[0m\u001b[1;33m,\u001b[0m \u001b[0minitializer\u001b[0m \u001b[1;33m=\u001b[0m \u001b[0mtf\u001b[0m\u001b[1;33m.\u001b[0m\u001b[0mcontrib\u001b[0m\u001b[1;33m.\u001b[0m\u001b[0mlayers\u001b[0m\u001b[1;33m.\u001b[0m\u001b[0mxavier_initializer\u001b[0m\u001b[1;33m(\u001b[0m\u001b[1;33m)\u001b[0m\u001b[1;33m,\u001b[0m \u001b[0mreuse\u001b[0m\u001b[1;33m=\u001b[0m\u001b[1;32mTrue\u001b[0m\u001b[1;33m)\u001b[0m\u001b[1;33m\u001b[0m\u001b[0m\n\u001b[0m\u001b[0;32m      8\u001b[0m \u001b[0mb1\u001b[0m \u001b[1;33m=\u001b[0m \u001b[0mtf\u001b[0m\u001b[1;33m.\u001b[0m\u001b[0mget_variable\u001b[0m\u001b[1;33m(\u001b[0m\u001b[1;34m'b1'\u001b[0m\u001b[1;33m,\u001b[0m \u001b[1;33m(\u001b[0m\u001b[0mclasses\u001b[0m\u001b[1;33m,\u001b[0m\u001b[1;36m1\u001b[0m\u001b[1;33m)\u001b[0m\u001b[1;33m,\u001b[0m \u001b[0minitializer\u001b[0m \u001b[1;33m=\u001b[0m \u001b[0mtf\u001b[0m\u001b[1;33m.\u001b[0m\u001b[0mzeros_initializer\u001b[0m\u001b[1;33m(\u001b[0m\u001b[1;33m)\u001b[0m\u001b[1;33m,\u001b[0m \u001b[0mreuse\u001b[0m\u001b[1;33m=\u001b[0m\u001b[1;32mTrue\u001b[0m\u001b[1;33m)\u001b[0m\u001b[1;33m\u001b[0m\u001b[0m\n\u001b[0;32m      9\u001b[0m \u001b[1;33m\u001b[0m\u001b[0m\n",
      "\u001b[1;31mTypeError\u001b[0m: get_variable() got an unexpected keyword argument 'reuse'"
     ]
    }
   ],
   "source": [
    "#wire up the neural network \n",
    "#X is going to be a place holder\n",
    "X = tf.placeholder(shape=[len(cols), None],dtype= tf.float32)\n",
    "Y = tf.placeholder(shape=(classes, None),dtype = tf.float32)\n",
    "\n",
    "#the parameters \n",
    "W1 = tf.get_variable(\"W1\", [classes,len(cols)], initializer = tf.contrib.layers.xavier_initializer())\n",
    "b1 = tf.get_variable('b1', (classes,1), initializer = tf.zeros_initializer())\n",
    "\n",
    "Z1 = tf.add(tf.matmul(W1, X), b1)                                              # Z1 = np.dot(W1, X) + b1\n",
    "# A1 = tf.nn.relu(Z1)   \n",
    "\n",
    "#cost function \n",
    "logits = tf.transpose(Z1)\n",
    "labels = tf.transpose(Y)\n",
    "cost = tf.reduce_mean(tf.nn.softmax_cross_entropy_with_logits(logits = logits, labels = labels))\n",
    "\n",
    "\n",
    "#optimizer \n",
    "optimizer = tf.train.AdamOptimizer(learning_rate=.001).minimize(cost)\n",
    "\n",
    "\n",
    "init =tf.global_variables_initializer()\n",
    "\n",
    "print(\"starting...\")\n",
    "\n",
    "with tf.Session() as sess:\n",
    "    sess.run(init)\n",
    "\n",
    "    for epoch in range(0,40):\n",
    "#         minibatch_Xs, minibatch_Ys = getMiniBatches(X_train, Y_train)\n",
    "#         for minibatch in len(minibatch_Xs)\n",
    "#             minibatch_X, minibatch_Y\n",
    "#             _ , cost = sess.run([optimizer, cost], feed_dict={X: minibatch_X, Y: minibatch_Y})\n",
    "\n",
    "        _ , cost = sess.run([optimizer, cost], feed_dict={X: X_train.T, Y: Y_train__})\n",
    "\n",
    "        print(cost)\n",
    "\n"
   ]
  },
  {
   "cell_type": "code",
   "execution_count": 31,
   "metadata": {
    "collapsed": true
   },
   "outputs": [],
   "source": [
    "sess.close()"
   ]
  },
  {
   "cell_type": "code",
   "execution_count": null,
   "metadata": {
    "collapsed": true
   },
   "outputs": [],
   "source": []
  }
 ],
 "metadata": {
  "kernelspec": {
   "display_name": "learning",
   "language": "python",
   "name": "learning"
  },
  "language_info": {
   "codemirror_mode": {
    "name": "ipython",
    "version": 3
   },
   "file_extension": ".py",
   "mimetype": "text/x-python",
   "name": "python",
   "nbconvert_exporter": "python",
   "pygments_lexer": "ipython3",
   "version": "3.5.6"
  }
 },
 "nbformat": 4,
 "nbformat_minor": 2
}
