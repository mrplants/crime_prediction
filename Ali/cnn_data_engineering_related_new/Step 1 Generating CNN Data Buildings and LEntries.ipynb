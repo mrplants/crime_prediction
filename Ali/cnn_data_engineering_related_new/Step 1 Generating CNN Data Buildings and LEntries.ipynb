{
 "cells": [
  {
   "cell_type": "code",
   "execution_count": 1,
   "metadata": {
    "collapsed": true
   },
   "outputs": [],
   "source": [
    "# Import Statements \n",
    "####################\n",
    "import os \n",
    "import sys\n",
    "import copy\n",
    "import pandas as pd\n",
    "import pathlib as pl\n",
    "import numpy as np\n",
    "# import matplotlib.pyplot as plt\n",
    "# from PIL import Image, ImageDraw\n",
    "import pathlib\n",
    "import datetime\n",
    "import itertools as ite \n",
    "import math\n",
    "import calendar\n",
    "\n",
    "import shapefile  #conda install -c conda-forge pyshp    # (version should be 2.0)\n",
    "from shapely.geometry import Point   #conda install -c conda-forge shapely\n",
    "from shapely.geometry import shape\n",
    "\n",
    "\n",
    "NUM_TIME_BINS_PER_DAY = 24"
   ]
  },
  {
   "cell_type": "code",
   "execution_count": 2,
   "metadata": {
    "collapsed": true
   },
   "outputs": [],
   "source": [
    "_=\"\"\"\n",
    "\n",
    "Define any useful functions \n",
    "\n",
    "\"\"\"\n",
    "\n",
    "def cleanURL(url):\n",
    "    p = pathlib.Path(url)\n",
    "    path = str(p.as_posix()) \n",
    "    return path \n",
    "\n",
    "\n",
    "def getDF(loc, sheetname):\n",
    "    dataframe = pd.read_excel(loc, sheetname)\n",
    "    #https://stackoverflow.com/questions/40950310/strip-trim-all-strings-of-a-dataframe\n",
    "    dataframe = dataframe.applymap(lambda x: x.strip() if type(x) is str else x)\n",
    "    return dataframe\n",
    "\n",
    "def printNulls(df):\n",
    "    null_columns = df.columns[df.isnull().any()]\n",
    "    return df[null_columns].isnull().sum() \n",
    "\n",
    "\n",
    "def writeDFToFile(dfs, path_): #dfs is an array of dataframes and their sheet names , path needs to have\n",
    "    time_ = str(datetime.datetime.now())\n",
    "    current_date_time = time_[0:time_.index(\".\")]\n",
    "    current_date_time = current_date_time.replace(\":\", \"-\")\n",
    "    task4_fileoutput = path_+current_date_time+\".xlsx\"\n",
    "\n",
    "    writer = pd.ExcelWriter(task4_fileoutput)\n",
    "    \n",
    "    for df_tuple in dfs:  \n",
    "        df = df_tuple[0]\n",
    "        sheetName = df_tuple[1]\n",
    "        df.to_excel(writer, sheetName)\n",
    "    print(\"file written to :       \" + task4_fileoutput)\n",
    "    writer.save()\n",
    "\n"
   ]
  },
  {
   "cell_type": "markdown",
   "metadata": {},
   "source": [
    "Useful GIS functions"
   ]
  },
  {
   "cell_type": "code",
   "execution_count": null,
   "metadata": {
    "collapsed": true
   },
   "outputs": [],
   "source": []
  },
  {
   "cell_type": "markdown",
   "metadata": {},
   "source": [
    "# Buildings"
   ]
  },
  {
   "cell_type": "code",
   "execution_count": 45,
   "metadata": {},
   "outputs": [
    {
     "name": "stdout",
     "output_type": "stream",
     "text": [
      "done\n"
     ]
    }
   ],
   "source": [
    "#Save final_dataframe for reference\n",
    "#final_dataframe.to_csv(cleanURL(r'C:\\Users\\j70514\\Documents\\Data Science Stuff\\DeepLearning_cs230\\CNN_data_crunch/buildOff3.csv') , sep = ',' )\n",
    "\n",
    "\n",
    "# Really, after we finalize input dataset\n",
    "# retrieve final_dataframe and start from here\n",
    "buildings =pd.read_csv(cleanURL(r'C:\\Users\\User\\Documents\\CS230 Project\\new_github\\Buildings.csv')) # csv version of Sean's building data\n",
    "# final_dataframe['Date'] = pd.to_datetime(final_dataframe['Date'], format ='%Y-%m-%d %H:%M:%S')\n",
    "print('done')\n",
    "# assert(final_dataframe.Date)"
   ]
  },
  {
   "cell_type": "code",
   "execution_count": 46,
   "metadata": {},
   "outputs": [
    {
     "data": {
      "text/html": [
       "<div>\n",
       "<style scoped>\n",
       "    .dataframe tbody tr th:only-of-type {\n",
       "        vertical-align: middle;\n",
       "    }\n",
       "\n",
       "    .dataframe tbody tr th {\n",
       "        vertical-align: top;\n",
       "    }\n",
       "\n",
       "    .dataframe thead th {\n",
       "        text-align: right;\n",
       "    }\n",
       "</style>\n",
       "<table border=\"1\" class=\"dataframe\">\n",
       "  <thead>\n",
       "    <tr style=\"text-align: right;\">\n",
       "      <th></th>\n",
       "      <th>Unnamed: 0</th>\n",
       "      <th>Condition</th>\n",
       "      <th>Stories</th>\n",
       "      <th>Units</th>\n",
       "      <th>Square Footage</th>\n",
       "      <th>Footprint</th>\n",
       "    </tr>\n",
       "  </thead>\n",
       "  <tbody>\n",
       "    <tr>\n",
       "      <th>0</th>\n",
       "      <td>0</td>\n",
       "      <td>SOUND</td>\n",
       "      <td>0</td>\n",
       "      <td>1</td>\n",
       "      <td>2196</td>\n",
       "      <td>MULTIPOLYGON (((-87.6667306636366 41.707976033...</td>\n",
       "    </tr>\n",
       "    <tr>\n",
       "      <th>1</th>\n",
       "      <td>1</td>\n",
       "      <td>SOUND</td>\n",
       "      <td>0</td>\n",
       "      <td>1</td>\n",
       "      <td>1927</td>\n",
       "      <td>MULTIPOLYGON (((-87.74054777420343 41.98823925...</td>\n",
       "    </tr>\n",
       "    <tr>\n",
       "      <th>2</th>\n",
       "      <td>2</td>\n",
       "      <td>SOUND</td>\n",
       "      <td>0</td>\n",
       "      <td>1</td>\n",
       "      <td>1583</td>\n",
       "      <td>MULTIPOLYGON (((-87.79346762796452 41.93182544...</td>\n",
       "    </tr>\n",
       "    <tr>\n",
       "      <th>3</th>\n",
       "      <td>5</td>\n",
       "      <td>SOUND</td>\n",
       "      <td>0</td>\n",
       "      <td>1</td>\n",
       "      <td>1034</td>\n",
       "      <td>MULTIPOLYGON (((-87.80273335405644 42.00018304...</td>\n",
       "    </tr>\n",
       "    <tr>\n",
       "      <th>4</th>\n",
       "      <td>6</td>\n",
       "      <td>SOUND</td>\n",
       "      <td>0</td>\n",
       "      <td>2</td>\n",
       "      <td>2967</td>\n",
       "      <td>MULTIPOLYGON (((-87.62162454057852 41.83264364...</td>\n",
       "    </tr>\n",
       "  </tbody>\n",
       "</table>\n",
       "</div>"
      ],
      "text/plain": [
       "   Unnamed: 0 Condition  Stories  Units  Square Footage  \\\n",
       "0           0     SOUND        0      1            2196   \n",
       "1           1     SOUND        0      1            1927   \n",
       "2           2     SOUND        0      1            1583   \n",
       "3           5     SOUND        0      1            1034   \n",
       "4           6     SOUND        0      2            2967   \n",
       "\n",
       "                                           Footprint  \n",
       "0  MULTIPOLYGON (((-87.6667306636366 41.707976033...  \n",
       "1  MULTIPOLYGON (((-87.74054777420343 41.98823925...  \n",
       "2  MULTIPOLYGON (((-87.79346762796452 41.93182544...  \n",
       "3  MULTIPOLYGON (((-87.80273335405644 42.00018304...  \n",
       "4  MULTIPOLYGON (((-87.62162454057852 41.83264364...  "
      ]
     },
     "execution_count": 46,
     "metadata": {},
     "output_type": "execute_result"
    }
   ],
   "source": [
    "buildings.head()\n"
   ]
  },
  {
   "cell_type": "code",
   "execution_count": 48,
   "metadata": {},
   "outputs": [
    {
     "data": {
      "text/plain": [
       "453046"
      ]
     },
     "execution_count": 48,
     "metadata": {},
     "output_type": "execute_result"
    }
   ],
   "source": [
    "printNulls(buildings)\n",
    "abc = buildings.head().copy()\n",
    "# abc.iat[0,0] = np.nan\n",
    "# abc.head()\n",
    "printNulls(buildings)\n",
    "len(buildings)"
   ]
  },
  {
   "cell_type": "code",
   "execution_count": 7,
   "metadata": {},
   "outputs": [
    {
     "data": {
      "text/plain": [
       "'MULTIPOLYGON (((-87.6667306636366 41.707976033242225, -87.66686799082457 41.70797682976896, -87.66686709803044 41.70806327088082, -87.66668398069386 41.70806358088659, -87.66668285842599 41.70799496621002, -87.66673046519738 41.70799524237778, -87.6667306636366 41.707976033242225)))'"
      ]
     },
     "execution_count": 7,
     "metadata": {},
     "output_type": "execute_result"
    }
   ],
   "source": [
    "#Learning how to take in the polygon\n",
    "cols = buildings.columns.tolist()\n",
    "footprintIndex = cols.index('Footprint')\n",
    "\n",
    "point_ = (buildings.iat[0,footprintIndex])\n",
    "point_\n"
   ]
  },
  {
   "cell_type": "code",
   "execution_count": 17,
   "metadata": {},
   "outputs": [
    {
     "name": "stdout",
     "output_type": "stream",
     "text": [
      "<class 'shapely.geometry.multipolygon.MultiPolygon'>\n"
     ]
    },
    {
     "data": {
      "text/plain": [
       "[<shapely.geometry.polygon.Polygon at 0x542a2e8>]"
      ]
     },
     "execution_count": 17,
     "metadata": {},
     "output_type": "execute_result"
    }
   ],
   "source": [
    "#https://stackoverflow.com/questions/51855917/shapely-polygon-from-string\n",
    "import shapely.wkt\n",
    "P = shapely.wkt.loads(point_)\n",
    "print(type(P))\n",
    "\n",
    "polygons = list(P)\n",
    "polygons"
   ]
  },
  {
   "cell_type": "code",
   "execution_count": 34,
   "metadata": {},
   "outputs": [
    {
     "name": "stdout",
     "output_type": "stream",
     "text": [
      "-87.66677543431237 41.7080292566293\n"
     ]
    },
    {
     "data": {
      "image/svg+xml": [
       "<svg xmlns=\"http://www.w3.org/2000/svg\" xmlns:xlink=\"http://www.w3.org/1999/xlink\" width=\"100.0\" height=\"100.0\" viewBox=\"-88.66677543431237 40.7080292566293 2.0 2.0\" preserveAspectRatio=\"xMinYMin meet\"><g transform=\"matrix(1,0,0,-1,0,83.4160585132586)\"><circle cx=\"-87.66677543431237\" cy=\"41.7080292566293\" r=\"0.06\" stroke=\"#555555\" stroke-width=\"0.02\" fill=\"#66cc99\" opacity=\"0.6\" /></g></svg>"
      ],
      "text/plain": [
       "<shapely.geometry.point.Point at 0x54337f0>"
      ]
     },
     "execution_count": 34,
     "metadata": {},
     "output_type": "execute_result"
    }
   ],
   "source": [
    "polygon = polygons[0]\n",
    "print(polygon.representative_point().x, polygon.representative_point().y)\n",
    "polygon.representative_point() # https://gis.stackexchange.com/questions/43384/python-find-a-method-to-calculate-the-inner-centroid-also-known-as-labelpoin\n"
   ]
  },
  {
   "cell_type": "code",
   "execution_count": 33,
   "metadata": {},
   "outputs": [
    {
     "name": "stdout",
     "output_type": "stream",
     "text": [
      "-87.66677932212998\n",
      "41.708021849277095\n"
     ]
    },
    {
     "data": {
      "image/svg+xml": [
       "<svg xmlns=\"http://www.w3.org/2000/svg\" xmlns:xlink=\"http://www.w3.org/1999/xlink\" width=\"100.0\" height=\"100.0\" viewBox=\"-88.66677932212998 40.708021849277095 2.0 2.0\" preserveAspectRatio=\"xMinYMin meet\"><g transform=\"matrix(1,0,0,-1,0,83.41604369855419)\"><circle cx=\"-87.66677932212998\" cy=\"41.708021849277095\" r=\"0.06\" stroke=\"#555555\" stroke-width=\"0.02\" fill=\"#66cc99\" opacity=\"0.6\" /></g></svg>"
      ],
      "text/plain": [
       "<shapely.geometry.point.Point at 0x5433630>"
      ]
     },
     "execution_count": 33,
     "metadata": {},
     "output_type": "execute_result"
    }
   ],
   "source": [
    "print(polygon.centroid.x)\n",
    "print(polygon.centroid.y)\n",
    "polygon.centroid\n"
   ]
  },
  {
   "cell_type": "code",
   "execution_count": 27,
   "metadata": {},
   "outputs": [
    {
     "data": {
      "image/svg+xml": [
       "<svg xmlns=\"http://www.w3.org/2000/svg\" xmlns:xlink=\"http://www.w3.org/1999/xlink\" width=\"100.0\" height=\"100.0\" viewBox=\"-87.66687539612052 41.70796862794628 0.00019994299047709774 0.00010235823625492912\" preserveAspectRatio=\"xMinYMin meet\"><g transform=\"matrix(1,0,0,-1,0,83.4160396141288)\"><path fill-rule=\"evenodd\" fill=\"#66cc99\" stroke=\"#555555\" stroke-width=\"3.998859809541955e-06\" opacity=\"0.6\" d=\"M -87.6667306636366,41.707976033242225 L -87.66686799082457,41.70797682976896 L -87.66686709803044,41.70806327088082 L -87.66668398069386,41.70806358088659 L -87.66668285842599,41.70799496621002 L -87.66673046519738,41.70799524237778 L -87.6667306636366,41.707976033242225 z\" /></g></svg>"
      ],
      "text/plain": [
       "<shapely.geometry.polygon.Polygon at 0x542a2e8>"
      ]
     },
     "execution_count": 27,
     "metadata": {},
     "output_type": "execute_result"
    }
   ],
   "source": [
    "polygon"
   ]
  },
  {
   "cell_type": "code",
   "execution_count": 15,
   "metadata": {},
   "outputs": [
    {
     "name": "stdout",
     "output_type": "stream",
     "text": [
      "more than one polygon found :  9964\n",
      "more than one polygon found :  23211\n",
      "more than one polygon found :  37846\n",
      "more than one polygon found :  54461\n",
      "more than one polygon found :  57690\n",
      "more than one polygon found :  75685\n",
      "more than one polygon found :  127777\n",
      "more than one polygon found :  166039\n",
      "more than one polygon found :  204767\n",
      "more than one polygon found :  207119\n",
      "more than one polygon found :  258351\n",
      "more than one polygon found :  271799\n",
      "more than one polygon found :  277773\n",
      "more than one polygon found :  284462\n",
      "more than one polygon found :  286352\n",
      "more than one polygon found :  290518\n",
      "more than one polygon found :  313008\n",
      "more than one polygon found :  327670\n",
      "more than one polygon found :  327741\n",
      "more than one polygon found :  340414\n",
      "more than one polygon found :  452808\n",
      "done\n"
     ]
    }
   ],
   "source": [
    "# writing real code : \n",
    "#check if all multipolygons have just one polygon\n",
    "for rIndex in range(len(buildings)):\n",
    "    stringMultipolygon = buildings.iat[rIndex,footprintIndex]\n",
    "    multiPolygon = shapely.wkt.loads(stringMultipolygon)\n",
    "    polygons = list(multiPolygon)\n",
    "    try:\n",
    "        assert(len(polygons)==1)\n",
    "    except:\n",
    "        print('more than one polygon found : ', rIndex)\n",
    "print('done')"
   ]
  },
  {
   "cell_type": "code",
   "execution_count": 49,
   "metadata": {},
   "outputs": [
    {
     "name": "stdout",
     "output_type": "stream",
     "text": [
      "done\n"
     ]
    }
   ],
   "source": [
    "#good looks like there are not that many multipolygons -> filter them out\n",
    "\n",
    "#real code here, loop through each multipolygon, extract the\n",
    "def functionToApply(row):\n",
    "    stringMultipolygon = row['Footprint']\n",
    "    multiPolygon = shapely.wkt.loads(stringMultipolygon)\n",
    "    polygons = list(multiPolygon)\n",
    "    if(len(polygons) ==1): #if not we just return None\n",
    "        return str(polygons[0].centroid.x)+\",\"+str(polygons[0].centroid.y)\n",
    "    else:\n",
    "        return 'none'\n",
    "\n",
    "buildings['longlat'] = buildings.apply(functionToApply, axis = 1)\n",
    "print('done')"
   ]
  },
  {
   "cell_type": "code",
   "execution_count": 50,
   "metadata": {},
   "outputs": [
    {
     "name": "stdout",
     "output_type": "stream",
     "text": [
      "453046\n",
      "453025\n"
     ]
    }
   ],
   "source": [
    "print(len(buildings))\n",
    "buildings = buildings.loc[~(buildings['longlat']=='none')].copy()\n",
    "print(len(buildings))\n"
   ]
  },
  {
   "cell_type": "code",
   "execution_count": 51,
   "metadata": {
    "collapsed": true
   },
   "outputs": [],
   "source": [
    "#write to file\n",
    "buildings[['long', 'lat']] = buildings['longlat'].str.split(',', expand = True)\n"
   ]
  },
  {
   "cell_type": "code",
   "execution_count": 52,
   "metadata": {},
   "outputs": [
    {
     "name": "stdout",
     "output_type": "stream",
     "text": [
      "done\n"
     ]
    }
   ],
   "source": [
    "buildings.to_csv(cleanURL(r'C:\\Users\\User\\Documents\\CS230 Project\\new_github\\BuildingsParsed.csv') , sep = ',' )\n",
    "print('done')"
   ]
  },
  {
   "cell_type": "markdown",
   "metadata": {},
   "source": [
    "# L Entries"
   ]
  },
  {
   "cell_type": "code",
   "execution_count": 94,
   "metadata": {},
   "outputs": [
    {
     "name": "stdout",
     "output_type": "stream",
     "text": [
      "done\n"
     ]
    }
   ],
   "source": [
    "LEntries =pd.read_csv(cleanURL(r'C:\\Users\\User\\Documents\\CS230 Project\\new_github\\LEntries.csv')) # csv version of Sean's building data\n",
    "# final_dataframe['Date'] = pd.to_datetime(final_dataframe['Date'], format ='%Y-%m-%d %H:%M:%S')\n",
    "print('done')"
   ]
  },
  {
   "cell_type": "code",
   "execution_count": 95,
   "metadata": {},
   "outputs": [
    {
     "data": {
      "text/html": [
       "<div>\n",
       "<style scoped>\n",
       "    .dataframe tbody tr th:only-of-type {\n",
       "        vertical-align: middle;\n",
       "    }\n",
       "\n",
       "    .dataframe tbody tr th {\n",
       "        vertical-align: top;\n",
       "    }\n",
       "\n",
       "    .dataframe thead th {\n",
       "        text-align: right;\n",
       "    }\n",
       "</style>\n",
       "<table border=\"1\" class=\"dataframe\">\n",
       "  <thead>\n",
       "    <tr style=\"text-align: right;\">\n",
       "      <th></th>\n",
       "      <th>Unnamed: 0</th>\n",
       "      <th>Date</th>\n",
       "      <th>Entries</th>\n",
       "      <th>Location</th>\n",
       "      <th>Green Line</th>\n",
       "      <th>Red Line</th>\n",
       "      <th>Brown Line</th>\n",
       "      <th>Purple Line</th>\n",
       "      <th>Yellow Line</th>\n",
       "      <th>Blue Line</th>\n",
       "      <th>Pink Line</th>\n",
       "      <th>Orange Line</th>\n",
       "    </tr>\n",
       "  </thead>\n",
       "  <tbody>\n",
       "    <tr>\n",
       "      <th>0</th>\n",
       "      <td>0</td>\n",
       "      <td>01/01/2001</td>\n",
       "      <td>290</td>\n",
       "      <td>POINT (-87.77678526925516 41.87088639373663)</td>\n",
       "      <td>False</td>\n",
       "      <td>False</td>\n",
       "      <td>False</td>\n",
       "      <td>False</td>\n",
       "      <td>False</td>\n",
       "      <td>True</td>\n",
       "      <td>False</td>\n",
       "      <td>False</td>\n",
       "    </tr>\n",
       "    <tr>\n",
       "      <th>1</th>\n",
       "      <td>1</td>\n",
       "      <td>01/02/2001</td>\n",
       "      <td>1240</td>\n",
       "      <td>POINT (-87.77678526925516 41.87088639373663)</td>\n",
       "      <td>False</td>\n",
       "      <td>False</td>\n",
       "      <td>False</td>\n",
       "      <td>False</td>\n",
       "      <td>False</td>\n",
       "      <td>True</td>\n",
       "      <td>False</td>\n",
       "      <td>False</td>\n",
       "    </tr>\n",
       "    <tr>\n",
       "      <th>2</th>\n",
       "      <td>2</td>\n",
       "      <td>01/03/2001</td>\n",
       "      <td>1412</td>\n",
       "      <td>POINT (-87.77678526925516 41.87088639373663)</td>\n",
       "      <td>False</td>\n",
       "      <td>False</td>\n",
       "      <td>False</td>\n",
       "      <td>False</td>\n",
       "      <td>False</td>\n",
       "      <td>True</td>\n",
       "      <td>False</td>\n",
       "      <td>False</td>\n",
       "    </tr>\n",
       "    <tr>\n",
       "      <th>3</th>\n",
       "      <td>3</td>\n",
       "      <td>01/04/2001</td>\n",
       "      <td>1388</td>\n",
       "      <td>POINT (-87.77678526925516 41.87088639373663)</td>\n",
       "      <td>False</td>\n",
       "      <td>False</td>\n",
       "      <td>False</td>\n",
       "      <td>False</td>\n",
       "      <td>False</td>\n",
       "      <td>True</td>\n",
       "      <td>False</td>\n",
       "      <td>False</td>\n",
       "    </tr>\n",
       "    <tr>\n",
       "      <th>4</th>\n",
       "      <td>4</td>\n",
       "      <td>01/05/2001</td>\n",
       "      <td>1465</td>\n",
       "      <td>POINT (-87.77678526925516 41.87088639373663)</td>\n",
       "      <td>False</td>\n",
       "      <td>False</td>\n",
       "      <td>False</td>\n",
       "      <td>False</td>\n",
       "      <td>False</td>\n",
       "      <td>True</td>\n",
       "      <td>False</td>\n",
       "      <td>False</td>\n",
       "    </tr>\n",
       "  </tbody>\n",
       "</table>\n",
       "</div>"
      ],
      "text/plain": [
       "   Unnamed: 0        Date  Entries  \\\n",
       "0           0  01/01/2001      290   \n",
       "1           1  01/02/2001     1240   \n",
       "2           2  01/03/2001     1412   \n",
       "3           3  01/04/2001     1388   \n",
       "4           4  01/05/2001     1465   \n",
       "\n",
       "                                       Location  Green Line  Red Line  \\\n",
       "0  POINT (-87.77678526925516 41.87088639373663)       False     False   \n",
       "1  POINT (-87.77678526925516 41.87088639373663)       False     False   \n",
       "2  POINT (-87.77678526925516 41.87088639373663)       False     False   \n",
       "3  POINT (-87.77678526925516 41.87088639373663)       False     False   \n",
       "4  POINT (-87.77678526925516 41.87088639373663)       False     False   \n",
       "\n",
       "   Brown Line  Purple Line  Yellow Line  Blue Line  Pink Line  Orange Line  \n",
       "0       False        False        False       True      False        False  \n",
       "1       False        False        False       True      False        False  \n",
       "2       False        False        False       True      False        False  \n",
       "3       False        False        False       True      False        False  \n",
       "4       False        False        False       True      False        False  "
      ]
     },
     "execution_count": 95,
     "metadata": {},
     "output_type": "execute_result"
    }
   ],
   "source": [
    "LEntries.head()"
   ]
  },
  {
   "cell_type": "code",
   "execution_count": 96,
   "metadata": {},
   "outputs": [
    {
     "data": {
      "text/plain": [
       "Unnamed: 0      int64\n",
       "Date           object\n",
       "Entries         int64\n",
       "Location       object\n",
       "Green Line       bool\n",
       "Red Line         bool\n",
       "Brown Line       bool\n",
       "Purple Line      bool\n",
       "Yellow Line      bool\n",
       "Blue Line        bool\n",
       "Pink Line        bool\n",
       "Orange Line      bool\n",
       "dtype: object"
      ]
     },
     "execution_count": 96,
     "metadata": {},
     "output_type": "execute_result"
    }
   ],
   "source": [
    "LEntries.dtypes"
   ]
  },
  {
   "cell_type": "code",
   "execution_count": 97,
   "metadata": {},
   "outputs": [
    {
     "data": {
      "text/plain": [
       "Series([], dtype: float64)"
      ]
     },
     "execution_count": 97,
     "metadata": {},
     "output_type": "execute_result"
    }
   ],
   "source": [
    "LEntries = LEntries.dropna()\n",
    "printNulls(LEntries)"
   ]
  },
  {
   "cell_type": "code",
   "execution_count": 98,
   "metadata": {},
   "outputs": [
    {
     "data": {
      "text/html": [
       "<div>\n",
       "<style scoped>\n",
       "    .dataframe tbody tr th:only-of-type {\n",
       "        vertical-align: middle;\n",
       "    }\n",
       "\n",
       "    .dataframe tbody tr th {\n",
       "        vertical-align: top;\n",
       "    }\n",
       "\n",
       "    .dataframe thead th {\n",
       "        text-align: right;\n",
       "    }\n",
       "</style>\n",
       "<table border=\"1\" class=\"dataframe\">\n",
       "  <thead>\n",
       "    <tr style=\"text-align: right;\">\n",
       "      <th></th>\n",
       "      <th>Unnamed: 0</th>\n",
       "      <th>Date</th>\n",
       "      <th>Entries</th>\n",
       "      <th>Location</th>\n",
       "      <th>Green Line</th>\n",
       "      <th>Red Line</th>\n",
       "      <th>Brown Line</th>\n",
       "      <th>Purple Line</th>\n",
       "      <th>Yellow Line</th>\n",
       "      <th>Blue Line</th>\n",
       "      <th>Pink Line</th>\n",
       "      <th>Orange Line</th>\n",
       "    </tr>\n",
       "  </thead>\n",
       "  <tbody>\n",
       "    <tr>\n",
       "      <th>0</th>\n",
       "      <td>0</td>\n",
       "      <td>01/01/2001</td>\n",
       "      <td>290</td>\n",
       "      <td>POINT (-87.77678526925516 41.87088639373663)</td>\n",
       "      <td>False</td>\n",
       "      <td>False</td>\n",
       "      <td>False</td>\n",
       "      <td>False</td>\n",
       "      <td>False</td>\n",
       "      <td>True</td>\n",
       "      <td>False</td>\n",
       "      <td>False</td>\n",
       "    </tr>\n",
       "    <tr>\n",
       "      <th>1</th>\n",
       "      <td>1</td>\n",
       "      <td>01/02/2001</td>\n",
       "      <td>1240</td>\n",
       "      <td>POINT (-87.77678526925516 41.87088639373663)</td>\n",
       "      <td>False</td>\n",
       "      <td>False</td>\n",
       "      <td>False</td>\n",
       "      <td>False</td>\n",
       "      <td>False</td>\n",
       "      <td>True</td>\n",
       "      <td>False</td>\n",
       "      <td>False</td>\n",
       "    </tr>\n",
       "    <tr>\n",
       "      <th>2</th>\n",
       "      <td>2</td>\n",
       "      <td>01/03/2001</td>\n",
       "      <td>1412</td>\n",
       "      <td>POINT (-87.77678526925516 41.87088639373663)</td>\n",
       "      <td>False</td>\n",
       "      <td>False</td>\n",
       "      <td>False</td>\n",
       "      <td>False</td>\n",
       "      <td>False</td>\n",
       "      <td>True</td>\n",
       "      <td>False</td>\n",
       "      <td>False</td>\n",
       "    </tr>\n",
       "    <tr>\n",
       "      <th>3</th>\n",
       "      <td>3</td>\n",
       "      <td>01/04/2001</td>\n",
       "      <td>1388</td>\n",
       "      <td>POINT (-87.77678526925516 41.87088639373663)</td>\n",
       "      <td>False</td>\n",
       "      <td>False</td>\n",
       "      <td>False</td>\n",
       "      <td>False</td>\n",
       "      <td>False</td>\n",
       "      <td>True</td>\n",
       "      <td>False</td>\n",
       "      <td>False</td>\n",
       "    </tr>\n",
       "    <tr>\n",
       "      <th>4</th>\n",
       "      <td>4</td>\n",
       "      <td>01/05/2001</td>\n",
       "      <td>1465</td>\n",
       "      <td>POINT (-87.77678526925516 41.87088639373663)</td>\n",
       "      <td>False</td>\n",
       "      <td>False</td>\n",
       "      <td>False</td>\n",
       "      <td>False</td>\n",
       "      <td>False</td>\n",
       "      <td>True</td>\n",
       "      <td>False</td>\n",
       "      <td>False</td>\n",
       "    </tr>\n",
       "  </tbody>\n",
       "</table>\n",
       "</div>"
      ],
      "text/plain": [
       "   Unnamed: 0        Date  Entries  \\\n",
       "0           0  01/01/2001      290   \n",
       "1           1  01/02/2001     1240   \n",
       "2           2  01/03/2001     1412   \n",
       "3           3  01/04/2001     1388   \n",
       "4           4  01/05/2001     1465   \n",
       "\n",
       "                                       Location  Green Line  Red Line  \\\n",
       "0  POINT (-87.77678526925516 41.87088639373663)       False     False   \n",
       "1  POINT (-87.77678526925516 41.87088639373663)       False     False   \n",
       "2  POINT (-87.77678526925516 41.87088639373663)       False     False   \n",
       "3  POINT (-87.77678526925516 41.87088639373663)       False     False   \n",
       "4  POINT (-87.77678526925516 41.87088639373663)       False     False   \n",
       "\n",
       "   Brown Line  Purple Line  Yellow Line  Blue Line  Pink Line  Orange Line  \n",
       "0       False        False        False       True      False        False  \n",
       "1       False        False        False       True      False        False  \n",
       "2       False        False        False       True      False        False  \n",
       "3       False        False        False       True      False        False  \n",
       "4       False        False        False       True      False        False  "
      ]
     },
     "execution_count": 98,
     "metadata": {},
     "output_type": "execute_result"
    }
   ],
   "source": [
    "\n",
    "LEntries.head()"
   ]
  },
  {
   "cell_type": "code",
   "execution_count": 99,
   "metadata": {},
   "outputs": [
    {
     "name": "stdout",
     "output_type": "stream",
     "text": [
      "done\n"
     ]
    }
   ],
   "source": [
    "import shapely.wkt\n",
    "\n",
    "def functionToApplyLEntries(row):\n",
    "    pointStr = row['Location']\n",
    "    point_ = shapely.wkt.loads(pointStr)\n",
    "    return str(point_.x)+\",\"+str(point_.y)\n",
    "\n",
    "LEntries['longlat'] = LEntries.apply(functionToApplyLEntries, axis = 1)\n",
    "print('done')"
   ]
  },
  {
   "cell_type": "code",
   "execution_count": 100,
   "metadata": {
    "collapsed": true
   },
   "outputs": [],
   "source": [
    "#write to file\n",
    "LEntries[['long', 'lat']] = LEntries['longlat'].str.split(',', expand = True)"
   ]
  },
  {
   "cell_type": "code",
   "execution_count": 101,
   "metadata": {},
   "outputs": [
    {
     "data": {
      "text/html": [
       "<div>\n",
       "<style scoped>\n",
       "    .dataframe tbody tr th:only-of-type {\n",
       "        vertical-align: middle;\n",
       "    }\n",
       "\n",
       "    .dataframe tbody tr th {\n",
       "        vertical-align: top;\n",
       "    }\n",
       "\n",
       "    .dataframe thead th {\n",
       "        text-align: right;\n",
       "    }\n",
       "</style>\n",
       "<table border=\"1\" class=\"dataframe\">\n",
       "  <thead>\n",
       "    <tr style=\"text-align: right;\">\n",
       "      <th></th>\n",
       "      <th>Unnamed: 0</th>\n",
       "      <th>Date</th>\n",
       "      <th>Entries</th>\n",
       "      <th>Location</th>\n",
       "      <th>Green Line</th>\n",
       "      <th>Red Line</th>\n",
       "      <th>Brown Line</th>\n",
       "      <th>Purple Line</th>\n",
       "      <th>Yellow Line</th>\n",
       "      <th>Blue Line</th>\n",
       "      <th>Pink Line</th>\n",
       "      <th>Orange Line</th>\n",
       "      <th>longlat</th>\n",
       "      <th>long</th>\n",
       "      <th>lat</th>\n",
       "    </tr>\n",
       "  </thead>\n",
       "  <tbody>\n",
       "    <tr>\n",
       "      <th>0</th>\n",
       "      <td>0</td>\n",
       "      <td>01/01/2001</td>\n",
       "      <td>290</td>\n",
       "      <td>POINT (-87.77678526925516 41.87088639373663)</td>\n",
       "      <td>False</td>\n",
       "      <td>False</td>\n",
       "      <td>False</td>\n",
       "      <td>False</td>\n",
       "      <td>False</td>\n",
       "      <td>True</td>\n",
       "      <td>False</td>\n",
       "      <td>False</td>\n",
       "      <td>-87.77678526925516,41.87088639373663</td>\n",
       "      <td>-87.77678526925516</td>\n",
       "      <td>41.87088639373663</td>\n",
       "    </tr>\n",
       "    <tr>\n",
       "      <th>1</th>\n",
       "      <td>1</td>\n",
       "      <td>01/02/2001</td>\n",
       "      <td>1240</td>\n",
       "      <td>POINT (-87.77678526925516 41.87088639373663)</td>\n",
       "      <td>False</td>\n",
       "      <td>False</td>\n",
       "      <td>False</td>\n",
       "      <td>False</td>\n",
       "      <td>False</td>\n",
       "      <td>True</td>\n",
       "      <td>False</td>\n",
       "      <td>False</td>\n",
       "      <td>-87.77678526925516,41.87088639373663</td>\n",
       "      <td>-87.77678526925516</td>\n",
       "      <td>41.87088639373663</td>\n",
       "    </tr>\n",
       "    <tr>\n",
       "      <th>2</th>\n",
       "      <td>2</td>\n",
       "      <td>01/03/2001</td>\n",
       "      <td>1412</td>\n",
       "      <td>POINT (-87.77678526925516 41.87088639373663)</td>\n",
       "      <td>False</td>\n",
       "      <td>False</td>\n",
       "      <td>False</td>\n",
       "      <td>False</td>\n",
       "      <td>False</td>\n",
       "      <td>True</td>\n",
       "      <td>False</td>\n",
       "      <td>False</td>\n",
       "      <td>-87.77678526925516,41.87088639373663</td>\n",
       "      <td>-87.77678526925516</td>\n",
       "      <td>41.87088639373663</td>\n",
       "    </tr>\n",
       "    <tr>\n",
       "      <th>3</th>\n",
       "      <td>3</td>\n",
       "      <td>01/04/2001</td>\n",
       "      <td>1388</td>\n",
       "      <td>POINT (-87.77678526925516 41.87088639373663)</td>\n",
       "      <td>False</td>\n",
       "      <td>False</td>\n",
       "      <td>False</td>\n",
       "      <td>False</td>\n",
       "      <td>False</td>\n",
       "      <td>True</td>\n",
       "      <td>False</td>\n",
       "      <td>False</td>\n",
       "      <td>-87.77678526925516,41.87088639373663</td>\n",
       "      <td>-87.77678526925516</td>\n",
       "      <td>41.87088639373663</td>\n",
       "    </tr>\n",
       "    <tr>\n",
       "      <th>4</th>\n",
       "      <td>4</td>\n",
       "      <td>01/05/2001</td>\n",
       "      <td>1465</td>\n",
       "      <td>POINT (-87.77678526925516 41.87088639373663)</td>\n",
       "      <td>False</td>\n",
       "      <td>False</td>\n",
       "      <td>False</td>\n",
       "      <td>False</td>\n",
       "      <td>False</td>\n",
       "      <td>True</td>\n",
       "      <td>False</td>\n",
       "      <td>False</td>\n",
       "      <td>-87.77678526925516,41.87088639373663</td>\n",
       "      <td>-87.77678526925516</td>\n",
       "      <td>41.87088639373663</td>\n",
       "    </tr>\n",
       "  </tbody>\n",
       "</table>\n",
       "</div>"
      ],
      "text/plain": [
       "   Unnamed: 0        Date  Entries  \\\n",
       "0           0  01/01/2001      290   \n",
       "1           1  01/02/2001     1240   \n",
       "2           2  01/03/2001     1412   \n",
       "3           3  01/04/2001     1388   \n",
       "4           4  01/05/2001     1465   \n",
       "\n",
       "                                       Location  Green Line  Red Line  \\\n",
       "0  POINT (-87.77678526925516 41.87088639373663)       False     False   \n",
       "1  POINT (-87.77678526925516 41.87088639373663)       False     False   \n",
       "2  POINT (-87.77678526925516 41.87088639373663)       False     False   \n",
       "3  POINT (-87.77678526925516 41.87088639373663)       False     False   \n",
       "4  POINT (-87.77678526925516 41.87088639373663)       False     False   \n",
       "\n",
       "   Brown Line  Purple Line  Yellow Line  Blue Line  Pink Line  Orange Line  \\\n",
       "0       False        False        False       True      False        False   \n",
       "1       False        False        False       True      False        False   \n",
       "2       False        False        False       True      False        False   \n",
       "3       False        False        False       True      False        False   \n",
       "4       False        False        False       True      False        False   \n",
       "\n",
       "                                longlat                long                lat  \n",
       "0  -87.77678526925516,41.87088639373663  -87.77678526925516  41.87088639373663  \n",
       "1  -87.77678526925516,41.87088639373663  -87.77678526925516  41.87088639373663  \n",
       "2  -87.77678526925516,41.87088639373663  -87.77678526925516  41.87088639373663  \n",
       "3  -87.77678526925516,41.87088639373663  -87.77678526925516  41.87088639373663  \n",
       "4  -87.77678526925516,41.87088639373663  -87.77678526925516  41.87088639373663  "
      ]
     },
     "execution_count": 101,
     "metadata": {},
     "output_type": "execute_result"
    }
   ],
   "source": [
    "LEntries.head()"
   ]
  },
  {
   "cell_type": "code",
   "execution_count": 102,
   "metadata": {},
   "outputs": [
    {
     "name": "stdout",
     "output_type": "stream",
     "text": [
      "done\n"
     ]
    }
   ],
   "source": [
    "LEntries.to_csv(cleanURL(r'C:\\Users\\User\\Documents\\CS230 Project\\new_github\\LEntriesParsed.csv') , sep = ',' )\n",
    "print('done')"
   ]
  },
  {
   "cell_type": "code",
   "execution_count": 103,
   "metadata": {},
   "outputs": [
    {
     "data": {
      "text/plain": [
       "138"
      ]
     },
     "execution_count": 103,
     "metadata": {},
     "output_type": "execute_result"
    }
   ],
   "source": [
    "len(LEntries.loc[LEntries['Date']=='01/01/2001'])"
   ]
  },
  {
   "cell_type": "code",
   "execution_count": 104,
   "metadata": {
    "collapsed": true
   },
   "outputs": [],
   "source": [
    "# writeDFToFile(dfs=[(LEntries, 'Sheet1')], path_=cleanURL(r'C:\\Users\\User\\Documents\\CS230 Project\\new_github\\LEntriesParsed1.xlsx') )\n",
    "LEntries = None"
   ]
  },
  {
   "cell_type": "code",
   "execution_count": null,
   "metadata": {
    "collapsed": true
   },
   "outputs": [],
   "source": []
  }
 ],
 "metadata": {
  "kernelspec": {
   "display_name": "learning",
   "language": "python",
   "name": "learning"
  },
  "language_info": {
   "codemirror_mode": {
    "name": "ipython",
    "version": 3
   },
   "file_extension": ".py",
   "mimetype": "text/x-python",
   "name": "python",
   "nbconvert_exporter": "python",
   "pygments_lexer": "ipython3",
   "version": "3.5.6"
  }
 },
 "nbformat": 4,
 "nbformat_minor": 2
}
