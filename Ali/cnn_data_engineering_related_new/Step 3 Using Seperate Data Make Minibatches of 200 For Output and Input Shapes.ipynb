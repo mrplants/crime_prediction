{
 "cells": [
  {
   "cell_type": "code",
   "execution_count": 118,
   "metadata": {
    "collapsed": true
   },
   "outputs": [],
   "source": [
    "%matplotlib inline"
   ]
  },
  {
   "cell_type": "code",
   "execution_count": 119,
   "metadata": {
    "collapsed": true
   },
   "outputs": [],
   "source": [
    "import tensorflow as tf\n",
    "import zipfile\n",
    "import os\n",
    "import pandas as pd\n",
    "import numpy as np\n",
    "import pathlib\n",
    "import datetime\n",
    "from collections import Counter\n",
    "import copy\n",
    "import matplotlib.pyplot as plt\n",
    "import time"
   ]
  },
  {
   "cell_type": "markdown",
   "metadata": {},
   "source": [
    "# Helpful Functions"
   ]
  },
  {
   "cell_type": "code",
   "execution_count": 120,
   "metadata": {},
   "outputs": [
    {
     "data": {
      "text/plain": [
       "'/home/muhammadayub/Desktop/CS230/Notebooks/re'"
      ]
     },
     "execution_count": 120,
     "metadata": {},
     "output_type": "execute_result"
    }
   ],
   "source": [
    "def cleanURL(url):\n",
    "    p = pathlib.Path(url)\n",
    "    path = str(p.as_posix()) \n",
    "    return path \n",
    "\n",
    "\n",
    "def getDF(loc, sheetname):\n",
    "    dataframe = pd.read_excel(loc, sheetname)\n",
    "    #https://stackoverflow.com/questions/40950310/strip-trim-all-strings-of-a-dataframe\n",
    "    dataframe = dataframe.applymap(lambda x: x.strip() if type(x) is str else x)\n",
    "    return dataframe\n",
    "\n",
    "def printNulls(df):\n",
    "    null_columns = df.columns[df.isnull().any()]\n",
    "    return df[null_columns].isnull().sum() \n",
    "\n",
    "\n",
    "def writeDFToFile(dfs, path_): #dfs is an array of dataframes and their sheet names , path needs to have\n",
    "    time_ = str(datetime.datetime.now())\n",
    "    current_date_time = time_[0:time_.index(\".\")]\n",
    "    current_date_time = current_date_time.replace(\":\", \"-\")\n",
    "    task4_fileoutput = path_+current_date_time+\".xlsx\"\n",
    "\n",
    "    writer = pd.ExcelWriter(task4_fileoutput)\n",
    "    \n",
    "    for df_tuple in dfs:  \n",
    "        df = df_tuple[0]\n",
    "        sheetName = df_tuple[1]\n",
    "        df.to_excel(writer, sheetName)\n",
    "    print(\"file written to :       \" + task4_fileoutput)\n",
    "    writer.save()\n",
    "    \n",
    "def plotImg(img):\n",
    "    if(type(img) ==type(None)):\n",
    "        img =outputsDataReal[10000]\n",
    "    arr = []\n",
    "    for a in img:\n",
    "        arr = [a] + arr\n",
    "    plt.pcolor( arr, cmap = 'gist_ncar' )\n",
    "\n",
    "    plt.show()    \n",
    "\n",
    "cwd = os.getcwd()\n",
    "cwd"
   ]
  },
  {
   "cell_type": "markdown",
   "metadata": {},
   "source": [
    "# Load Data"
   ]
  },
  {
   "cell_type": "code",
   "execution_count": 6,
   "metadata": {},
   "outputs": [
    {
     "data": {
      "image/png": "[encoded data removed]",
      "text/plain": [
       "<Figure size 432x288 with 1 Axes>"
      ]
     },
     "metadata": {},
     "output_type": "display_data"
    }
   ],
   "source": [
    "\n",
    "beatAreaMask = np.load(cleanURL(r'/home/muhammadayub/Desktop/CS230/training_data/beats.npy'))\n",
    "wardAreaMask = np.load(cleanURL(r'/home/muhammadayub/Desktop/CS230/training_data/wards.npy'))\n",
    "# print(np.sum(wardAreaMask, axis = 0).shape)\n",
    "# plt.imshow(beatAreaMask)\n",
    "# plt.show()\n",
    "# plt.imshow(districtAreaMask)\n",
    "# plt.show()\n",
    "plt.imshow(wardAreaMask)\n",
    "plt.show()\n",
    "# beatAreaMaskT = beatAreaMask.T"
   ]
  },
  {
   "cell_type": "markdown",
   "metadata": {},
   "source": [
    "### Using the data loader methodology:"
   ]
  },
  {
   "cell_type": "code",
   "execution_count": 4,
   "metadata": {},
   "outputs": [
    {
     "name": "stdout",
     "output_type": "stream",
     "text": [
      "done0\n"
     ]
    }
   ],
   "source": [
    "################\n",
    "# Constants \n",
    "################\n",
    "iHeight = 256\n",
    "iWidth = 256\n",
    "\n",
    "\n",
    "################\n",
    "# Load all the data , for the larger data values , just run  \n",
    "################\n",
    "\n",
    "# load all the data #CHANGEME\n",
    "# datesb = np.load(cleanURL(r'C:\\Users\\User\\Documents\\CS230 Project\\new_github\\data_for_cnn_training\\dates_data_b.npy'))\n",
    "# dates = np.load(cleanURL(r'C:\\Users\\User\\Documents\\CS230 Project\\new_github\\data_for_cnn_training\\dates_data.npy'))\n",
    "# buildings = np.load(cleanURL(r'C:\\Users\\User\\Documents\\CS230 Project\\new_github\\data_for_cnn_training\\x__buildings_b.npy'))\n",
    "datesb = np.load(cleanURL(r'/home/muhammadayub/Desktop/CS230/training_data/dates_data_b.npy'))\n",
    "# dates = np.load(cleanURL(r'/home/muhammadayub/Desktop/CS230/training_data/dates_data.npy'))\n",
    "buildings = np.load(cleanURL(r'/home/muhammadayub/Desktop/CS230/training_data/x__buildings_b.npy'))\n",
    "\n",
    "beatAreaMask = np.load(cleanURL(r'/home/muhammadayub/Desktop/CS230/training_data/beats.npy'))\n",
    "wardAreaMask = np.load(cleanURL(r'/home/muhammadayub/Desktop/CS230/training_data/wards.npy'))\n",
    "\n",
    "\n",
    "#make sure there are no nan values in buildings \n",
    "mask = np.isnan(buildings)\n",
    "indices = np.where(mask ==True)\n",
    "z = indices[0]\n",
    "y = indices[1]\n",
    "x = indices[2]\n",
    "buildings[z,y,x] = -1\n",
    "\n",
    "\n",
    "businesses = np.load(cleanURL(r'/home/muhammadayub/Desktop/CS230/training_data/x__businesses_b.npy'))\n",
    "socio = np.load(cleanURL(r'/home/muhammadayub/Desktop/CS230/training_data/x__socio_b.npy'))\n",
    "#lentries = np.load(cleanURL(r'/home/muhammadayub/Desktop/CS230/training_data/x__Lentries_c.npy'))#, mmap_mode  = 'r')#CHANGEME\n",
    "waterway = np.load(cleanURL(r'/home/muhammadayub/Desktop/CS230/training_data/waterway.npy'))\n",
    "##KLUDGE: This is a quick fix, just set a lot of the data to 0\n",
    "# waterway[:,170:]= 1\n",
    "\n",
    "#get all the masks used\n",
    "\n",
    "################\n",
    "# Preprocess every image value to be its transpose\n",
    "################\n",
    "# buildings  buildingsT -> buildingsTStacked\n",
    "# businesses    businessesT -> businessesTStacked\n",
    "# socio   socioT -> socioTStacked\n",
    "buildingsT= buildings.T\n",
    "businessesT= businesses.T\n",
    "socioT = socio.T\n",
    "\n",
    "datesb= datesb.astype(np.float32)\n",
    "businessesT = businessesT.astype(np.float32)\n",
    "buildingsT = buildingsT.astype(np.float32)\n",
    "socioT = socioT.astype(np.float32)\n",
    "waterwayT = waterway.T\n",
    "datesb = datesb.reshape((len(datesb), 1, 1, 4)) #for faster look ups\n",
    "\n",
    "beatAreaMaskT = beatAreaMask.T\n",
    "beatAreaMaskT = beatAreaMaskT.reshape(256,256,1)\n",
    "beatAreaMaskT = beatAreaMaskT.astype(np.float32)\n",
    "\n",
    "\n",
    "wardAreaMaskT = wardAreaMask.T\n",
    "wardAreaMaskT = wardAreaMaskT.reshape(256,256,1)\n",
    "wardAreaMaskT = wardAreaMaskT.astype(np.float32)\n",
    "\n",
    "print('done0')"
   ]
  },
  {
   "cell_type": "code",
   "execution_count": 5,
   "metadata": {
    "collapsed": true
   },
   "outputs": [],
   "source": [
    "# xy = np.full((256,256,4), 1, dtype = np.float32)\n",
    "# dateLayers = xy* datesb\n",
    "# dateLayers.shape"
   ]
  },
  {
   "cell_type": "code",
   "execution_count": 6,
   "metadata": {
    "collapsed": true
   },
   "outputs": [],
   "source": [
    "#all the outputs\n",
    "outputsData =[]\n",
    "for i_ in range(1, 53): # /home/muhammadayub/Desktop/CS230/training_data/outputs/y__c2_127.npy\n",
    "    y_ = np.load(cleanURL(r'/home/muhammadayub/Desktop/CS230/training_data/outputs/y__c'+str(i_)+'_127.npy'))#, mmap_mode  = 'r')\n",
    "    outputsData.append(y_)"
   ]
  },
  {
   "cell_type": "code",
   "execution_count": 7,
   "metadata": {},
   "outputs": [
    {
     "name": "stdout",
     "output_type": "stream",
     "text": [
      "(155928, 256, 256)\n",
      "run once\n"
     ]
    }
   ],
   "source": [
    "# if at all possible  #CHANGEME\n",
    "outputsDataReal = np.concatenate(outputsData, axis = 0)\n",
    "print(outputsDataReal.shape)\n",
    "for i_ in range(len(outputsData)):\n",
    "    outputsData[i_] =None\n",
    "    \n",
    "# if at all possible  #CHANGEME\n",
    "for i_ in range(len(outputsDataReal)):\n",
    "    outputsDataReal[i_] =outputsDataReal[i_].T    # outputs are transposed once \n",
    "print('run once')\n",
    "# print(outputsDataReal.max())#33 is max, 0 is min\n",
    "# print(outputsDataReal.min())"
   ]
  },
  {
   "cell_type": "markdown",
   "metadata": {},
   "source": [
    "Remove the non negative data (to balance out the classes sum what)"
   ]
  },
  {
   "cell_type": "code",
   "execution_count": 8,
   "metadata": {
    "collapsed": true
   },
   "outputs": [],
   "source": [
    "notNeg1 = np.where(outputsDataReal!= -1)"
   ]
  },
  {
   "cell_type": "code",
   "execution_count": 9,
   "metadata": {},
   "outputs": [
    {
     "name": "stdout",
     "output_type": "stream",
     "text": [
      "(74837,)\n"
     ]
    }
   ],
   "source": [
    "indices = np.array(list(set(notNeg1[0]))) #get all of the indices needed\n",
    "print(indices.shape)\n",
    "notNeg1=None "
   ]
  },
  {
   "cell_type": "code",
   "execution_count": 10,
   "metadata": {
    "collapsed": true
   },
   "outputs": [],
   "source": [
    "sortedIndices = np.sort(indices)\n",
    "miniBatchIndices = sortedIndices[:74800]  #the cutoff of the data "
   ]
  },
  {
   "cell_type": "code",
   "execution_count": 11,
   "metadata": {},
   "outputs": [
    {
     "name": "stdout",
     "output_type": "stream",
     "text": [
      "(155928, 256, 256)\n",
      "(155928, 1, 1, 4)\n",
      "(74800, 256, 256)\n",
      "(74800, 1, 1, 4)\n"
     ]
    }
   ],
   "source": [
    "#the indices are the ones we want from the outputsDataReal and from datesB\n",
    "print(outputsDataReal.shape)\n",
    "print(datesb.shape)\n",
    "#shrink the arrays \n",
    "outputsDataReal = outputsDataReal[miniBatchIndices]\n",
    "datesb = datesb[miniBatchIndices]\n",
    "#reprint the sizes \n",
    "print(outputsDataReal.shape)\n",
    "print(datesb.shape)\n"
   ]
  },
  {
   "cell_type": "code",
   "execution_count": 12,
   "metadata": {},
   "outputs": [
    {
     "name": "stdout",
     "output_type": "stream",
     "text": [
      "(74800,)\n",
      "[    0     1     2 ... 74797 74798 74799]\n"
     ]
    }
   ],
   "source": [
    "#sort the array of indices , then create MINIBATCHES \n",
    "miniBatchIndices = np.arange(74800)\n",
    "print(miniBatchIndices.shape)\n",
    "print(miniBatchIndices)"
   ]
  },
  {
   "cell_type": "markdown",
   "metadata": {},
   "source": [
    "#### Generate minibatches. Shuffle the minibatches, have a function to return a minibatch of X and Y"
   ]
  },
  {
   "cell_type": "code",
   "execution_count": 13,
   "metadata": {},
   "outputs": [
    {
     "name": "stdout",
     "output_type": "stream",
     "text": [
      "Amount of minibatches  374\n",
      "336 18 20\n"
     ]
    }
   ],
   "source": [
    "TIMES_OF_DAY = 24\n",
    "MINIBATCH_SIZE = 200\n",
    "MINIBATCHES_AMT = int(len(miniBatchIndices)/MINIBATCH_SIZE) #or 374 minibatches of 200 each \n",
    "\n",
    "print(\"Amount of minibatches \" , MINIBATCHES_AMT)\n",
    "train_split = int(MINIBATCHES_AMT*.90)\n",
    "dev_split = int(MINIBATCHES_AMT*.05)\n",
    "test_split = MINIBATCHES_AMT - train_split - dev_split\n",
    "\n",
    "print(train_split, dev_split, test_split )"
   ]
  },
  {
   "cell_type": "code",
   "execution_count": 14,
   "metadata": {},
   "outputs": [
    {
     "name": "stdout",
     "output_type": "stream",
     "text": [
      "373\n",
      "18 19 336\n"
     ]
    }
   ],
   "source": [
    "minibatches = np.split(miniBatchIndices,MINIBATCHES_AMT)\n",
    "backup_minibatches = copy.deepcopy(minibatches)\n",
    "\n",
    "devMiniBatches = minibatches[train_split:train_split+dev_split]\n",
    "testMiniBatches = minibatches[train_split+dev_split:-1]# remove the last minibatch\n",
    "minibatches = minibatches[:train_split] #training set  #must be at the end\n",
    "print(len(devMiniBatches+testMiniBatches+minibatches))\n",
    "print(len(devMiniBatches), len(testMiniBatches) , len(minibatches))"
   ]
  },
  {
   "cell_type": "code",
   "execution_count": 91,
   "metadata": {},
   "outputs": [
    {
     "data": {
      "image/png": "[encoded data removed]",
      "text/plain": [
       "<Figure size 432x288 with 1 Axes>"
      ]
     },
     "metadata": {},
     "output_type": "display_data"
    }
   ],
   "source": [
    "plt.imshow(staticImage[0,:,:,-5])\n",
    "plt.show()"
   ]
  },
  {
   "cell_type": "code",
   "execution_count": 15,
   "metadata": {
    "scrolled": true
   },
   "outputs": [
    {
     "name": "stdout",
     "output_type": "stream",
     "text": [
      "done\n"
     ]
    }
   ],
   "source": [
    "# datesb -- no need \n",
    "# dates -- no need\n",
    "# buildings  buildingsT -> buildingsTStacked\n",
    "# businesses    businessesT -> businessesTStacked\n",
    "# socio   socioT -> socioTStacked\n",
    "# lentries \n",
    "# waterway  -- not part of data \n",
    "# outputsData \n",
    "\n",
    "def stackManyTimes(_3dimg,times):\n",
    "    _3dimg_shape = _3dimg.shape\n",
    "    result = np.zeros(shape=(times, _3dimg_shape[0], _3dimg_shape[1],_3dimg_shape[2] ), dtype=np.float32)\n",
    "    for x in range(times):\n",
    "        result[x] = _3dimg\n",
    "    return result\n",
    "\n",
    "#next steps -> add lentries, temperature, and masks \n",
    "def staticImages():\n",
    "    #wards\n",
    "    wardsLayers = stackManyTimes(wardAreaMaskT, MINIBATCH_SIZE)\n",
    "    \n",
    "    #beats\n",
    "    beatsLayers = stackManyTimes(beatAreaMaskT, MINIBATCH_SIZE)\n",
    "    \n",
    "    #step 2. Buildings 10 layers \n",
    "    buildingLayers = stackManyTimes(buildingsT, MINIBATCH_SIZE)  # buildingsT should be (256,256,10) and result should (150, 256, 256, 10)\n",
    "  \n",
    "    #step 3. \n",
    "    businessesLayers = stackManyTimes(businessesT, MINIBATCH_SIZE)\n",
    "    \n",
    "    #step 4. L entries\n",
    "    #come back to this one   => must be transposed!!!\n",
    "    LentryLayers = None\n",
    "    \n",
    "    #step 5. socio\n",
    "    socioLayers = stackManyTimes(socioT, MINIBATCH_SIZE)\n",
    "    \n",
    "    staticImage = np.concatenate((buildingLayers,businessesLayers,socioLayers,beatsLayers, wardsLayers) , axis = -1)   #  beatsLayers\n",
    "    return staticImage\n",
    "\n",
    "staticImage  = staticImages()\n",
    "\n",
    "\n",
    "# now we write a function that will return to us the correct minibatch , with all the image data generated\n",
    "def generateMinibatch(minibatchIndices):    #everything must be transposed\n",
    "    #general steps:\n",
    "    #get the x inputs\n",
    "    #    same as the file of text \n",
    "    \n",
    "    #step 1. dates (make 12 layers of month, day, year , timeOfDay)  # dateLayers don't need to be transposed -> just 1 value\n",
    "    dateLayers = generateDatesLayers2(minibatchIndices, datesb) # (150, 256, 256, 4)  => len(minibatchIndices) = 150\n",
    "    \n",
    "    #step 6. temperature #should be format of\n",
    "    #pass on this for now -> will add this for later iterations\n",
    "    \n",
    "    #step 7. concat everything\n",
    "    inputImage = np.concatenate((dateLayers,staticImage) , axis = -1)\n",
    "#     print(np.where((inputImage[:4]==dateLayers)==False))\n",
    "#     print(np.where((inputImage[4:14]==buildingLayers)==False))\n",
    "\n",
    "    #step 7. outputs\n",
    "    output_image = outputsDataReal[minibatchIndices]  # calculateOutput(minibatchIndices)\n",
    "    return inputImage, output_image#, waterway\n",
    "\n",
    "\n",
    "xy_ = np.full((256,256,4), 1, dtype = np.float32)\n",
    "def generateDatesLayers2(minibatchIndices, datesb):\n",
    "    dateLayers = datesb[minibatchIndices] # (len(minibatchIndices) , 4)\n",
    "    return xy_* dateLayers \n",
    "\n",
    "# def generateDatesLayers(minibatchIndices, datesb):\n",
    "#     base_img_mask = np.ones((256, 256), dtype=np.float32)\n",
    "#     xy = np.dstack([base_img_mask]*4) # shape (256, 256, 4)\n",
    "#     dateLayers = datesb[minibatchIndices] # (len(minibatchIndices) , 4)\n",
    "#     dateLayersReshaped = dateLayers.reshape((len(dateLayers), 1,1,dateLayers.shape[1])) # (len(minibatchIndices),1,1 , 4)\n",
    "#     xyz = xy* dateLayersReshaped \n",
    "#     return xyz\n",
    "\n",
    "def transpose3dImage(img):\n",
    "    img_T = img.T #tested this actually does what we wante it to do.  \n",
    "    return img_T\n",
    "\n",
    "\n",
    "def calculateOutput(sample):\n",
    "    batchMin = min(sample)#67050\n",
    "    batchMax = max(sample)#67199\n",
    "    #     batchMax  = 69050\n",
    "    #print(\"batch min \" , batchMin,\" batch max \", batchMax )\n",
    "    remMin = batchMin % BATCHSIZE_Y\n",
    "    multipleMin = int(batchMin / BATCHSIZE_Y)\n",
    "\n",
    "    remMax = batchMax % BATCHSIZE_Y\n",
    "    multipleMax = int(batchMax / BATCHSIZE_Y)\n",
    "    \n",
    "    batch = None\n",
    "    if(multipleMin != multipleMax):# have to concatenate  batch size can never be more than 3000#\n",
    "        print('here')\n",
    "        batch = np.concatenate((outputsData[multipleMin],outputsData[multipleMax]), axis = 0)\n",
    "    else:\n",
    "        print('not here')\n",
    "        batch = outputsData[multipleMin]\n",
    "\n",
    "    offset = multipleMin*BATCHSIZE_Y\n",
    "    sample_ = np.array(sample)-offset\n",
    "    data_output = batch[sample_]\n",
    "    return data_output\n",
    "\n",
    "# inputImage64 =  split256by256StackOnAxis(inputImage)\n",
    "def split256by256StackOnAxis(inputImg):  #returns the images in (64 , 64, numberOfChannels)\n",
    "    imagesList = np.split(inputImg, 4, axis = 1)\n",
    "    images64by64 = []\n",
    "\n",
    "    for almostImage in imagesList:\n",
    "        imagesList64by64 = np.split(almostImage, 4, axis = 2) # axis is 0, 1, 2\n",
    "        for actual64by64 in imagesList64by64:\n",
    "            images64by64.append(actual64by64)\n",
    "    #     for i,_64 in enumerate(images64by64):\n",
    "    #         print(i, _64.shape)\n",
    "    return np.concatenate(images64by64, axis = 0)\n",
    "\n",
    "def getOutputYVector(y_output_image64, numCats): # y_output_image64 is of shape (3200,64,64)  , 34 categories + -1\n",
    "    result = np.zeros((len(y_output_image64), numCats), dtype=np.float32)\n",
    "    cCount = None \n",
    "    for i_, img in enumerate(y_output_image64):\n",
    "        cCount = Counter(img.flatten())\n",
    "        if(len(np.unique(img)) == 1): #if all -1's\n",
    "            result[i_][0] = 1\n",
    "        else: # get the second most common thing (since -1 are going to be the most common)\n",
    "            result[i_][int(cCount.most_common()[1][0])+1] = 1 # get the second value (index of 1) of most common array\n",
    "    return result\n",
    "\n",
    "    #get the argmax for now  -1 goes to 0, 0 goes to 1, etc. until you have 33 going to 34   -> kludge need to set this to -1\n",
    "    #result[i_][int(cCount.most_common()[0][0])+1] = 1\n",
    "\n",
    "def transformTo64(inputImage, output_image, numCats):\n",
    "    inputImage64 =  split256by256StackOnAxis(inputImage)\n",
    "    output_image64 = split256by256StackOnAxis(output_image)\n",
    "    output_image64 = getOutputYVector(output_image64, numCats) #34 categories since we use -1s, but then shave them off\n",
    "    return inputImage64, output_image64\n",
    "\n",
    "def generateWaterWayMask(waterwayT, threshold):# between 0 and 4096, need atmost 200 to be water \n",
    "    waterwayMask = np.zeros((MINIBATCH_SIZE, 256,256), dtype=np.float32)\n",
    "    for i_ in range(len(waterwayMask)):\n",
    "        waterwayMask[i_] = waterwayT\n",
    "        \n",
    "    #now that we have the ( 200, 256,256)  (sizeOfOneMiniBatch is 200 for example)\n",
    "    #we can break it up into the 64 by 64 images\n",
    "    waterwayMask64 = split256by256StackOnAxis(waterwayMask)\n",
    "    #from here, you count up each one of the 64 by 64 images and set to the threshold\n",
    "    waterwayMaskIndices = [] # include if they are one \n",
    "    for i_ in range(len(waterwayMask64)):\n",
    "        if(np.sum(waterwayMask64[i_]) <= threshold): #> would mean you have more 1's than allowed -> not tolerable \n",
    "            waterwayMaskIndices.append(i_)\n",
    "    return waterwayMaskIndices\n",
    "\n",
    "print('done')"
   ]
  },
  {
   "cell_type": "code",
   "execution_count": 69,
   "metadata": {},
   "outputs": [
    {
     "data": {
      "text/plain": [
       "200"
      ]
     },
     "execution_count": 69,
     "metadata": {},
     "output_type": "execute_result"
    }
   ],
   "source": []
  },
  {
   "cell_type": "markdown",
   "metadata": {},
   "source": [
    "#### Generate minibatches. Shuffle the minibatches, have a function to return a minibatch of X and Y"
   ]
  },
  {
   "cell_type": "code",
   "execution_count": 20,
   "metadata": {
    "collapsed": true
   },
   "outputs": [],
   "source": [
    "WaterWayMask = generateWaterWayMask(waterwayT, 400)\n",
    "\n",
    "a_ = time.time()\n",
    "for x_ in range(1):\n",
    "    minibatch = minibatches[x_]\n",
    "    a,b = generateMinibatch(minibatch)\n",
    "    inputImage64, output_image64 = transformTo64(a, b,35)\n",
    "    c = output_image64[WaterWayMask]\n",
    "    d = inputImage64[WaterWayMask]\n",
    "b_ = time.time()\n",
    "\n",
    "# ran 88 seconds for 20 times  - with generating waterway mask each time\n",
    "# ran 175.67435598373413  seconds for 40 times  - with generating waterway mask each time - 4.39 seconds per load \n",
    "# ran 164.55799078941345   seconds for 40 times  - without generating waterway mask each time \n",
    "# ran 173.7626793384552 seconds for 40 times  - with adding beats layer "
   ]
  },
  {
   "cell_type": "code",
   "execution_count": 25,
   "metadata": {},
   "outputs": [
    {
     "name": "stdout",
     "output_type": "stream",
     "text": [
      "(200, 256, 256, 28)\n",
      "(3200, 64, 64, 28)\n"
     ]
    },
    {
     "data": {
      "image/png": "[encoded data removed]",
      "text/plain": [
       "<Figure size 432x288 with 1 Axes>"
      ]
     },
     "metadata": {},
     "output_type": "display_data"
    },
    {
     "data": {
      "image/png": "[encoded data removed]",
      "text/plain": [
       "<Figure size 432x288 with 1 Axes>"
      ]
     },
     "metadata": {},
     "output_type": "display_data"
    },
    {
     "data": {
      "image/png": "[encoded data removed]",
      "text/plain": [
       "<Figure size 432x288 with 1 Axes>"
      ]
     },
     "metadata": {},
     "output_type": "display_data"
    },
    {
     "data": {
      "image/png": "[encoded data removed]",
      "text/plain": [
       "<Figure size 432x288 with 1 Axes>"
      ]
     },
     "metadata": {},
     "output_type": "display_data"
    },
    {
     "data": {
      "image/png": "[encoded data removed]",
      "text/plain": [
       "<Figure size 432x288 with 1 Axes>"
      ]
     },
     "metadata": {},
     "output_type": "display_data"
    },
    {
     "data": {
      "image/png": "[encoded data removed]",
      "text/plain": [
       "<Figure size 432x288 with 1 Axes>"
      ]
     },
     "metadata": {},
     "output_type": "display_data"
    },
    {
     "data": {
      "image/png": "[encoded data removed]",
      "text/plain": [
       "<Figure size 432x288 with 1 Axes>"
      ]
     },
     "metadata": {},
     "output_type": "display_data"
    },
    {
     "data": {
      "image/png": "[encoded data removed]",
      "text/plain": [
       "<Figure size 432x288 with 1 Axes>"
      ]
     },
     "metadata": {},
     "output_type": "display_data"
    },
    {
     "data": {
      "image/png": "[encoded data removed]",
      "text/plain": [
       "<Figure size 432x288 with 1 Axes>"
      ]
     },
     "metadata": {},
     "output_type": "display_data"
    },
    {
     "data": {
      "image/png": "[encoded data removed]",
      "text/plain": [
       "<Figure size 432x288 with 1 Axes>"
      ]
     },
     "metadata": {},
     "output_type": "display_data"
    },
    {
     "data": {
      "image/png": "[encoded data removed]",
      "text/plain": [
       "<Figure size 432x288 with 1 Axes>"
      ]
     },
     "metadata": {},
     "output_type": "display_data"
    },
    {
     "data": {
      "image/png": "[encoded data removed]",
      "text/plain": [
       "<Figure size 432x288 with 1 Axes>"
      ]
     },
     "metadata": {},
     "output_type": "display_data"
    },
    {
     "data": {
      "image/png": "[encoded data removed]",
      "text/plain": [
       "<Figure size 432x288 with 1 Axes>"
      ]
     },
     "metadata": {},
     "output_type": "display_data"
    },
    {
     "data": {
      "image/png": "[encoded data removed]",
      "text/plain": [
       "<Figure size 432x288 with 1 Axes>"
      ]
     },
     "metadata": {},
     "output_type": "display_data"
    },
    {
     "data": {
      "image/png": "[encoded data removed]",
      "text/plain": [
       "<Figure size 432x288 with 1 Axes>"
      ]
     },
     "metadata": {},
     "output_type": "display_data"
    },
    {
     "data": {
      "image/png": "[encoded data removed]",
      "text/plain": [
       "<Figure size 432x288 with 1 Axes>"
      ]
     },
     "metadata": {},
     "output_type": "display_data"
    },
    {
     "data": {
      "image/png": "[encoded data removed]",
      "text/plain": [
       "<Figure size 432x288 with 1 Axes>"
      ]
     },
     "metadata": {},
     "output_type": "display_data"
    }
   ],
   "source": [
    "print(a.shape)\n",
    "abc = split256by256StackOnAxis(a)\n",
    "print(abc.shape)\n",
    "plt.imshow(a[0,:,:,27])\n",
    "plt.show()\n",
    "\n",
    "for x_ in range(16):\n",
    "    plt.imshow(abc[x_*200,:,:,27])\n",
    "    plt.show()\n",
    "\n"
   ]
  },
  {
   "cell_type": "markdown",
   "metadata": {},
   "source": [
    "Writing the 700 gb of data to disk\n"
   ]
  },
  {
   "cell_type": "code",
   "execution_count": 16,
   "metadata": {
    "collapsed": true
   },
   "outputs": [],
   "source": [
    "\n",
    "\n"
   ]
  },
  {
   "cell_type": "markdown",
   "metadata": {},
   "source": [
    "# Generate the Raw Data for the Neural Network "
   ]
  },
  {
   "cell_type": "code",
   "execution_count": 86,
   "metadata": {},
   "outputs": [
    {
     "name": "stdout",
     "output_type": "stream",
     "text": [
      "Done minibatch  0 2018-12-10 11:31:57.655799\n",
      "Done minibatch  1 2018-12-10 11:32:00.183506\n",
      "Done minibatch  2 2018-12-10 11:32:02.723589\n",
      "Done minibatch  3 2018-12-10 11:32:05.249872\n",
      "Done minibatch  4 2018-12-10 11:32:07.788001\n",
      "Done minibatch  5 2018-12-10 11:32:10.316357\n",
      "Done minibatch  6 2018-12-10 11:32:12.855975\n",
      "Done minibatch  7 2018-12-10 11:32:15.401830\n",
      "Done minibatch  8 2018-12-10 11:32:17.939754\n",
      "Done minibatch  9 2018-12-10 11:32:20.573912\n",
      "Done minibatch  10 2018-12-10 11:32:23.117990\n",
      "Done minibatch  11 2018-12-10 11:32:25.761531\n",
      "Done minibatch  12 2018-12-10 11:32:28.298648\n",
      "Done minibatch  13 2018-12-10 11:32:30.955574\n",
      "Done minibatch  14 2018-12-10 11:32:33.492818\n",
      "Done minibatch  15 2018-12-10 11:32:36.031017\n",
      "Done minibatch  16 2018-12-10 11:32:38.575698\n",
      "Done minibatch  17 2018-12-10 11:32:41.192829\n",
      "Done minibatch  18 2018-12-10 11:32:43.733721\n",
      "Done minibatch  19 2018-12-10 11:32:46.370113\n",
      "Done minibatch  20 2018-12-10 11:32:48.949085\n",
      "Done minibatch  21 2018-12-10 11:32:51.597984\n",
      "Done minibatch  22 2018-12-10 11:32:54.138258\n",
      "Done minibatch  23 2018-12-10 11:32:56.775590\n",
      "Done minibatch  24 2018-12-10 11:32:59.308158\n",
      "Done minibatch  25 2018-12-10 11:33:01.969936\n",
      "Done minibatch  26 2018-12-10 11:33:04.507607\n",
      "Done minibatch  27 2018-12-10 11:33:07.157407\n",
      "Done minibatch  28 2018-12-10 11:33:09.696869\n",
      "Done minibatch  29 2018-12-10 11:33:12.241324\n",
      "Done minibatch  30 2018-12-10 11:33:14.774370\n",
      "Done minibatch  31 2018-12-10 11:33:17.428719\n",
      "Done minibatch  32 2018-12-10 11:33:19.983161\n",
      "Done minibatch  33 2018-12-10 11:33:22.614307\n",
      "Done minibatch  34 2018-12-10 11:33:25.176019\n",
      "Done minibatch  35 2018-12-10 11:33:27.858058\n",
      "Done minibatch  36 2018-12-10 11:33:30.413693\n",
      "Done minibatch  37 2018-12-10 11:33:33.028775\n",
      "Done minibatch  38 2018-12-10 11:33:35.573176\n",
      "Done minibatch  39 2018-12-10 11:33:38.033080\n",
      "Done minibatch  40 2018-12-10 11:33:40.443600\n",
      "Done minibatch  41 2018-12-10 11:33:42.833914\n",
      "Done minibatch  42 2018-12-10 11:33:45.205753\n",
      "Done minibatch  43 2018-12-10 11:33:47.601281\n",
      "Done minibatch  44 2018-12-10 11:33:49.967754\n",
      "Done minibatch  45 2018-12-10 11:33:52.348203\n",
      "Done minibatch  46 2018-12-10 11:33:54.743693\n",
      "Done minibatch  47 2018-12-10 11:33:57.118789\n",
      "Done minibatch  48 2018-12-10 11:33:59.511750\n",
      "Done minibatch  49 2018-12-10 11:34:01.908877\n",
      "Done minibatch  50 2018-12-10 11:34:04.306853\n",
      "Done minibatch  51 2018-12-10 11:34:06.684089\n",
      "Done minibatch  52 2018-12-10 11:34:09.077943\n",
      "Done minibatch  53 2018-12-10 11:34:11.460362\n",
      "Done minibatch  54 2018-12-10 11:34:13.848615\n",
      "Done minibatch  55 2018-12-10 11:34:16.222836\n",
      "Done minibatch  56 2018-12-10 11:34:18.626843\n",
      "Done minibatch  57 2018-12-10 11:34:21.002688\n",
      "Done minibatch  58 2018-12-10 11:34:23.386313\n",
      "Done minibatch  59 2018-12-10 11:34:25.764078\n",
      "Done minibatch  60 2018-12-10 11:34:28.155181\n",
      "Done minibatch  61 2018-12-10 11:34:30.545128\n",
      "Done minibatch  62 2018-12-10 11:34:32.935390\n",
      "Done minibatch  63 2018-12-10 11:34:35.312205\n",
      "Done minibatch  64 2018-12-10 11:34:37.696175\n",
      "Done minibatch  65 2018-12-10 11:34:40.086956\n",
      "Done minibatch  66 2018-12-10 11:34:42.468024\n",
      "Done minibatch  67 2018-12-10 11:34:44.838402\n",
      "Done minibatch  68 2018-12-10 11:34:47.216670\n",
      "Done minibatch  69 2018-12-10 11:34:49.579531\n",
      "Done minibatch  70 2018-12-10 11:34:51.969285\n",
      "Done minibatch  71 2018-12-10 11:34:54.358755\n",
      "Done minibatch  72 2018-12-10 11:34:56.741931\n",
      "Done minibatch  73 2018-12-10 11:34:59.120840\n",
      "Done minibatch  74 2018-12-10 11:35:01.501328\n",
      "Done minibatch  75 2018-12-10 11:35:03.881963\n",
      "Done minibatch  76 2018-12-10 11:35:06.271035\n",
      "Done minibatch  77 2018-12-10 11:35:08.646622\n",
      "Done minibatch  78 2018-12-10 11:35:11.030548\n",
      "Done minibatch  79 2018-12-10 11:35:13.418689\n",
      "Done minibatch  80 2018-12-10 11:35:15.808164\n",
      "Done minibatch  81 2018-12-10 11:35:18.190892\n",
      "Done minibatch  82 2018-12-10 11:35:20.578806\n",
      "Done minibatch  83 2018-12-10 11:35:22.964432\n",
      "Done minibatch  84 2018-12-10 11:35:25.361677\n",
      "Done minibatch  85 2018-12-10 11:35:27.736637\n",
      "Done minibatch  86 2018-12-10 11:35:30.115452\n",
      "Done minibatch  87 2018-12-10 11:35:32.484664\n",
      "Done minibatch  88 2018-12-10 11:35:34.860276\n",
      "Done minibatch  89 2018-12-10 11:35:37.233365\n",
      "Done minibatch  90 2018-12-10 11:35:39.610062\n",
      "Done minibatch  91 2018-12-10 11:35:41.993647\n",
      "Done minibatch  92 2018-12-10 11:35:44.377799\n",
      "Done minibatch  93 2018-12-10 11:35:46.766003\n",
      "Done minibatch  94 2018-12-10 11:35:49.177454\n",
      "Done minibatch  95 2018-12-10 11:35:51.706777\n",
      "Done minibatch  96 2018-12-10 11:35:54.098066\n",
      "Done minibatch  97 2018-12-10 11:35:56.502364\n",
      "Done minibatch  98 2018-12-10 11:35:58.884600\n",
      "Done minibatch  99 2018-12-10 11:36:01.283266\n",
      "Done minibatch  100 2018-12-10 11:36:03.684290\n",
      "Done minibatch  101 2018-12-10 11:36:06.105833\n",
      "Done minibatch  102 2018-12-10 11:36:08.501193\n",
      "Done minibatch  103 2018-12-10 11:36:10.898701\n",
      "Done minibatch  104 2018-12-10 11:36:13.284595\n",
      "Done minibatch  105 2018-12-10 11:36:15.672435\n",
      "Done minibatch  106 2018-12-10 11:36:18.068465\n",
      "Done minibatch  107 2018-12-10 11:36:20.455450\n",
      "Done minibatch  108 2018-12-10 11:36:22.873286\n",
      "Done minibatch  109 2018-12-10 11:36:25.282291\n",
      "Done minibatch  110 2018-12-10 11:36:27.675466\n",
      "Done minibatch  111 2018-12-10 11:36:30.063148\n",
      "Done minibatch  112 2018-12-10 11:36:32.448048\n",
      "Done minibatch  113 2018-12-10 11:36:34.827348\n",
      "Done minibatch  114 2018-12-10 11:36:37.211339\n",
      "Done minibatch  115 2018-12-10 11:36:39.605580\n",
      "Done minibatch  116 2018-12-10 11:36:41.987595\n",
      "Done minibatch  117 2018-12-10 11:36:44.435751\n",
      "Done minibatch  118 2018-12-10 11:36:46.842800\n",
      "Done minibatch  119 2018-12-10 11:36:49.268297\n",
      "Done minibatch  120 2018-12-10 11:36:51.681839\n",
      "Done minibatch  121 2018-12-10 11:36:54.090313\n",
      "Done minibatch  122 2018-12-10 11:36:56.484512\n",
      "Done minibatch  123 2018-12-10 11:36:58.855613\n",
      "Done minibatch  124 2018-12-10 11:37:01.245908\n",
      "Done minibatch  125 2018-12-10 11:37:03.620372\n",
      "Done minibatch  126 2018-12-10 11:37:06.002786\n",
      "Done minibatch  127 2018-12-10 11:37:08.378700\n",
      "Done minibatch  128 2018-12-10 11:37:10.759406\n",
      "Done minibatch  129 2018-12-10 11:37:13.129114\n",
      "Done minibatch  130 2018-12-10 11:37:15.528007\n",
      "Done minibatch  131 2018-12-10 11:37:17.906306\n",
      "Done minibatch  132 2018-12-10 11:37:20.292307\n",
      "Done minibatch  133 2018-12-10 11:37:22.688060\n",
      "Done minibatch  134 2018-12-10 11:37:25.098797\n",
      "Done minibatch  135 2018-12-10 11:37:27.476294\n",
      "Done minibatch  136 2018-12-10 11:37:29.853969\n",
      "Done minibatch  137 2018-12-10 11:37:32.243087\n",
      "Done minibatch  138 2018-12-10 11:37:34.626529\n",
      "Done minibatch  139 2018-12-10 11:37:36.998912\n",
      "Done minibatch  140 2018-12-10 11:37:39.369952\n",
      "Done minibatch  141 2018-12-10 11:37:41.749218\n",
      "Done minibatch  142 2018-12-10 11:37:44.145920\n",
      "Done minibatch  143 2018-12-10 11:37:46.586791\n",
      "Done minibatch  144 2018-12-10 11:37:49.117971\n",
      "Done minibatch  145 2018-12-10 11:37:51.647261\n",
      "Done minibatch  146 2018-12-10 11:37:54.328119\n",
      "Done minibatch  147 2018-12-10 11:37:56.889448\n",
      "Done minibatch  148 2018-12-10 11:37:59.540037\n",
      "Done minibatch  149 2018-12-10 11:38:02.071362\n",
      "Done minibatch  150 2018-12-10 11:38:04.733116\n",
      "Done minibatch  151 2018-12-10 11:38:07.286230\n",
      "Done minibatch  152 2018-12-10 11:38:09.811220\n",
      "Done minibatch  153 2018-12-10 11:38:12.344289\n",
      "Done minibatch  154 2018-12-10 11:38:14.881577\n",
      "Done minibatch  155 2018-12-10 11:38:17.416929\n",
      "Done minibatch  156 2018-12-10 11:38:19.945457\n",
      "Done minibatch  157 2018-12-10 11:38:22.483896\n",
      "Done minibatch  158 2018-12-10 11:38:25.009829\n",
      "Done minibatch  159 2018-12-10 11:38:27.559615\n",
      "Done minibatch  160 2018-12-10 11:38:30.091671\n",
      "Done minibatch  161 2018-12-10 11:38:32.629123\n",
      "Done minibatch  162 2018-12-10 11:38:35.159372\n",
      "Done minibatch  163 2018-12-10 11:38:37.691477\n",
      "Done minibatch  164 2018-12-10 11:38:40.223825\n",
      "Done minibatch  165 2018-12-10 11:38:42.760915\n",
      "Done minibatch  166 2018-12-10 11:38:45.291365\n",
      "Done minibatch  167 2018-12-10 11:38:47.837539\n",
      "Done minibatch  168 2018-12-10 11:38:50.359514\n",
      "Done minibatch  169 2018-12-10 11:38:52.895673\n",
      "Done minibatch  170 2018-12-10 11:38:55.420754\n",
      "Done minibatch  171 2018-12-10 11:38:57.984088\n",
      "Done minibatch  172 2018-12-10 11:39:00.513840\n",
      "Done minibatch  173 2018-12-10 11:39:03.052648\n",
      "Done minibatch  174 2018-12-10 11:39:05.588673\n",
      "Done minibatch  175 2018-12-10 11:39:08.233548\n",
      "Done minibatch  176 2018-12-10 11:39:10.783582\n"
     ]
    },
    {
     "name": "stdout",
     "output_type": "stream",
     "text": [
      "Done minibatch  177 2018-12-10 11:39:13.435269\n",
      "Done minibatch  178 2018-12-10 11:39:15.979237\n",
      "Done minibatch  179 2018-12-10 11:39:18.511585\n",
      "Done minibatch  180 2018-12-10 11:39:21.036525\n",
      "Done minibatch  181 2018-12-10 11:39:23.556538\n",
      "Done minibatch  182 2018-12-10 11:39:26.077961\n",
      "Done minibatch  183 2018-12-10 11:39:28.596082\n",
      "Done minibatch  184 2018-12-10 11:39:31.129538\n",
      "Done minibatch  185 2018-12-10 11:39:33.694018\n",
      "Done minibatch  186 2018-12-10 11:39:36.220342\n",
      "Done minibatch  187 2018-12-10 11:39:38.888429\n",
      "Done minibatch  188 2018-12-10 11:39:41.408388\n",
      "Done minibatch  189 2018-12-10 11:39:43.969226\n",
      "Done minibatch  190 2018-12-10 11:39:46.496515\n",
      "Done minibatch  191 2018-12-10 11:39:49.042597\n",
      "Done minibatch  192 2018-12-10 11:39:51.582071\n",
      "Done minibatch  193 2018-12-10 11:39:54.128685\n",
      "Done minibatch  194 2018-12-10 11:39:56.663635\n",
      "Done minibatch  195 2018-12-10 11:39:59.225035\n",
      "Done minibatch  196 2018-12-10 11:40:01.783990\n",
      "Done minibatch  197 2018-12-10 11:40:04.340192\n",
      "Done minibatch  198 2018-12-10 11:40:06.880821\n",
      "Done minibatch  199 2018-12-10 11:40:09.424598\n",
      "Done minibatch  200 2018-12-10 11:40:11.961299\n",
      "Done minibatch  201 2018-12-10 11:40:14.475861\n",
      "Done minibatch  202 2018-12-10 11:40:16.997035\n",
      "Done minibatch  203 2018-12-10 11:40:19.513120\n",
      "Done minibatch  204 2018-12-10 11:40:22.067950\n",
      "Done minibatch  205 2018-12-10 11:40:24.601733\n",
      "Done minibatch  206 2018-12-10 11:40:27.136851\n",
      "Done minibatch  207 2018-12-10 11:40:29.669062\n",
      "Done minibatch  208 2018-12-10 11:40:32.324774\n",
      "Done minibatch  209 2018-12-10 11:40:34.850612\n",
      "Done minibatch  210 2018-12-10 11:40:37.494114\n",
      "Done minibatch  211 2018-12-10 11:40:40.064932\n",
      "Done minibatch  212 2018-12-10 11:40:42.698694\n",
      "Done minibatch  213 2018-12-10 11:40:45.240487\n",
      "Done minibatch  214 2018-12-10 11:40:47.794450\n",
      "Done minibatch  215 2018-12-10 11:40:50.338955\n",
      "Done minibatch  216 2018-12-10 11:40:53.011532\n",
      "Done minibatch  217 2018-12-10 11:40:55.557154\n",
      "Done minibatch  218 2018-12-10 11:40:58.222186\n",
      "Done minibatch  219 2018-12-10 11:41:00.767415\n",
      "Done minibatch  220 2018-12-10 11:41:03.433818\n",
      "Done minibatch  221 2018-12-10 11:41:05.980457\n",
      "Done minibatch  222 2018-12-10 11:41:08.627083\n",
      "Done minibatch  223 2018-12-10 11:41:11.160315\n",
      "Done minibatch  224 2018-12-10 11:41:13.788121\n",
      "Done minibatch  225 2018-12-10 11:41:16.312146\n",
      "Done minibatch  226 2018-12-10 11:41:18.923962\n",
      "Done minibatch  227 2018-12-10 11:41:21.450302\n",
      "Done minibatch  228 2018-12-10 11:41:23.982764\n",
      "Done minibatch  229 2018-12-10 11:41:26.423996\n",
      "Done minibatch  230 2018-12-10 11:41:28.808163\n",
      "Done minibatch  231 2018-12-10 11:41:31.180850\n",
      "Done minibatch  232 2018-12-10 11:41:33.568250\n",
      "Done minibatch  233 2018-12-10 11:41:35.954732\n",
      "Done minibatch  234 2018-12-10 11:41:38.334907\n",
      "Done minibatch  235 2018-12-10 11:41:40.712787\n",
      "Done minibatch  236 2018-12-10 11:41:43.094797\n",
      "Done minibatch  237 2018-12-10 11:41:45.491972\n",
      "Done minibatch  238 2018-12-10 11:41:47.862852\n",
      "Done minibatch  239 2018-12-10 11:41:50.264699\n",
      "Done minibatch  240 2018-12-10 11:41:52.640834\n",
      "Done minibatch  241 2018-12-10 11:41:55.009807\n",
      "Done minibatch  242 2018-12-10 11:41:57.388845\n",
      "Done minibatch  243 2018-12-10 11:41:59.760168\n",
      "Done minibatch  244 2018-12-10 11:42:02.139357\n",
      "Done minibatch  245 2018-12-10 11:42:04.535505\n",
      "Done minibatch  246 2018-12-10 11:42:06.925399\n",
      "Done minibatch  247 2018-12-10 11:42:09.318867\n",
      "Done minibatch  248 2018-12-10 11:42:11.708007\n",
      "Done minibatch  249 2018-12-10 11:42:14.086998\n",
      "Done minibatch  250 2018-12-10 11:42:16.496183\n",
      "Done minibatch  251 2018-12-10 11:42:18.869536\n",
      "Done minibatch  252 2018-12-10 11:42:21.256059\n",
      "Done minibatch  253 2018-12-10 11:42:23.640270\n",
      "Done minibatch  254 2018-12-10 11:42:26.027948\n",
      "Done minibatch  255 2018-12-10 11:42:28.395411\n",
      "Done minibatch  256 2018-12-10 11:42:30.782204\n",
      "Done minibatch  257 2018-12-10 11:42:33.151982\n",
      "Done minibatch  258 2018-12-10 11:42:35.515376\n",
      "Done minibatch  259 2018-12-10 11:42:37.890212\n",
      "Done minibatch  260 2018-12-10 11:42:40.272664\n",
      "Done minibatch  261 2018-12-10 11:42:42.651406\n",
      "Done minibatch  262 2018-12-10 11:42:45.036716\n",
      "Done minibatch  263 2018-12-10 11:42:47.631347\n",
      "Done minibatch  264 2018-12-10 11:42:50.352553\n",
      "Done minibatch  265 2018-12-10 11:42:52.968626\n",
      "Done minibatch  266 2018-12-10 11:42:55.445090\n",
      "Done minibatch  267 2018-12-10 11:42:57.895911\n",
      "Done minibatch  268 2018-12-10 11:43:00.357733\n",
      "Done minibatch  269 2018-12-10 11:43:02.810514\n",
      "Done minibatch  270 2018-12-10 11:43:05.270224\n",
      "Done minibatch  271 2018-12-10 11:43:07.742738\n",
      "Done minibatch  272 2018-12-10 11:43:10.203510\n",
      "Done minibatch  273 2018-12-10 11:43:12.657755\n",
      "Done minibatch  274 2018-12-10 11:43:15.106370\n",
      "Done minibatch  275 2018-12-10 11:43:17.569839\n",
      "Done minibatch  276 2018-12-10 11:43:19.993436\n",
      "Done minibatch  277 2018-12-10 11:43:22.441027\n",
      "Done minibatch  278 2018-12-10 11:43:24.879859\n",
      "Done minibatch  279 2018-12-10 11:43:27.316167\n",
      "Done minibatch  280 2018-12-10 11:43:29.759320\n",
      "Done minibatch  281 2018-12-10 11:43:32.204555\n",
      "Done minibatch  282 2018-12-10 11:43:34.622037\n",
      "Done minibatch  283 2018-12-10 11:43:37.058856\n",
      "Done minibatch  284 2018-12-10 11:43:39.514494\n",
      "Done minibatch  285 2018-12-10 11:43:41.949364\n",
      "Done minibatch  286 2018-12-10 11:43:44.385472\n",
      "Done minibatch  287 2018-12-10 11:43:46.817802\n",
      "Done minibatch  288 2018-12-10 11:43:49.244492\n",
      "Done minibatch  289 2018-12-10 11:43:51.686062\n",
      "Done minibatch  290 2018-12-10 11:43:54.126141\n",
      "Done minibatch  291 2018-12-10 11:43:56.575809\n",
      "Done minibatch  292 2018-12-10 11:43:59.007527\n",
      "Done minibatch  293 2018-12-10 11:44:01.433523\n",
      "Done minibatch  294 2018-12-10 11:44:03.865408\n",
      "Done minibatch  295 2018-12-10 11:44:06.288965\n",
      "Done minibatch  296 2018-12-10 11:44:08.698017\n",
      "Done minibatch  297 2018-12-10 11:44:11.121373\n",
      "Done minibatch  298 2018-12-10 11:44:13.526065\n",
      "Done minibatch  299 2018-12-10 11:44:15.946598\n",
      "Done minibatch  300 2018-12-10 11:44:18.354261\n",
      "Done minibatch  301 2018-12-10 11:44:20.778968\n",
      "Done minibatch  302 2018-12-10 11:44:23.189879\n",
      "Done minibatch  303 2018-12-10 11:44:25.581480\n",
      "Done minibatch  304 2018-12-10 11:44:27.993911\n",
      "Done minibatch  305 2018-12-10 11:44:30.425062\n",
      "Done minibatch  306 2018-12-10 11:44:32.830624\n",
      "Done minibatch  307 2018-12-10 11:44:35.248784\n",
      "Done minibatch  308 2018-12-10 11:44:37.665170\n",
      "Done minibatch  309 2018-12-10 11:44:40.080746\n",
      "Done minibatch  310 2018-12-10 11:44:42.497201\n",
      "Done minibatch  311 2018-12-10 11:44:44.929411\n",
      "Done minibatch  312 2018-12-10 11:44:47.336570\n",
      "Done minibatch  313 2018-12-10 11:44:49.747418\n",
      "Done minibatch  314 2018-12-10 11:44:52.170633\n",
      "Done minibatch  315 2018-12-10 11:44:54.572195\n",
      "Done minibatch  316 2018-12-10 11:44:56.983309\n",
      "Done minibatch  317 2018-12-10 11:44:59.382446\n",
      "Done minibatch  318 2018-12-10 11:45:01.780038\n",
      "Done minibatch  319 2018-12-10 11:45:04.187678\n",
      "Done minibatch  320 2018-12-10 11:45:06.584843\n",
      "Done minibatch  321 2018-12-10 11:45:08.992482\n",
      "Done minibatch  322 2018-12-10 11:45:11.401058\n",
      "Done minibatch  323 2018-12-10 11:45:13.811031\n",
      "Done minibatch  324 2018-12-10 11:45:16.215773\n",
      "Done minibatch  325 2018-12-10 11:45:18.630987\n",
      "Done minibatch  326 2018-12-10 11:45:21.056058\n",
      "Done minibatch  327 2018-12-10 11:45:23.442295\n",
      "Done minibatch  328 2018-12-10 11:45:25.875529\n",
      "Done minibatch  329 2018-12-10 11:45:28.282610\n",
      "Done minibatch  330 2018-12-10 11:45:30.666965\n",
      "Done minibatch  331 2018-12-10 11:45:33.073591\n",
      "Done minibatch  332 2018-12-10 11:45:35.452225\n",
      "Done minibatch  333 2018-12-10 11:45:37.839515\n",
      "Done minibatch  334 2018-12-10 11:45:40.229120\n",
      "Done minibatch  335 2018-12-10 11:45:42.624763\n",
      "Done minibatch  336 2018-12-10 11:45:45.017632\n",
      "Done minibatch  337 2018-12-10 11:45:47.397828\n",
      "Done minibatch  338 2018-12-10 11:45:49.797680\n",
      "Done minibatch  339 2018-12-10 11:45:52.182538\n",
      "Done minibatch  340 2018-12-10 11:45:54.570281\n",
      "Done minibatch  341 2018-12-10 11:45:56.948743\n",
      "Done minibatch  342 2018-12-10 11:45:59.340238\n",
      "Done minibatch  343 2018-12-10 11:46:01.722217\n",
      "Done minibatch  344 2018-12-10 11:46:04.114706\n",
      "Done minibatch  345 2018-12-10 11:46:06.506917\n",
      "Done minibatch  346 2018-12-10 11:46:08.902418\n",
      "Done minibatch  347 2018-12-10 11:46:11.310452\n",
      "Done minibatch  348 2018-12-10 11:46:13.692004\n",
      "Done minibatch  349 2018-12-10 11:46:16.079643\n",
      "Done minibatch  350 2018-12-10 11:46:18.464010\n",
      "Done minibatch  351 2018-12-10 11:46:20.873916\n"
     ]
    },
    {
     "name": "stdout",
     "output_type": "stream",
     "text": [
      "Done minibatch  352 2018-12-10 11:46:23.262027\n",
      "Done minibatch  353 2018-12-10 11:46:25.653197\n",
      "Done minibatch  354 2018-12-10 11:46:28.024031\n",
      "Done minibatch  355 2018-12-10 11:46:30.412932\n",
      "Done minibatch  356 2018-12-10 11:46:32.800344\n",
      "Done minibatch  357 2018-12-10 11:46:35.194933\n",
      "Done minibatch  358 2018-12-10 11:46:37.579517\n",
      "Done minibatch  359 2018-12-10 11:46:39.978364\n",
      "Done minibatch  360 2018-12-10 11:46:42.364012\n",
      "Done minibatch  361 2018-12-10 11:46:44.774298\n",
      "Done minibatch  362 2018-12-10 11:46:47.181270\n",
      "Done minibatch  363 2018-12-10 11:46:49.570088\n",
      "Done minibatch  364 2018-12-10 11:46:51.975666\n",
      "Done minibatch  365 2018-12-10 11:46:54.373292\n",
      "Done minibatch  366 2018-12-10 11:46:56.771974\n",
      "Done minibatch  367 2018-12-10 11:46:59.172480\n",
      "Done minibatch  368 2018-12-10 11:47:01.544063\n",
      "Done minibatch  369 2018-12-10 11:47:03.923965\n",
      "Done minibatch  370 2018-12-10 11:47:06.303912\n",
      "Done minibatch  371 2018-12-10 11:47:08.703984\n",
      "Done minibatch  372 2018-12-10 11:47:11.093201\n",
      "Done minibatch  373 2018-12-10 11:47:13.477436\n",
      "918.3977046012878\n"
     ]
    }
   ],
   "source": [
    "base_filepath = \"/home/muhammadayub/Desktop/CS230/training_data/minibatches/\"\n",
    "def getOutputMaskFilter(output_image64): # output_image64 is of shape (m, 64, 64)\n",
    "    outputMaskIndices = []\n",
    "    for i_, img in enumerate(output_image64):\n",
    "        if(len(np.unique(img)) != 1): #if not all -1's\n",
    "            outputMaskIndices.append(i_)\n",
    "    return outputMaskIndices\n",
    "\n",
    "\n",
    "# len(backup_minibatches)\n",
    "WaterWayMask = generateWaterWayMask(waterwayT, int(4097))\n",
    "\n",
    "a_ = time.time()\n",
    "for i_,minibatch in enumerate(backup_minibatches):\n",
    "\n",
    "    a,b = generateMinibatch(minibatch) #returns input and output \n",
    "    inputImage64 =  split256by256StackOnAxis(a)\n",
    "    output_image64 = split256by256StackOnAxis(b)\n",
    "    \n",
    "    inputC = inputImage64[WaterWayMask]\n",
    "    outputD = output_image64[WaterWayMask]\n",
    "    \n",
    "    \n",
    "    outputsMaskFilter = getOutputMaskFilter(outputD)# have 34 categories \n",
    "    \n",
    "    inputC=inputC[outputsMaskFilter]\n",
    "    outputD=outputD[outputsMaskFilter]\n",
    "    \n",
    "    \n",
    "    #write c and d to file\n",
    "    inputPath = base_filepath+'input_'+str(i_)+\"_.npy\"\n",
    "    outputPath = base_filepath+'output_'+str(i_)+\"_.npy\"\n",
    "    \n",
    "    np.save(inputPath, inputC)\n",
    "    np.save(outputPath, outputD)\n",
    "    \n",
    "    print(\"Done minibatch \", i_ , str(datetime.datetime.now()))\n",
    "    \n",
    "b_ = time.time()\n",
    "print(b_ - a_)"
   ]
  },
  {
   "cell_type": "code",
   "execution_count": 59,
   "metadata": {
    "collapsed": true
   },
   "outputs": [],
   "source": [
    "a,b = generateMinibatch(minibatch) #returns input and output \n",
    "inputImage64 =  split256by256StackOnAxis(a)\n",
    "output_image64 = split256by256StackOnAxis(b)\n",
    "\n",
    "inputC = inputImage64[WaterWayMask]\n",
    "outputD = output_image64[WaterWayMask]\n",
    "\n",
    "\n",
    "outputsMaskFilter = getOutputMaskFilter(outputD)# have 34 categories \n",
    "\n",
    "inputC=inputC[outputsMaskFilter]\n",
    "outputD=outputD[outputsMaskFilter]"
   ]
  },
  {
   "cell_type": "code",
   "execution_count": 88,
   "metadata": {},
   "outputs": [
    {
     "data": {
      "text/plain": [
       "3200"
      ]
     },
     "execution_count": 88,
     "metadata": {},
     "output_type": "execute_result"
    }
   ],
   "source": [
    "# WaterWayMask = generateWaterWayMask(waterwayT, int(64*64*.99))\n",
    "len(WaterWayMask)\n",
    "# int(64*64*.99)"
   ]
  },
  {
   "cell_type": "code",
   "execution_count": 85,
   "metadata": {
    "collapsed": true,
    "scrolled": false
   },
   "outputs": [],
   "source": [
    "count_ = 0\n",
    "waterwayMask = np.zeros((MINIBATCH_SIZE, 256,256), dtype=np.float32)\n",
    "for i_ in range(len(waterwayMask)):\n",
    "    waterwayMask[i_] = waterwayT\n",
    "\n",
    "#now that we have the ( 200, 256,256)  (sizeOfOneMiniBatch is 200 for example)\n",
    "#we can break it up into the 64 by 64 images\n",
    "waterwayMask64 = split256by256StackOnAxis(waterwayMask)\n",
    "#from here, you count up each one of the 64 by 64 images and set to the threshold\n",
    "waterwayMaskIndices = [] # include if they are one \n",
    "for i_ in range(len(waterwayMask64)):\n",
    "    if(np.sum(waterwayMask64[i_]) <= 4055): #> would mean you have more 1's than allowed -> not tolerable \n",
    "        waterwayMaskIndices.append(i_)\n",
    "    else:\n",
    "#         print(i_)\n",
    "        pass"
   ]
  },
  {
   "cell_type": "code",
   "execution_count": 84,
   "metadata": {},
   "outputs": [
    {
     "data": {
      "image/png": "[encoded data removed]",
      "text/plain": [
       "<Figure size 432x288 with 1 Axes>"
      ]
     },
     "metadata": {},
     "output_type": "display_data"
    },
    {
     "data": {
      "image/png": "[encoded data removed]",
      "text/plain": [
       "<Figure size 432x288 with 1 Axes>"
      ]
     },
     "metadata": {},
     "output_type": "display_data"
    },
    {
     "name": "stdout",
     "output_type": "stream",
     "text": [
      "{0.0, 1.0}\n"
     ]
    },
    {
     "data": {
      "image/png": "[encoded data removed]",
      "text/plain": [
       "<Figure size 432x288 with 1 Axes>"
      ]
     },
     "metadata": {},
     "output_type": "display_data"
    },
    {
     "name": "stdout",
     "output_type": "stream",
     "text": [
      "{0.0, 1.0}\n"
     ]
    },
    {
     "data": {
      "image/png": "[encoded data removed]",
      "text/plain": [
       "<Figure size 432x288 with 1 Axes>"
      ]
     },
     "metadata": {},
     "output_type": "display_data"
    },
    {
     "name": "stdout",
     "output_type": "stream",
     "text": [
      "{0.0, 1.0}\n"
     ]
    },
    {
     "data": {
      "image/png": "[encoded data removed]",
      "text/plain": [
       "<Figure size 432x288 with 1 Axes>"
      ]
     },
     "metadata": {},
     "output_type": "display_data"
    },
    {
     "name": "stdout",
     "output_type": "stream",
     "text": [
      "{0.0, 1.0}\n"
     ]
    },
    {
     "data": {
      "image/png": "[encoded data removed]",
      "text/plain": [
       "<Figure size 432x288 with 1 Axes>"
      ]
     },
     "metadata": {},
     "output_type": "display_data"
    },
    {
     "name": "stdout",
     "output_type": "stream",
     "text": [
      "{0.0, 1.0}\n"
     ]
    },
    {
     "data": {
      "image/png": "[encoded data removed]",
      "text/plain": [
       "<Figure size 432x288 with 1 Axes>"
      ]
     },
     "metadata": {},
     "output_type": "display_data"
    },
    {
     "name": "stdout",
     "output_type": "stream",
     "text": [
      "{0.0, 1.0}\n"
     ]
    },
    {
     "data": {
      "image/png": "[encoded data removed]",
      "text/plain": [
       "<Figure size 432x288 with 1 Axes>"
      ]
     },
     "metadata": {},
     "output_type": "display_data"
    },
    {
     "name": "stdout",
     "output_type": "stream",
     "text": [
      "{0.0, 1.0}\n"
     ]
    },
    {
     "data": {
      "image/png": "[encoded data removed]",
      "text/plain": [
       "<Figure size 432x288 with 1 Axes>"
      ]
     },
     "metadata": {},
     "output_type": "display_data"
    },
    {
     "name": "stdout",
     "output_type": "stream",
     "text": [
      "{0.0, 1.0}\n"
     ]
    },
    {
     "data": {
      "image/png": "[encoded data removed]",
      "text/plain": [
       "<Figure size 432x288 with 1 Axes>"
      ]
     },
     "metadata": {},
     "output_type": "display_data"
    },
    {
     "name": "stdout",
     "output_type": "stream",
     "text": [
      "{0.0, 1.0}\n"
     ]
    },
    {
     "data": {
      "image/png": "[encoded data removed]",
      "text/plain": [
       "<Figure size 432x288 with 1 Axes>"
      ]
     },
     "metadata": {},
     "output_type": "display_data"
    },
    {
     "name": "stdout",
     "output_type": "stream",
     "text": [
      "{0.0, 1.0}\n"
     ]
    },
    {
     "data": {
      "image/png": "[encoded data removed]",
      "text/plain": [
       "<Figure size 432x288 with 1 Axes>"
      ]
     },
     "metadata": {},
     "output_type": "display_data"
    },
    {
     "name": "stdout",
     "output_type": "stream",
     "text": [
      "{0.0, 1.0}\n"
     ]
    },
    {
     "data": {
      "image/png": "[encoded data removed]",
      "text/plain": [
       "<Figure size 432x288 with 1 Axes>"
      ]
     },
     "metadata": {},
     "output_type": "display_data"
    },
    {
     "name": "stdout",
     "output_type": "stream",
     "text": [
      "{0.0, 1.0}\n"
     ]
    },
    {
     "data": {
      "image/png": "[encoded data removed]",
      "text/plain": [
       "<Figure size 432x288 with 1 Axes>"
      ]
     },
     "metadata": {},
     "output_type": "display_data"
    },
    {
     "name": "stdout",
     "output_type": "stream",
     "text": [
      "{1.0}\n"
     ]
    },
    {
     "data": {
      "image/png": "[encoded data removed]",
      "text/plain": [
       "<Figure size 432x288 with 1 Axes>"
      ]
     },
     "metadata": {},
     "output_type": "display_data"
    },
    {
     "name": "stdout",
     "output_type": "stream",
     "text": [
      "{0.0, 1.0}\n"
     ]
    },
    {
     "data": {
      "image/png": "[encoded data removed]",
      "text/plain": [
       "<Figure size 432x288 with 1 Axes>"
      ]
     },
     "metadata": {},
     "output_type": "display_data"
    },
    {
     "name": "stdout",
     "output_type": "stream",
     "text": [
      "{0.0, 1.0}\n"
     ]
    },
    {
     "data": {
      "image/png": "[encoded data removed]",
      "text/plain": [
       "<Figure size 432x288 with 1 Axes>"
      ]
     },
     "metadata": {},
     "output_type": "display_data"
    },
    {
     "name": "stdout",
     "output_type": "stream",
     "text": [
      "{0.0, 1.0}\n"
     ]
    }
   ],
   "source": [
    "plt.imshow(waterwayMask64[2414])\n",
    "plt.show()\n",
    "\n",
    "imagesList = np.split(waterwayT, 4, axis = 0)\n",
    "images64by64 = []\n",
    "for almostImage in imagesList:\n",
    "    imagesList64by64 = np.split(almostImage, 4, axis = 1) # axis is 0, 1, 2\n",
    "    for actual64by64 in imagesList64by64:\n",
    "        images64by64.append(actual64by64)\n",
    "\n",
    "for x_ in range(len(images64by64)):\n",
    "    plt.imshow(images64by64[x_])\n",
    "    plt.show()\n",
    "    print(set(images64by64[x_].flatten()))\n",
    "\n",
    "    \n",
    "    "
   ]
  },
  {
   "cell_type": "code",
   "execution_count": null,
   "metadata": {
    "collapsed": true
   },
   "outputs": [],
   "source": [
    "def getOutputMaskFilter(output_image64): # output_image64 is of shape (m, 64, 64)\n",
    "    outputMaskIndices = []\n",
    "    for i_, img in enumerate(output_image64):\n",
    "        if(len(np.unique(img)) != 1): #if not all -1's\n",
    "            outputMaskIndices.append(i_)\n",
    "    return outputMaskIndices"
   ]
  },
  {
   "cell_type": "code",
   "execution_count": 66,
   "metadata": {},
   "outputs": [
    {
     "data": {
      "text/plain": [
       "(2800, 64, 64)"
      ]
     },
     "execution_count": 66,
     "metadata": {},
     "output_type": "execute_result"
    }
   ],
   "source": [
    "outputD.shape\n",
    "outputMaskIndices = []\n",
    "for i_, img in enumerate(output_image64):\n",
    "    if(len(np.unique(img)) != 1): #if not all -1's\n",
    "        outputMaskIndices.append(i_)"
   ]
  },
  {
   "cell_type": "code",
   "execution_count": 68,
   "metadata": {},
   "outputs": [
    {
     "data": {
      "text/plain": [
       "array([], dtype=int64)"
      ]
     },
     "execution_count": 68,
     "metadata": {},
     "output_type": "execute_result"
    }
   ],
   "source": [
    "abc = np.where(outputD != -1)\n",
    "abc[0]"
   ]
  },
  {
   "cell_type": "code",
   "execution_count": 113,
   "metadata": {
    "collapsed": true
   },
   "outputs": [],
   "source": [
    "\n",
    "\n",
    "base_filepath = \"/home/muhammadayub/Desktop/CS230/training_data/minibatches/\"\n",
    "inputArrs=[]\n",
    "outputArrs = []\n",
    "\n",
    "for i_ in range(374):\n",
    "    inputPath = base_filepath+'input_'+str(i_)+\"_.npy\"\n",
    "    outputPath = base_filepath+'output_'+str(i_)+\"_.npy\"\n",
    "\n",
    "    inputVal = np.load(inputPath, mmap_mode='r')\n",
    "    outputVal = np.load(outputPath, mmap_mode='r')\n",
    "\n",
    "    \n",
    "    if(outputVal.shape[0]!= 0): # if it is not empty \n",
    "        for j_, img in enumerate(outputVal):\n",
    "            inputArrs.append(inputVal[j_])\n",
    "            outputArrs.append(outputVal[j_])\n",
    "\n",
    "    "
   ]
  },
  {
   "cell_type": "code",
   "execution_count": 114,
   "metadata": {},
   "outputs": [
    {
     "name": "stdout",
     "output_type": "stream",
     "text": [
      "74907\n",
      "74907\n",
      "74800\n",
      "74800\n"
     ]
    }
   ],
   "source": [
    "print(len(inputArrs))\n",
    "print(len(outputArrs))\n",
    "inputArrs= inputArrs[:74800]\n",
    "outputArrs=outputArrs[:74800]\n",
    "print(len(inputArrs))\n",
    "print(len(outputArrs))"
   ]
  },
  {
   "cell_type": "code",
   "execution_count": 115,
   "metadata": {
    "collapsed": true
   },
   "outputs": [],
   "source": [
    "for i_ in range(74800):\n",
    "    outputArrs[i_] = outputArrs[i_].reshape(1,64,64)\n",
    "    inputArrs[i_]= inputArrs[i_].reshape(1,64,64, 28)"
   ]
  },
  {
   "cell_type": "code",
   "execution_count": 117,
   "metadata": {
    "collapsed": true
   },
   "outputs": [],
   "source": [
    "outputArrs = np.concatenate(outputArrs, axis = 0)\n",
    "inputArrs = np.concatenate(inputArrs, axis = 0)"
   ]
  },
  {
   "cell_type": "code",
   "execution_count": 124,
   "metadata": {},
   "outputs": [
    {
     "name": "stdout",
     "output_type": "stream",
     "text": [
      "(74800, 64, 64, 28)\n",
      "(74800, 64, 64)\n"
     ]
    }
   ],
   "source": [
    "print(inputArrs.shape)\n",
    "print(outputArrs.shape)"
   ]
  },
  {
   "cell_type": "code",
   "execution_count": 125,
   "metadata": {
    "collapsed": true
   },
   "outputs": [],
   "source": [
    "#break up to the minibatches \n",
    "MINIBATCH_AMT = 74800/200\n",
    "dataIndices = np.arange(74800)\n",
    "# inputArrs = np.split(inputArrs,MINIBATCH_AMT)\n",
    "# outputArrs = np.split(outputArrs,MINIBATCH_AMT)\n",
    "minibatchesForDownload = np.split(dataIndices, MINIBATCH_AMT)\n",
    "# minibatchesForDownload[1]"
   ]
  },
  {
   "cell_type": "code",
   "execution_count": 126,
   "metadata": {},
   "outputs": [
    {
     "name": "stdout",
     "output_type": "stream",
     "text": [
      "0   2018-12-10 12:55:03.780237\n",
      "1   2018-12-10 12:55:03.866674\n",
      "2   2018-12-10 12:55:03.949258\n",
      "3   2018-12-10 12:55:04.031891\n",
      "4   2018-12-10 12:55:04.112929\n",
      "5   2018-12-10 12:55:04.193634\n",
      "6   2018-12-10 12:55:04.275217\n",
      "7   2018-12-10 12:55:04.355656\n",
      "8   2018-12-10 12:55:04.435775\n",
      "9   2018-12-10 12:55:04.516683\n",
      "10   2018-12-10 12:55:04.596760\n",
      "11   2018-12-10 12:55:04.676832\n",
      "12   2018-12-10 12:55:04.759026\n",
      "13   2018-12-10 12:55:04.850487\n",
      "14   2018-12-10 12:55:04.935418\n",
      "15   2018-12-10 12:55:05.023300\n",
      "16   2018-12-10 12:55:05.110595\n",
      "17   2018-12-10 12:55:05.198800\n",
      "18   2018-12-10 12:55:05.287107\n",
      "19   2018-12-10 12:55:05.373492\n",
      "20   2018-12-10 12:55:05.458978\n",
      "21   2018-12-10 12:55:05.544569\n",
      "22   2018-12-10 12:55:05.628167\n",
      "23   2018-12-10 12:55:05.710502\n",
      "24   2018-12-10 12:55:05.819704\n",
      "25   2018-12-10 12:55:05.914068\n",
      "26   2018-12-10 12:55:06.024810\n",
      "27   2018-12-10 12:55:06.213338\n",
      "28   2018-12-10 12:55:06.411703\n",
      "29   2018-12-10 12:55:06.622509\n",
      "30   2018-12-10 12:55:06.833333\n",
      "31   2018-12-10 12:55:07.031788\n",
      "32   2018-12-10 12:55:07.242622\n",
      "33   2018-12-10 12:55:07.453421\n",
      "34   2018-12-10 12:55:07.651771\n",
      "35   2018-12-10 12:55:08.021998\n",
      "36   2018-12-10 12:55:08.485328\n",
      "37   2018-12-10 12:55:09.026365\n",
      "38   2018-12-10 12:55:09.508952\n",
      "39   2018-12-10 12:55:10.077856\n",
      "40   2018-12-10 12:55:10.708631\n",
      "41   2018-12-10 12:55:11.373529\n",
      "42   2018-12-10 12:55:12.077633\n",
      "43   2018-12-10 12:55:12.808399\n",
      "44   2018-12-10 12:55:13.568004\n",
      "45   2018-12-10 12:55:14.340422\n",
      "46   2018-12-10 12:55:15.144738\n",
      "47   2018-12-10 12:55:15.984238\n",
      "48   2018-12-10 12:55:16.856926\n",
      "49   2018-12-10 12:55:17.751733\n",
      "50   2018-12-10 12:55:18.632476\n",
      "51   2018-12-10 12:55:19.499663\n",
      "52   2018-12-10 12:55:20.308048\n",
      "53   2018-12-10 12:55:21.116532\n",
      "54   2018-12-10 12:55:21.939839\n",
      "55   2018-12-10 12:55:22.748296\n",
      "56   2018-12-10 12:55:23.571632\n",
      "57   2018-12-10 12:55:24.373064\n",
      "58   2018-12-10 12:55:25.188440\n",
      "59   2018-12-10 12:55:26.004345\n",
      "60   2018-12-10 12:55:26.820281\n",
      "61   2018-12-10 12:55:27.636188\n",
      "62   2018-12-10 12:55:28.436026\n",
      "63   2018-12-10 12:55:29.513087\n",
      "64   2018-12-10 12:55:29.991864\n",
      "65   2018-12-10 12:55:30.779750\n",
      "66   2018-12-10 12:55:31.595654\n",
      "67   2018-12-10 12:55:32.397223\n",
      "68   2018-12-10 12:55:33.212409\n",
      "69   2018-12-10 12:55:34.028379\n",
      "70   2018-12-10 12:55:34.820812\n",
      "71   2018-12-10 12:55:35.560455\n",
      "72   2018-12-10 12:55:36.285006\n",
      "73   2018-12-10 12:55:36.940838\n",
      "74   2018-12-10 12:55:37.616138\n",
      "75   2018-12-10 12:55:38.255725\n",
      "76   2018-12-10 12:55:38.947617\n",
      "77   2018-12-10 12:55:39.549876\n",
      "78   2018-12-10 12:55:40.192428\n",
      "79   2018-12-10 12:55:40.920286\n",
      "80   2018-12-10 12:55:41.708240\n",
      "81   2018-12-10 12:55:42.361500\n",
      "82   2018-12-10 12:55:43.009402\n",
      "83   2018-12-10 12:55:43.643842\n",
      "84   2018-12-10 12:55:44.301263\n",
      "85   2018-12-10 12:55:44.939684\n",
      "86   2018-12-10 12:55:45.585056\n",
      "87   2018-12-10 12:55:46.400532\n",
      "88   2018-12-10 12:55:47.212358\n",
      "89   2018-12-10 12:55:47.917615\n",
      "90   2018-12-10 12:55:48.620175\n",
      "91   2018-12-10 12:55:49.308112\n",
      "92   2018-12-10 12:55:49.957410\n",
      "93   2018-12-10 12:55:50.573337\n",
      "94   2018-12-10 12:55:51.331785\n",
      "95   2018-12-10 12:55:52.147676\n",
      "96   2018-12-10 12:55:52.857815\n",
      "97   2018-12-10 12:55:53.469723\n",
      "98   2018-12-10 12:55:54.141660\n",
      "99   2018-12-10 12:55:54.841288\n",
      "100   2018-12-10 12:55:55.480088\n",
      "101   2018-12-10 12:55:56.236003\n",
      "102   2018-12-10 12:55:56.971973\n",
      "103   2018-12-10 12:55:57.629299\n",
      "104   2018-12-10 12:55:58.289133\n",
      "105   2018-12-10 12:55:58.901105\n",
      "106   2018-12-10 12:55:59.792532\n",
      "107   2018-12-10 12:56:00.217045\n",
      "108   2018-12-10 12:56:00.956368\n",
      "109   2018-12-10 12:56:01.772459\n",
      "110   2018-12-10 12:56:02.576132\n",
      "111   2018-12-10 12:56:03.277460\n",
      "112   2018-12-10 12:56:03.924447\n",
      "113   2018-12-10 12:56:04.517287\n",
      "114   2018-12-10 12:56:05.207686\n",
      "115   2018-12-10 12:56:05.851641\n",
      "116   2018-12-10 12:56:06.625003\n",
      "117   2018-12-10 12:56:07.257685\n",
      "118   2018-12-10 12:56:08.272259\n",
      "119   2018-12-10 12:56:08.780226\n",
      "120   2018-12-10 12:56:09.524044\n",
      "121   2018-12-10 12:56:10.339939\n",
      "122   2018-12-10 12:56:11.107912\n",
      "123   2018-12-10 12:56:11.923806\n",
      "124   2018-12-10 12:56:12.556203\n",
      "125   2018-12-10 12:56:13.200110\n",
      "126   2018-12-10 12:56:13.844543\n",
      "127   2018-12-10 12:56:14.455843\n",
      "128   2018-12-10 12:56:15.342691\n",
      "129   2018-12-10 12:56:15.755613\n",
      "130   2018-12-10 12:56:16.529468\n",
      "131   2018-12-10 12:56:17.201376\n",
      "132   2018-12-10 12:56:17.979824\n",
      "133   2018-12-10 12:56:18.743725\n",
      "134   2018-12-10 12:56:19.436125\n",
      "135   2018-12-10 12:56:20.016050\n",
      "136   2018-12-10 12:56:20.685340\n",
      "137   2018-12-10 12:56:21.359810\n",
      "138   2018-12-10 12:56:22.127761\n",
      "139   2018-12-10 12:56:22.805110\n",
      "140   2018-12-10 12:56:23.417026\n",
      "141   2018-12-10 12:56:24.028484\n",
      "142   2018-12-10 12:56:24.644387\n",
      "143   2018-12-10 12:56:25.540830\n",
      "144   2018-12-10 12:56:25.865459\n",
      "145   2018-12-10 12:56:26.513380\n",
      "146   2018-12-10 12:56:27.327895\n",
      "147   2018-12-10 12:56:28.143837\n",
      "148   2018-12-10 12:56:28.931694\n",
      "149   2018-12-10 12:56:29.605061\n",
      "150   2018-12-10 12:56:30.284978\n",
      "151   2018-12-10 12:56:30.968432\n",
      "152   2018-12-10 12:56:31.653613\n",
      "153   2018-12-10 12:56:32.376193\n",
      "154   2018-12-10 12:56:33.192126\n",
      "155   2018-12-10 12:56:33.845439\n",
      "156   2018-12-10 12:56:34.515910\n",
      "157   2018-12-10 12:56:35.163875\n",
      "158   2018-12-10 12:56:35.883648\n",
      "159   2018-12-10 12:56:36.521122\n",
      "160   2018-12-10 12:56:37.320471\n",
      "161   2018-12-10 12:56:38.044412\n",
      "162   2018-12-10 12:56:38.656366\n",
      "163   2018-12-10 12:56:39.268200\n",
      "164   2018-12-10 12:56:39.900063\n",
      "165   2018-12-10 12:56:40.593043\n",
      "166   2018-12-10 12:56:41.165330\n",
      "167   2018-12-10 12:56:41.947747\n",
      "168   2018-12-10 12:56:42.749143\n",
      "169   2018-12-10 12:56:43.373056\n",
      "170   2018-12-10 12:56:44.037514\n",
      "171   2018-12-10 12:56:44.701725\n",
      "172   2018-12-10 12:56:45.432264\n",
      "173   2018-12-10 12:56:46.180192\n",
      "174   2018-12-10 12:56:46.888062\n",
      "175   2018-12-10 12:56:47.703982\n",
      "176   2018-12-10 12:56:48.512355\n",
      "177   2018-12-10 12:56:49.335711\n",
      "178   2018-12-10 12:56:50.144122\n",
      "179   2018-12-10 12:56:50.953042\n",
      "180   2018-12-10 12:56:51.628486\n",
      "181   2018-12-10 12:56:52.327943\n",
      "182   2018-12-10 12:56:53.003739\n",
      "183   2018-12-10 12:56:53.731625\n",
      "184   2018-12-10 12:56:54.544032\n",
      "185   2018-12-10 12:56:55.348393\n",
      "186   2018-12-10 12:56:56.164369\n",
      "187   2018-12-10 12:56:56.987671\n",
      "188   2018-12-10 12:56:58.028910\n",
      "189   2018-12-10 12:56:58.456064\n",
      "190   2018-12-10 12:56:59.264689\n",
      "191   2018-12-10 12:57:00.080349\n",
      "192   2018-12-10 12:57:00.903688\n",
      "193   2018-12-10 12:57:01.712098\n",
      "194   2018-12-10 12:57:02.492947\n",
      "195   2018-12-10 12:57:03.148433\n",
      "196   2018-12-10 12:57:03.755746\n",
      "197   2018-12-10 12:57:04.348293\n",
      "198   2018-12-10 12:57:04.988167\n",
      "199   2018-12-10 12:57:05.712494\n",
      "200   2018-12-10 12:57:06.535846\n",
      "201   2018-12-10 12:57:07.319879\n",
      "202   2018-12-10 12:57:08.001103\n",
      "203   2018-12-10 12:57:08.625051\n",
      "204   2018-12-10 12:57:09.177359\n",
      "205   2018-12-10 12:57:09.898422\n",
      "206   2018-12-10 12:57:10.484236\n",
      "207   2018-12-10 12:57:11.212223\n",
      "208   2018-12-10 12:57:12.028081\n",
      "209   2018-12-10 12:57:12.784434\n",
      "210   2018-12-10 12:57:13.427883\n",
      "211   2018-12-10 12:57:14.075780\n",
      "212   2018-12-10 12:57:15.064676\n",
      "213   2018-12-10 12:57:15.397864\n",
      "214   2018-12-10 12:57:16.073759\n",
      "215   2018-12-10 12:57:16.776363\n",
      "216   2018-12-10 12:57:17.592287\n",
      "217   2018-12-10 12:57:18.345477\n",
      "218   2018-12-10 12:57:18.965402\n",
      "219   2018-12-10 12:57:19.655967\n",
      "220   2018-12-10 12:57:20.309239\n",
      "221   2018-12-10 12:57:20.925216\n",
      "222   2018-12-10 12:57:21.727664\n",
      "223   2018-12-10 12:57:22.735765\n",
      "224   2018-12-10 12:57:23.040374\n",
      "225   2018-12-10 12:57:23.737704\n",
      "226   2018-12-10 12:57:24.400239\n",
      "227   2018-12-10 12:57:25.173505\n",
      "228   2018-12-10 12:57:25.699993\n",
      "229   2018-12-10 12:57:26.361324\n",
      "230   2018-12-10 12:57:27.183774\n",
      "231   2018-12-10 12:57:27.999685\n",
      "232   2018-12-10 12:57:28.808074\n",
      "233   2018-12-10 12:57:29.536998\n",
      "234   2018-12-10 12:57:30.206098\n",
      "235   2018-12-10 12:57:30.947800\n",
      "236   2018-12-10 12:57:31.712251\n",
      "237   2018-12-10 12:57:32.421042\n",
      "238   2018-12-10 12:57:33.129445\n",
      "239   2018-12-10 12:57:33.707930\n",
      "240   2018-12-10 12:57:34.347841\n",
      "241   2018-12-10 12:57:34.956489\n",
      "242   2018-12-10 12:57:35.479728\n",
      "243   2018-12-10 12:57:36.197857\n",
      "244   2018-12-10 12:57:37.020468\n",
      "245   2018-12-10 12:57:37.792264\n",
      "246   2018-12-10 12:57:38.448201\n",
      "247   2018-12-10 12:57:39.092025\n",
      "248   2018-12-10 12:57:39.711953\n",
      "249   2018-12-10 12:57:40.361277\n",
      "250   2018-12-10 12:57:40.977143\n",
      "251   2018-12-10 12:57:41.615650\n"
     ]
    },
    {
     "name": "stdout",
     "output_type": "stream",
     "text": [
      "252   2018-12-10 12:57:42.417053\n",
      "253   2018-12-10 12:57:43.180506\n",
      "254   2018-12-10 12:57:43.869658\n",
      "255   2018-12-10 12:57:44.584831\n",
      "256   2018-12-10 12:57:45.411524\n",
      "257   2018-12-10 12:57:45.977447\n",
      "258   2018-12-10 12:57:46.719933\n",
      "259   2018-12-10 12:57:47.531902\n",
      "260   2018-12-10 12:57:48.207764\n",
      "261   2018-12-10 12:57:48.847588\n",
      "262   2018-12-10 12:57:49.437867\n",
      "263   2018-12-10 12:57:50.108472\n",
      "264   2018-12-10 12:57:50.728343\n",
      "265   2018-12-10 12:57:51.340232\n",
      "266   2018-12-10 12:57:52.096160\n",
      "267   2018-12-10 12:57:52.847992\n",
      "268   2018-12-10 12:57:53.479945\n",
      "269   2018-12-10 12:57:54.145305\n",
      "270   2018-12-10 12:57:54.769152\n",
      "271   2018-12-10 12:57:55.633162\n",
      "272   2018-12-10 12:57:56.112970\n",
      "273   2018-12-10 12:57:56.809792\n",
      "274   2018-12-10 12:57:57.501612\n",
      "275   2018-12-10 12:57:58.236585\n",
      "276   2018-12-10 12:57:59.052161\n",
      "277   2018-12-10 12:57:59.729446\n",
      "278   2018-12-10 12:58:00.458455\n",
      "279   2018-12-10 12:58:01.201244\n",
      "280   2018-12-10 12:58:01.827714\n",
      "281   2018-12-10 12:58:02.629048\n",
      "282   2018-12-10 12:58:03.237443\n",
      "283   2018-12-10 12:58:03.928409\n",
      "284   2018-12-10 12:58:04.597644\n",
      "285   2018-12-10 12:58:05.248220\n",
      "286   2018-12-10 12:58:05.925430\n",
      "287   2018-12-10 12:58:06.624268\n",
      "288   2018-12-10 12:58:07.439853\n",
      "289   2018-12-10 12:58:08.224240\n",
      "290   2018-12-10 12:58:09.043661\n",
      "291   2018-12-10 12:58:09.852055\n",
      "292   2018-12-10 12:58:10.533068\n",
      "293   2018-12-10 12:58:11.319902\n",
      "294   2018-12-10 12:58:12.128567\n",
      "295   2018-12-10 12:58:12.844155\n",
      "296   2018-12-10 12:58:13.564064\n",
      "297   2018-12-10 12:58:14.279984\n",
      "298   2018-12-10 12:58:14.956335\n",
      "299   2018-12-10 12:58:15.552684\n",
      "300   2018-12-10 12:58:16.351604\n",
      "301   2018-12-10 12:58:17.032101\n",
      "302   2018-12-10 12:58:17.640451\n",
      "303   2018-12-10 12:58:18.295804\n",
      "304   2018-12-10 12:58:18.908997\n",
      "305   2018-12-10 12:58:19.516622\n",
      "306   2018-12-10 12:58:20.196183\n",
      "307   2018-12-10 12:58:20.935953\n",
      "308   2018-12-10 12:58:21.647806\n",
      "309   2018-12-10 12:58:22.319722\n",
      "310   2018-12-10 12:58:22.933060\n",
      "311   2018-12-10 12:58:23.545066\n",
      "312   2018-12-10 12:58:24.180470\n",
      "313   2018-12-10 12:58:24.845740\n",
      "314   2018-12-10 12:58:25.557632\n",
      "315   2018-12-10 12:58:26.380135\n",
      "316   2018-12-10 12:58:27.195985\n",
      "317   2018-12-10 12:58:28.011877\n",
      "318   2018-12-10 12:58:28.827819\n",
      "319   2018-12-10 12:58:29.573159\n",
      "320   2018-12-10 12:58:30.176340\n",
      "321   2018-12-10 12:58:30.943949\n",
      "322   2018-12-10 12:58:31.716427\n",
      "323   2018-12-10 12:58:32.328293\n",
      "324   2018-12-10 12:58:33.077144\n",
      "325   2018-12-10 12:58:33.673051\n",
      "326   2018-12-10 12:58:34.465408\n",
      "327   2018-12-10 12:58:35.059871\n",
      "328   2018-12-10 12:58:35.824274\n",
      "329   2018-12-10 12:58:36.647683\n",
      "330   2018-12-10 12:58:37.400039\n",
      "331   2018-12-10 12:58:38.011958\n",
      "332   2018-12-10 12:58:38.683828\n",
      "333   2018-12-10 12:58:39.436133\n",
      "334   2018-12-10 12:58:40.003677\n",
      "335   2018-12-10 12:58:40.669016\n",
      "336   2018-12-10 12:58:41.357785\n",
      "337   2018-12-10 12:58:42.104372\n",
      "338   2018-12-10 12:58:42.920265\n",
      "339   2018-12-10 12:58:43.568399\n",
      "340   2018-12-10 12:58:44.212991\n",
      "341   2018-12-10 12:58:44.836490\n",
      "342   2018-12-10 12:58:45.659806\n",
      "343   2018-12-10 12:58:46.468256\n",
      "344   2018-12-10 12:58:47.224579\n",
      "345   2018-12-10 12:58:47.784162\n",
      "346   2018-12-10 12:58:48.413266\n",
      "347   2018-12-10 12:58:49.099919\n",
      "348   2018-12-10 12:58:49.727690\n",
      "349   2018-12-10 12:58:50.389083\n",
      "350   2018-12-10 12:58:51.048936\n",
      "351   2018-12-10 12:58:51.864412\n",
      "352   2018-12-10 12:58:52.572355\n",
      "353   2018-12-10 12:58:53.204253\n",
      "354   2018-12-10 12:58:53.865501\n",
      "355   2018-12-10 12:58:54.690746\n",
      "356   2018-12-10 12:58:55.221321\n",
      "357   2018-12-10 12:58:55.895796\n",
      "358   2018-12-10 12:58:56.615670\n",
      "359   2018-12-10 12:58:57.417031\n",
      "360   2018-12-10 12:58:58.168517\n",
      "361   2018-12-10 12:58:58.777759\n",
      "362   2018-12-10 12:58:59.420251\n",
      "363   2018-12-10 12:59:00.032184\n",
      "364   2018-12-10 12:59:00.645454\n",
      "365   2018-12-10 12:59:01.421343\n",
      "366   2018-12-10 12:59:02.065283\n",
      "367   2018-12-10 12:59:02.681176\n",
      "368   2018-12-10 12:59:03.301149\n",
      "369   2018-12-10 12:59:03.913025\n",
      "370   2018-12-10 12:59:04.785381\n",
      "371   2018-12-10 12:59:05.196411\n",
      "372   2018-12-10 12:59:05.868217\n",
      "373   2018-12-10 12:59:06.684188\n"
     ]
    }
   ],
   "source": [
    "base_filepath = \"/home/muhammadayub/Desktop/CS230/training_data/minibatches_real/\"\n",
    "\n",
    "for i_, minibatch in enumerate(minibatchesForDownload):\n",
    "    inputArr = inputArrs[minibatch]\n",
    "    outputArr = outputArrs[minibatch]\n",
    "    \n",
    "    inputPath = base_filepath+'input_'+str(i_)+\"_.npy\"\n",
    "    outputPath = base_filepath+'output_'+str(i_)+\"_.npy\"\n",
    "    \n",
    "    np.save(inputPath , inputArr )\n",
    "    np.save(outputPath , outputArr )\n",
    "    print(i_ , \" \", datetime.datetime.now())\n",
    "    "
   ]
  },
  {
   "cell_type": "code",
   "execution_count": 6,
   "metadata": {},
   "outputs": [
    {
     "name": "stdout",
     "output_type": "stream",
     "text": [
      "230.7774260044098\n"
     ]
    }
   ],
   "source": [
    "base_filepath = \"/home/muhammadayub/Desktop/CS230/training_data/minibatches_real/\"\n",
    "\n",
    "a_ = time.time()\n",
    "\n",
    "for i_ in range(374):\n",
    "    \n",
    "    inputPath = base_filepath+'input_'+str(i_)+\"_.npy\"\n",
    "    outputPath = base_filepath+'output_'+str(i_)+\"_.npy\"\n",
    "    \n",
    "    inputMinibatch = np.load(inputPath, mmap_mode = 'r')\n",
    "    outputMinibatch = np.load(outputPath, mmap_mode = 'r')\n",
    "\n",
    "    for img in outputMinibatch:\n",
    "        cCount = Counter(img.flatten())\n",
    "#         print(outputMinibatch)\n",
    "    \n",
    "b_ = time.time()\n",
    "    \n",
    "    \n",
    "    \n",
    "\n",
    "#     print(len(np.where(abc != 0)[0]))\n",
    "    \n",
    "print(b_-a_)"
   ]
  },
  {
   "cell_type": "code",
   "execution_count": 141,
   "metadata": {
    "scrolled": true
   },
   "outputs": [
    {
     "data": {
      "image/png": "[encoded data removed]",
      "text/plain": [
       "<Figure size 432x288 with 1 Axes>"
      ]
     },
     "metadata": {},
     "output_type": "display_data"
    }
   ],
   "source": [
    "# plt.imshow(abc[-90].astype(np.int64))\n",
    "# plt.show()"
   ]
  },
  {
   "cell_type": "code",
   "execution_count": 11,
   "metadata": {},
   "outputs": [
    {
     "name": "stdout",
     "output_type": "stream",
     "text": [
      "336 18 20\n",
      "18 20 336\n",
      "[336 337 338 339 340 341 342 343 344 345 346 347 348 349 350 351 352 353]\n",
      "[354 355 356 357 358 359 360 361 362 363 364 365 366 367 368 369 370 371\n",
      " 372 373]\n",
      "[  0   1   2   3   4   5   6   7   8   9  10  11  12  13  14  15  16  17\n",
      "  18  19  20  21  22  23  24  25  26  27  28  29  30  31  32  33  34  35\n",
      "  36  37  38  39  40  41  42  43  44  45  46  47  48  49  50  51  52  53\n",
      "  54  55  56  57  58  59  60  61  62  63  64  65  66  67  68  69  70  71\n",
      "  72  73  74  75  76  77  78  79  80  81  82  83  84  85  86  87  88  89\n",
      "  90  91  92  93  94  95  96  97  98  99 100 101 102 103 104 105 106 107\n",
      " 108 109 110 111 112 113 114 115 116 117 118 119 120 121 122 123 124 125\n",
      " 126 127 128 129 130 131 132 133 134 135 136 137 138 139 140 141 142 143\n",
      " 144 145 146 147 148 149 150 151 152 153 154 155 156 157 158 159 160 161\n",
      " 162 163 164 165 166 167 168 169 170 171 172 173 174 175 176 177 178 179\n",
      " 180 181 182 183 184 185 186 187 188 189 190 191 192 193 194 195 196 197\n",
      " 198 199 200 201 202 203 204 205 206 207 208 209 210 211 212 213 214 215\n",
      " 216 217 218 219 220 221 222 223 224 225 226 227 228 229 230 231 232 233\n",
      " 234 235 236 237 238 239 240 241 242 243 244 245 246 247 248 249 250 251\n",
      " 252 253 254 255 256 257 258 259 260 261 262 263 264 265 266 267 268 269\n",
      " 270 271 272 273 274 275 276 277 278 279 280 281 282 283 284 285 286 287\n",
      " 288 289 290 291 292 293 294 295 296 297 298 299 300 301 302 303 304 305\n",
      " 306 307 308 309 310 311 312 313 314 315 316 317 318 319 320 321 322 323\n",
      " 324 325 326 327 328 329 330 331 332 333 334 335]\n"
     ]
    }
   ],
   "source": [
    "MINIBATCHES_AMT = 374\n",
    "miniBatchIndices = np.arange(MINIBATCHES_AMT)\n",
    "train_split = int(MINIBATCHES_AMT*.90)\n",
    "dev_split = int(MINIBATCHES_AMT*.05)\n",
    "test_split = MINIBATCHES_AMT - train_split - dev_split\n",
    "print(train_split, dev_split, test_split )\n",
    "\n",
    "backup_minibatches = copy.deepcopy(miniBatchIndices)\n",
    "\n",
    "devMiniBatches = copy.deepcopy(miniBatchIndices[train_split:train_split+dev_split])\n",
    "testMiniBatches = copy.deepcopy(miniBatchIndices[train_split+dev_split:])# remove the last minibatch\n",
    "minibatches = copy.deepcopy(miniBatchIndices[:train_split]) #training set  #must be at the end\n",
    "\n",
    "# print(len(devMiniBatches+testMiniBatches+minibatches))\n",
    "print(len(devMiniBatches), len(testMiniBatches) , len(minibatches))\n",
    "print(devMiniBatches)\n",
    "print(testMiniBatches)\n",
    "print(minibatches)"
   ]
  },
  {
   "cell_type": "code",
   "execution_count": 12,
   "metadata": {
    "collapsed": true
   },
   "outputs": [],
   "source": [
    "CATEGORY_AMT = 34  # model5/model3_12_9__541_160.ckpt"
   ]
  },
  {
   "cell_type": "code",
   "execution_count": 71,
   "metadata": {
    "collapsed": true
   },
   "outputs": [],
   "source": [
    "devMiniBatches = np.load( '/home/muhammadayub/Desktop/CS230/models_saved/model5/devMiniBatches.npy')\n",
    "testMiniBatches = np.load( '/home/muhammadayub/Desktop/CS230/models_saved/model5/testMiniBatches.npy' )\n",
    "minibatches = np.load( '/home/muhammadayub/Desktop/CS230/models_saved/model5/minibatches.npy' )"
   ]
  },
  {
   "cell_type": "code",
   "execution_count": 72,
   "metadata": {},
   "outputs": [
    {
     "data": {
      "text/plain": [
       "array([360, 362, 316,  43, 246, 319, 293, 224,  41,  50, 274,  37,  65,\n",
       "       266, 241, 311,  79,  18])"
      ]
     },
     "execution_count": 72,
     "metadata": {},
     "output_type": "execute_result"
    }
   ],
   "source": [
    "devMiniBatches"
   ]
  },
  {
   "cell_type": "code",
   "execution_count": 121,
   "metadata": {},
   "outputs": [
    {
     "name": "stdout",
     "output_type": "stream",
     "text": [
      "23.37549662590027\n"
     ]
    }
   ],
   "source": [
    "base_filepath = \"/home/muhammadayub/Desktop/CS230/training_data/minibatches_real/\"\n",
    "\n",
    "a_ = time.time()\n",
    "\n",
    "inputData = []\n",
    "outputData = []\n",
    "\n",
    "for i_ in devMiniBatches:\n",
    "    \n",
    "    inputPath = base_filepath+'input_'+str(i_)+\"_.npy\"\n",
    "    outputPath = base_filepath+'output_'+str(i_)+\"_.npy\"\n",
    "    \n",
    "    inputMinibatch = np.load(inputPath, mmap_mode = 'r')\n",
    "    outputMinibatch = np.load(outputPath, mmap_mode = 'r')\n",
    "    \n",
    "    oneHotVectors = np.zeros(shape=( len(outputMinibatch), CATEGORY_AMT ))\n",
    "    \n",
    "    \n",
    "    for x_ , img in enumerate(outputMinibatch):\n",
    "        cCount = Counter(img.flatten())\n",
    "        mC = cCount.most_common()\n",
    "        if(mC[0][0] == -1):\n",
    "            oneHotVectors[x_][int(mC[1][0])] = 1\n",
    "    \n",
    "    inputData.append(inputMinibatch)\n",
    "    outputData.append(oneHotVectors)\n",
    "    \n",
    "    \n",
    "b_ = time.time()\n",
    "   \n",
    "print(b_-a_)"
   ]
  },
  {
   "cell_type": "code",
   "execution_count": 123,
   "metadata": {},
   "outputs": [
    {
     "name": "stdout",
     "output_type": "stream",
     "text": [
      "447.2990291118622\n"
     ]
    }
   ],
   "source": [
    "base_filepath = \"/home/muhammadayub/Desktop/CS230/training_data/minibatches_real/\"\n",
    "\n",
    "a_ = time.time()\n",
    "\n",
    "inputData = []\n",
    "outputData = []\n",
    "\n",
    "for i_ in range(374):\n",
    "    \n",
    "    inputPath = base_filepath+'input_'+str(i_)+\"_.npy\"\n",
    "    outputPath = base_filepath+'output_'+str(i_)+\"_.npy\"\n",
    "    \n",
    "    inputMinibatch = np.load(inputPath, mmap_mode = 'r')\n",
    "    outputMinibatch = np.load(outputPath, mmap_mode = 'r')\n",
    "    \n",
    "    oneHotVectors = np.zeros(shape=( len(outputMinibatch), CATEGORY_AMT ))\n",
    "    \n",
    "    \n",
    "    for x_ , img in enumerate(outputMinibatch):\n",
    "        cCount = Counter(img.flatten())\n",
    "        mC = cCount.most_common()\n",
    "        \n",
    "        oneHotVectors[x_][0] = 1\n",
    "        \n",
    "#         if(len(mC) == 2):\n",
    "#             if(mC[0][0] == -1):\n",
    "#                 oneHotVectors[x_][int(mC[1][0])] = 1\n",
    "#             else:\n",
    "#                 print(\"oh no-> assumption doesn't hold true . Recode\")\n",
    "#         elif(len(mC) == 3):\n",
    "#             if(mC[0][0] == -1):\n",
    "#                 oneHotVectors[x_][int(mC[1][0])] = .5\n",
    "#                 oneHotVectors[x_][int(mC[2][0])] = .5\n",
    "#             else:\n",
    "#                 print(\"oh no-> assumption doesn't hold true . Recode\")\n",
    "#         else:#(len(mc) >= 4):\n",
    "#             if(mC[0][0] == -1):\n",
    "#                 oneHotVectors[x_][int(mC[1][0])] = .33\n",
    "#                 oneHotVectors[x_][int(mC[2][0])] = .34\n",
    "#                 oneHotVectors[x_][int(mC[3][0])] = .33\n",
    "#             else:\n",
    "#                 print(\"oh no-> assumption doesn't hold true . Recode\")\n",
    "        \n",
    "            \n",
    "            \n",
    "    inputData.append(inputMinibatch)\n",
    "    outputData.append(oneHotVectors)\n",
    "    \n",
    "    \n",
    "b_ = time.time()\n",
    "   \n",
    "print(b_-a_)"
   ]
  },
  {
   "cell_type": "code",
   "execution_count": 124,
   "metadata": {},
   "outputs": [
    {
     "name": "stdout",
     "output_type": "stream",
     "text": [
      "374\n",
      "374\n"
     ]
    }
   ],
   "source": [
    "print(len(inputData))\n",
    "print(len(outputData))\n"
   ]
  },
  {
   "cell_type": "markdown",
   "metadata": {},
   "source": [
    "# Get the model and learn from the data"
   ]
  },
  {
   "cell_type": "code",
   "execution_count": 89,
   "metadata": {
    "collapsed": true
   },
   "outputs": [],
   "source": [
    "def create_placeholders(n_H0, n_W0, n_C0, n_y):\n",
    "    \"\"\"\n",
    "    Creates the placeholders for the tensorflow session.\n",
    "    \n",
    "    Arguments:\n",
    "    n_H0 -- scalar, height of an input image\n",
    "    n_W0 -- scalar, width of an input image\n",
    "    n_C0 -- scalar, number of channels of the input\n",
    "    n_y -- scalar, number of classes\n",
    "        \n",
    "    Returns:\n",
    "    X -- placeholder for the data input, of shape [None, n_H0, n_W0, n_C0] and dtype \"float\"\n",
    "    Y -- placeholder for the input labels, of shape [None, n_y] and dtype \"float\"\n",
    "    \"\"\"\n",
    "\n",
    "\n",
    "    X = tf.placeholder(shape =[None, n_H0, n_W0, n_C0], dtype = np.float32, name=\"X\")\n",
    "    Y = tf.placeholder(shape  =[None, n_y], dtype = np.float32 , name=\"Y\")\n",
    "    ### END CODE HERE ###\n",
    "    \n",
    "    return X, Y"
   ]
  },
  {
   "cell_type": "code",
   "execution_count": 90,
   "metadata": {
    "collapsed": true
   },
   "outputs": [],
   "source": [
    "def initialize_parameters():    \n",
    "\n",
    "    W1 = tf.get_variable(\"W1\", [10, 10, 28, 3], initializer =tf.contrib.layers.xavier_initializer(seed = 0))\n",
    "    W2 = tf.get_variable(\"W2\", [6, 6, 3, 2], initializer =tf.contrib.layers.xavier_initializer(seed = 0))\n",
    "    W3 = tf.get_variable(\"W3\", [35,200] , initializer =tf.contrib.layers.xavier_initializer(seed = 0) )\n",
    "\n",
    "    parameters = {\"W1\": W1, \"W2\": W2 , 'W3': 'W3'}\n",
    "    \n",
    "    return parameters"
   ]
  },
  {
   "cell_type": "code",
   "execution_count": 91,
   "metadata": {
    "collapsed": true
   },
   "outputs": [],
   "source": [
    "def forward_prop(X, params):\n",
    "    W1 = params['W1']\n",
    "    W2 = params['W2']    \n",
    "    W3 = params['W3']\n",
    "    \n",
    "    #convolution \n",
    "    Z1 = tf.nn.conv2d(X,W1, strides = [1,2,2,1], padding = 'VALID')\n",
    "    \n",
    "    #bias added automatically # RELU\n",
    "    A1 = tf.nn.relu(Z1)\n",
    "    \n",
    "    #average pooling -> at this point all features/weights are important to us\n",
    "    P1 = tf.nn.avg_pool(A1, ksize = [1,3,3,1], strides = [1,1,1,1], padding = 'SAME')\n",
    "\n",
    "    # convolution \n",
    "    Z2 = tf.nn.conv2d(P1,W2, strides = [1,2,2,1], padding = 'VALID')\n",
    "    \n",
    "    #RELU\n",
    "    A2 = tf.nn.relu(Z2)\n",
    "    \n",
    "    #max pooling\n",
    "    P2 = tf.nn.max_pool(A2, ksize = [1,3,3,1], strides = [1,1,1,1], padding = 'VALID')\n",
    "    \n",
    "    #flatten\n",
    "    P2 = tf.contrib.layers.flatten(P2)\n",
    "\n",
    "    #fully connected\n",
    "    Z3 = tf.contrib.layers.fully_connected(P2, CATEGORY_AMT, activation_fn = None) #1 for yes/no\n",
    "    #going to add the softmax directly\n",
    "\n",
    "    return Z3"
   ]
  },
  {
   "cell_type": "code",
   "execution_count": 78,
   "metadata": {
    "collapsed": true
   },
   "outputs": [],
   "source": [
    "# 22:04 - 22:08 Tuesday\n",
    "# 22:10 - 22:20\n",
    "#Restoring the model\n"
   ]
  },
  {
   "cell_type": "code",
   "execution_count": 125,
   "metadata": {},
   "outputs": [
    {
     "name": "stdout",
     "output_type": "stream",
     "text": [
      " Running  374  minibatches to get the evaluation metrics\n",
      "INFO:tensorflow:Restoring parameters from /home/muhammadayub/Desktop/CS230/models_saved/model5/model3_12_9__541_160.ckpt\n",
      "Model restored.\n",
      "Minibatch:  0   2018-12-12 09:51:25.575290\n",
      "Minibatch:  1   2018-12-12 09:51:25.842121\n",
      "Minibatch:  2   2018-12-12 09:51:26.137690\n",
      "Minibatch:  3   2018-12-12 09:51:26.467684\n",
      "Minibatch:  4   2018-12-12 09:51:26.726283\n",
      "Minibatch:  5   2018-12-12 09:51:27.005811\n",
      "Minibatch:  6   2018-12-12 09:51:27.343363\n",
      "Minibatch:  7   2018-12-12 09:51:27.651891\n",
      "Minibatch:  8   2018-12-12 09:51:27.953713\n",
      "Minibatch:  9   2018-12-12 09:51:28.277641\n",
      "Minibatch:  10   2018-12-12 09:51:28.580148\n",
      "Minibatch:  11   2018-12-12 09:51:28.847088\n",
      "Minibatch:  12   2018-12-12 09:51:29.106390\n",
      "Minibatch:  13   2018-12-12 09:51:29.445184\n",
      "Minibatch:  14   2018-12-12 09:51:29.714972\n",
      "Minibatch:  15   2018-12-12 09:51:29.978514\n",
      "Minibatch:  16   2018-12-12 09:51:30.278828\n",
      "Minibatch:  17   2018-12-12 09:51:30.582187\n",
      "Minibatch:  18   2018-12-12 09:51:30.856919\n",
      "Minibatch:  19   2018-12-12 09:51:31.138061\n",
      "Minibatch:  20   2018-12-12 09:51:31.466022\n",
      "Minibatch:  21   2018-12-12 09:51:31.734983\n",
      "Minibatch:  22   2018-12-12 09:51:32.015055\n",
      "Minibatch:  23   2018-12-12 09:51:32.353808\n",
      "Minibatch:  24   2018-12-12 09:51:32.626851\n",
      "Minibatch:  25   2018-12-12 09:51:32.892115\n",
      "Minibatch:  26   2018-12-12 09:51:33.221869\n",
      "Minibatch:  27   2018-12-12 09:51:33.511235\n",
      "Minibatch:  28   2018-12-12 09:51:33.789179\n",
      "Minibatch:  29   2018-12-12 09:51:34.085872\n",
      "Minibatch:  30   2018-12-12 09:51:34.398249\n",
      "Minibatch:  31   2018-12-12 09:51:34.686360\n",
      "Minibatch:  32   2018-12-12 09:51:35.021734\n",
      "Minibatch:  33   2018-12-12 09:51:35.330381\n",
      "Minibatch:  34   2018-12-12 09:51:35.618904\n",
      "Minibatch:  35   2018-12-12 09:51:35.901792\n",
      "Minibatch:  36   2018-12-12 09:51:36.247584\n",
      "Minibatch:  37   2018-12-12 09:51:36.550002\n",
      "Minibatch:  38   2018-12-12 09:51:36.831340\n",
      "Minibatch:  39   2018-12-12 09:51:37.198156\n",
      "Minibatch:  40   2018-12-12 09:51:37.489666\n",
      "Minibatch:  41   2018-12-12 09:51:37.779751\n",
      "Minibatch:  42   2018-12-12 09:51:38.135656\n",
      "Minibatch:  43   2018-12-12 09:51:38.424733\n",
      "Minibatch:  44   2018-12-12 09:51:38.690310\n",
      "Minibatch:  45   2018-12-12 09:51:38.964851\n",
      "Minibatch:  46   2018-12-12 09:51:39.271654\n",
      "Minibatch:  47   2018-12-12 09:51:39.541678\n",
      "Minibatch:  48   2018-12-12 09:51:39.825183\n",
      "Minibatch:  49   2018-12-12 09:51:40.183997\n",
      "Minibatch:  50   2018-12-12 09:51:40.445287\n",
      "Minibatch:  51   2018-12-12 09:51:40.712643\n",
      "Minibatch:  52   2018-12-12 09:51:41.026773\n",
      "Minibatch:  53   2018-12-12 09:51:41.328481\n",
      "Minibatch:  54   2018-12-12 09:51:41.610317\n",
      "Minibatch:  55   2018-12-12 09:51:41.952645\n",
      "Minibatch:  56   2018-12-12 09:51:42.244372\n",
      "Minibatch:  57   2018-12-12 09:51:42.501586\n",
      "Minibatch:  58   2018-12-12 09:51:42.848944\n",
      "Minibatch:  59   2018-12-12 09:51:43.138472\n",
      "Minibatch:  60   2018-12-12 09:51:43.403800\n",
      "Minibatch:  61   2018-12-12 09:51:43.709590\n",
      "Minibatch:  62   2018-12-12 09:51:44.002431\n",
      "Minibatch:  63   2018-12-12 09:51:44.274952\n",
      "Minibatch:  64   2018-12-12 09:51:44.578044\n",
      "Minibatch:  65   2018-12-12 09:51:44.888901\n",
      "Minibatch:  66   2018-12-12 09:51:45.157675\n",
      "Minibatch:  67   2018-12-12 09:51:45.408994\n",
      "Minibatch:  68   2018-12-12 09:51:45.628328\n",
      "Minibatch:  69   2018-12-12 09:51:45.923188\n",
      "Minibatch:  70   2018-12-12 09:51:46.210310\n",
      "Minibatch:  71   2018-12-12 09:51:46.482539\n",
      "Minibatch:  72   2018-12-12 09:51:46.818816\n",
      "Minibatch:  73   2018-12-12 09:51:47.097445\n",
      "Minibatch:  74   2018-12-12 09:51:47.376322\n",
      "Minibatch:  75   2018-12-12 09:51:47.661404\n",
      "Minibatch:  76   2018-12-12 09:51:47.971155\n",
      "Minibatch:  77   2018-12-12 09:51:48.234014\n",
      "Minibatch:  78   2018-12-12 09:51:48.506869\n",
      "Minibatch:  79   2018-12-12 09:51:48.834349\n",
      "Minibatch:  80   2018-12-12 09:51:49.111755\n",
      "Minibatch:  81   2018-12-12 09:51:49.382602\n",
      "Minibatch:  82   2018-12-12 09:51:49.740487\n",
      "Minibatch:  83   2018-12-12 09:51:50.027571\n",
      "Minibatch:  84   2018-12-12 09:51:50.329368\n",
      "Minibatch:  85   2018-12-12 09:51:50.707684\n",
      "Minibatch:  86   2018-12-12 09:51:50.991905\n",
      "Minibatch:  87   2018-12-12 09:51:51.289590\n",
      "Minibatch:  88   2018-12-12 09:51:51.659264\n",
      "Minibatch:  89   2018-12-12 09:51:51.953472\n",
      "Minibatch:  90   2018-12-12 09:51:52.255681\n",
      "Minibatch:  91   2018-12-12 09:51:52.633057\n",
      "Minibatch:  92   2018-12-12 09:51:52.932870\n",
      "Minibatch:  93   2018-12-12 09:51:53.240150\n",
      "Minibatch:  94   2018-12-12 09:51:53.611361\n",
      "Minibatch:  95   2018-12-12 09:51:53.892391\n",
      "Minibatch:  96   2018-12-12 09:51:54.203049\n",
      "Minibatch:  97   2018-12-12 09:51:54.558236\n",
      "Minibatch:  98   2018-12-12 09:51:54.858301\n",
      "Minibatch:  99   2018-12-12 09:51:55.120305\n",
      "Minibatch:  100   2018-12-12 09:51:55.471684\n",
      "Minibatch:  101   2018-12-12 09:51:55.755164\n",
      "Minibatch:  102   2018-12-12 09:51:56.051715\n",
      "Minibatch:  103   2018-12-12 09:51:56.349091\n",
      "Minibatch:  104   2018-12-12 09:51:56.681693\n",
      "Minibatch:  105   2018-12-12 09:51:56.952656\n",
      "Minibatch:  106   2018-12-12 09:51:57.243415\n",
      "Minibatch:  107   2018-12-12 09:51:57.590080\n",
      "Minibatch:  108   2018-12-12 09:51:57.886752\n",
      "Minibatch:  109   2018-12-12 09:51:58.156150\n",
      "Minibatch:  110   2018-12-12 09:51:58.524050\n",
      "Minibatch:  111   2018-12-12 09:51:58.832789\n",
      "Minibatch:  112   2018-12-12 09:51:59.144546\n",
      "Minibatch:  113   2018-12-12 09:51:59.496929\n",
      "Minibatch:  114   2018-12-12 09:51:59.798258\n",
      "Minibatch:  115   2018-12-12 09:52:00.116695\n",
      "Minibatch:  116   2018-12-12 09:52:00.449367\n",
      "Minibatch:  117   2018-12-12 09:52:00.710455\n",
      "Minibatch:  118   2018-12-12 09:52:00.986192\n",
      "Minibatch:  119   2018-12-12 09:52:01.278243\n",
      "Minibatch:  120   2018-12-12 09:52:01.586026\n",
      "Minibatch:  121   2018-12-12 09:52:01.865723\n",
      "Minibatch:  122   2018-12-12 09:52:02.189016\n",
      "Minibatch:  123   2018-12-12 09:52:02.487792\n",
      "Minibatch:  124   2018-12-12 09:52:02.765522\n",
      "Minibatch:  125   2018-12-12 09:52:03.102710\n",
      "Minibatch:  126   2018-12-12 09:52:03.419281\n",
      "Minibatch:  127   2018-12-12 09:52:03.709605\n",
      "Minibatch:  128   2018-12-12 09:52:04.013566\n",
      "Minibatch:  129   2018-12-12 09:52:04.348639\n",
      "Minibatch:  130   2018-12-12 09:52:04.678309\n",
      "Minibatch:  131   2018-12-12 09:52:05.035276\n",
      "Minibatch:  132   2018-12-12 09:52:05.355226\n",
      "Minibatch:  133   2018-12-12 09:52:05.635502\n",
      "Minibatch:  134   2018-12-12 09:52:05.977622\n",
      "Minibatch:  135   2018-12-12 09:52:06.272475\n",
      "Minibatch:  136   2018-12-12 09:52:06.542177\n",
      "Minibatch:  137   2018-12-12 09:52:06.857314\n",
      "Minibatch:  138   2018-12-12 09:52:07.133196\n",
      "Minibatch:  139   2018-12-12 09:52:07.414523\n",
      "Minibatch:  140   2018-12-12 09:52:07.699008\n",
      "Minibatch:  141   2018-12-12 09:52:07.998003\n",
      "Minibatch:  142   2018-12-12 09:52:08.272483\n",
      "Minibatch:  143   2018-12-12 09:52:08.543241\n",
      "Minibatch:  144   2018-12-12 09:52:08.756533\n",
      "Minibatch:  145   2018-12-12 09:52:09.039784\n",
      "Minibatch:  146   2018-12-12 09:52:09.329560\n",
      "Minibatch:  147   2018-12-12 09:52:09.596318\n",
      "Minibatch:  148   2018-12-12 09:52:09.872177\n",
      "Minibatch:  149   2018-12-12 09:52:10.197272\n",
      "Minibatch:  150   2018-12-12 09:52:10.467605\n",
      "Minibatch:  151   2018-12-12 09:52:10.736682\n",
      "Minibatch:  152   2018-12-12 09:52:11.079860\n",
      "Minibatch:  153   2018-12-12 09:52:11.352825\n",
      "Minibatch:  154   2018-12-12 09:52:11.620658\n",
      "Minibatch:  155   2018-12-12 09:52:11.974050\n",
      "Minibatch:  156   2018-12-12 09:52:12.256189\n",
      "Minibatch:  157   2018-12-12 09:52:12.524549\n",
      "Minibatch:  158   2018-12-12 09:52:12.871012\n",
      "Minibatch:  159   2018-12-12 09:52:13.107947\n",
      "Minibatch:  160   2018-12-12 09:52:13.367729\n",
      "Minibatch:  161   2018-12-12 09:52:13.642029\n",
      "Minibatch:  162   2018-12-12 09:52:13.950972\n",
      "Minibatch:  163   2018-12-12 09:52:14.215925\n",
      "Minibatch:  164   2018-12-12 09:52:14.479499\n",
      "Minibatch:  165   2018-12-12 09:52:14.795036\n",
      "Minibatch:  166   2018-12-12 09:52:15.077656\n",
      "Minibatch:  167   2018-12-12 09:52:15.350083\n",
      "Minibatch:  168   2018-12-12 09:52:15.673407\n",
      "Minibatch:  169   2018-12-12 09:52:15.948874\n",
      "Minibatch:  170   2018-12-12 09:52:16.204046\n",
      "Minibatch:  171   2018-12-12 09:52:16.491374\n",
      "Minibatch:  172   2018-12-12 09:52:16.806013\n",
      "Minibatch:  173   2018-12-12 09:52:17.079005\n",
      "Minibatch:  174   2018-12-12 09:52:17.350009\n",
      "Minibatch:  175   2018-12-12 09:52:17.698214\n",
      "Minibatch:  176   2018-12-12 09:52:17.976551\n",
      "Minibatch:  177   2018-12-12 09:52:18.230193\n",
      "Minibatch:  178   2018-12-12 09:52:18.567950\n",
      "Minibatch:  179   2018-12-12 09:52:18.862034\n",
      "Minibatch:  180   2018-12-12 09:52:19.134510\n"
     ]
    },
    {
     "name": "stdout",
     "output_type": "stream",
     "text": [
      "Minibatch:  181   2018-12-12 09:52:19.474074\n",
      "Minibatch:  182   2018-12-12 09:52:19.739214\n",
      "Minibatch:  183   2018-12-12 09:52:20.014887\n",
      "Minibatch:  184   2018-12-12 09:52:20.354103\n",
      "Minibatch:  185   2018-12-12 09:52:20.618523\n",
      "Minibatch:  186   2018-12-12 09:52:20.888792\n",
      "Minibatch:  187   2018-12-12 09:52:21.208867\n",
      "Minibatch:  188   2018-12-12 09:52:21.495718\n",
      "Minibatch:  189   2018-12-12 09:52:21.766992\n",
      "Minibatch:  190   2018-12-12 09:52:22.047923\n",
      "Minibatch:  191   2018-12-12 09:52:22.364373\n",
      "Minibatch:  192   2018-12-12 09:52:22.636865\n",
      "Minibatch:  193   2018-12-12 09:52:22.938552\n",
      "Minibatch:  194   2018-12-12 09:52:23.240412\n",
      "Minibatch:  195   2018-12-12 09:52:23.503241\n",
      "Minibatch:  196   2018-12-12 09:52:23.769797\n",
      "Minibatch:  197   2018-12-12 09:52:23.984795\n",
      "Minibatch:  198   2018-12-12 09:52:24.279217\n",
      "Minibatch:  199   2018-12-12 09:52:24.574421\n",
      "Minibatch:  200   2018-12-12 09:52:24.849975\n",
      "Minibatch:  201   2018-12-12 09:52:25.144567\n",
      "Minibatch:  202   2018-12-12 09:52:25.442302\n",
      "Minibatch:  203   2018-12-12 09:52:25.704284\n",
      "Minibatch:  204   2018-12-12 09:52:25.980211\n",
      "Minibatch:  205   2018-12-12 09:52:26.298668\n",
      "Minibatch:  206   2018-12-12 09:52:26.575167\n",
      "Minibatch:  207   2018-12-12 09:52:26.850285\n",
      "Minibatch:  208   2018-12-12 09:52:27.192995\n",
      "Minibatch:  209   2018-12-12 09:52:27.492954\n",
      "Minibatch:  210   2018-12-12 09:52:27.793797\n",
      "Minibatch:  211   2018-12-12 09:52:28.146364\n",
      "Minibatch:  212   2018-12-12 09:52:28.425693\n",
      "Minibatch:  213   2018-12-12 09:52:28.696109\n",
      "Minibatch:  214   2018-12-12 09:52:29.048075\n",
      "Minibatch:  215   2018-12-12 09:52:29.312928\n",
      "Minibatch:  216   2018-12-12 09:52:29.579840\n",
      "Minibatch:  217   2018-12-12 09:52:29.907221\n",
      "Minibatch:  218   2018-12-12 09:52:30.190336\n",
      "Minibatch:  219   2018-12-12 09:52:30.460469\n",
      "Minibatch:  220   2018-12-12 09:52:30.769079\n",
      "Minibatch:  221   2018-12-12 09:52:31.066439\n",
      "Minibatch:  222   2018-12-12 09:52:31.330830\n",
      "Minibatch:  223   2018-12-12 09:52:31.615747\n",
      "Minibatch:  224   2018-12-12 09:52:31.919472\n",
      "Minibatch:  225   2018-12-12 09:52:32.186286\n",
      "Minibatch:  226   2018-12-12 09:52:32.452116\n",
      "Minibatch:  227   2018-12-12 09:52:32.665064\n",
      "Minibatch:  228   2018-12-12 09:52:32.970607\n",
      "Minibatch:  229   2018-12-12 09:52:33.254214\n",
      "Minibatch:  230   2018-12-12 09:52:33.534633\n",
      "Minibatch:  231   2018-12-12 09:52:33.832116\n",
      "Minibatch:  232   2018-12-12 09:52:34.137984\n",
      "Minibatch:  233   2018-12-12 09:52:34.404020\n",
      "Minibatch:  234   2018-12-12 09:52:34.665032\n",
      "Minibatch:  235   2018-12-12 09:52:34.997435\n",
      "Minibatch:  236   2018-12-12 09:52:35.269119\n",
      "Minibatch:  237   2018-12-12 09:52:35.535136\n",
      "Minibatch:  238   2018-12-12 09:52:35.865094\n",
      "Minibatch:  239   2018-12-12 09:52:36.138148\n",
      "Minibatch:  240   2018-12-12 09:52:36.417555\n",
      "Minibatch:  241   2018-12-12 09:52:36.760107\n",
      "Minibatch:  242   2018-12-12 09:52:37.010578\n",
      "Minibatch:  243   2018-12-12 09:52:37.274521\n",
      "Minibatch:  244   2018-12-12 09:52:37.567691\n",
      "Minibatch:  245   2018-12-12 09:52:37.882958\n",
      "Minibatch:  246   2018-12-12 09:52:38.156873\n",
      "Minibatch:  247   2018-12-12 09:52:38.428411\n",
      "Minibatch:  248   2018-12-12 09:52:38.750079\n",
      "Minibatch:  249   2018-12-12 09:52:39.026523\n",
      "Minibatch:  250   2018-12-12 09:52:39.288946\n",
      "Minibatch:  251   2018-12-12 09:52:39.633221\n",
      "Minibatch:  252   2018-12-12 09:52:39.898265\n",
      "Minibatch:  253   2018-12-12 09:52:40.168350\n",
      "Minibatch:  254   2018-12-12 09:52:40.512479\n",
      "Minibatch:  255   2018-12-12 09:52:40.802002\n",
      "Minibatch:  256   2018-12-12 09:52:41.075900\n",
      "Minibatch:  257   2018-12-12 09:52:41.402705\n",
      "Minibatch:  258   2018-12-12 09:52:41.662135\n",
      "Minibatch:  259   2018-12-12 09:52:41.934292\n",
      "Minibatch:  260   2018-12-12 09:52:42.248974\n",
      "Minibatch:  261   2018-12-12 09:52:42.539439\n",
      "Minibatch:  262   2018-12-12 09:52:42.808598\n",
      "Minibatch:  263   2018-12-12 09:52:43.085818\n",
      "Minibatch:  264   2018-12-12 09:52:43.383598\n",
      "Minibatch:  265   2018-12-12 09:52:43.659526\n",
      "Minibatch:  266   2018-12-12 09:52:43.922277\n",
      "Minibatch:  267   2018-12-12 09:52:44.254580\n",
      "Minibatch:  268   2018-12-12 09:52:44.517620\n",
      "Minibatch:  269   2018-12-12 09:52:44.786232\n",
      "Minibatch:  270   2018-12-12 09:52:45.119854\n",
      "Minibatch:  271   2018-12-12 09:52:45.392622\n",
      "Minibatch:  272   2018-12-12 09:52:45.664392\n",
      "Minibatch:  273   2018-12-12 09:52:45.990044\n",
      "Minibatch:  274   2018-12-12 09:52:46.279891\n",
      "Minibatch:  275   2018-12-12 09:52:46.546734\n",
      "Minibatch:  276   2018-12-12 09:52:46.859664\n",
      "Minibatch:  277   2018-12-12 09:52:47.160878\n",
      "Minibatch:  278   2018-12-12 09:52:47.424801\n",
      "Minibatch:  279   2018-12-12 09:52:47.718443\n",
      "Minibatch:  280   2018-12-12 09:52:48.017164\n",
      "Minibatch:  281   2018-12-12 09:52:48.287482\n",
      "Minibatch:  282   2018-12-12 09:52:48.556173\n",
      "Minibatch:  283   2018-12-12 09:52:48.886012\n",
      "Minibatch:  284   2018-12-12 09:52:49.157976\n",
      "Minibatch:  285   2018-12-12 09:52:49.427808\n",
      "Minibatch:  286   2018-12-12 09:52:49.771309\n",
      "Minibatch:  287   2018-12-12 09:52:50.049071\n",
      "Minibatch:  288   2018-12-12 09:52:50.326307\n",
      "Minibatch:  289   2018-12-12 09:52:50.672622\n",
      "Minibatch:  290   2018-12-12 09:52:50.939140\n",
      "Minibatch:  291   2018-12-12 09:52:51.191724\n",
      "Minibatch:  292   2018-12-12 09:52:51.495787\n",
      "Minibatch:  293   2018-12-12 09:52:51.785622\n",
      "Minibatch:  294   2018-12-12 09:52:52.050671\n",
      "Minibatch:  295   2018-12-12 09:52:52.317901\n",
      "Minibatch:  296   2018-12-12 09:52:52.643268\n",
      "Minibatch:  297   2018-12-12 09:52:52.905525\n",
      "Minibatch:  298   2018-12-12 09:52:53.181394\n",
      "Minibatch:  299   2018-12-12 09:52:53.534864\n",
      "Minibatch:  300   2018-12-12 09:52:53.804431\n",
      "Minibatch:  301   2018-12-12 09:52:54.067940\n",
      "Minibatch:  302   2018-12-12 09:52:54.393135\n",
      "Minibatch:  303   2018-12-12 09:52:54.693092\n",
      "Minibatch:  304   2018-12-12 09:52:55.015742\n",
      "Minibatch:  305   2018-12-12 09:52:55.388085\n",
      "Minibatch:  306   2018-12-12 09:52:55.688105\n",
      "Minibatch:  307   2018-12-12 09:52:55.980707\n",
      "Minibatch:  308   2018-12-12 09:52:56.352868\n",
      "Minibatch:  309   2018-12-12 09:52:56.636013\n",
      "Minibatch:  310   2018-12-12 09:52:56.938704\n",
      "Minibatch:  311   2018-12-12 09:52:57.310216\n",
      "Minibatch:  312   2018-12-12 09:52:57.589601\n",
      "Minibatch:  313   2018-12-12 09:52:57.876494\n",
      "Minibatch:  314   2018-12-12 09:52:58.242279\n",
      "Minibatch:  315   2018-12-12 09:52:58.544775\n",
      "Minibatch:  316   2018-12-12 09:52:58.841601\n",
      "Minibatch:  317   2018-12-12 09:52:59.177765\n",
      "Minibatch:  318   2018-12-12 09:52:59.444851\n",
      "Minibatch:  319   2018-12-12 09:52:59.734378\n",
      "Minibatch:  320   2018-12-12 09:53:00.062290\n",
      "Minibatch:  321   2018-12-12 09:53:00.348655\n",
      "Minibatch:  322   2018-12-12 09:53:00.624807\n",
      "Minibatch:  323   2018-12-12 09:53:00.954753\n",
      "Minibatch:  324   2018-12-12 09:53:01.224954\n",
      "Minibatch:  325   2018-12-12 09:53:01.489693\n",
      "Minibatch:  326   2018-12-12 09:53:01.791946\n",
      "Minibatch:  327   2018-12-12 09:53:02.077012\n",
      "Minibatch:  328   2018-12-12 09:53:02.343302\n",
      "Minibatch:  329   2018-12-12 09:53:02.603626\n",
      "Minibatch:  330   2018-12-12 09:53:02.945829\n",
      "Minibatch:  331   2018-12-12 09:53:03.205865\n",
      "Minibatch:  332   2018-12-12 09:53:03.478407\n",
      "Minibatch:  333   2018-12-12 09:53:03.828090\n",
      "Minibatch:  334   2018-12-12 09:53:04.095127\n",
      "Minibatch:  335   2018-12-12 09:53:04.391605\n",
      "Minibatch:  336   2018-12-12 09:53:04.775912\n",
      "Minibatch:  337   2018-12-12 09:53:05.070109\n",
      "Minibatch:  338   2018-12-12 09:53:05.366301\n",
      "Minibatch:  339   2018-12-12 09:53:05.739184\n",
      "Minibatch:  340   2018-12-12 09:53:06.016074\n",
      "Minibatch:  341   2018-12-12 09:53:06.299846\n",
      "Minibatch:  342   2018-12-12 09:53:06.524105\n",
      "Minibatch:  343   2018-12-12 09:53:06.860389\n",
      "Minibatch:  344   2018-12-12 09:53:07.167940\n",
      "Minibatch:  345   2018-12-12 09:53:07.441395\n",
      "Minibatch:  346   2018-12-12 09:53:07.799178\n",
      "Minibatch:  347   2018-12-12 09:53:08.072252\n",
      "Minibatch:  348   2018-12-12 09:53:08.349605\n",
      "Minibatch:  349   2018-12-12 09:53:08.682121\n",
      "Minibatch:  350   2018-12-12 09:53:08.956910\n",
      "Minibatch:  351   2018-12-12 09:53:09.222445\n",
      "Minibatch:  352   2018-12-12 09:53:09.560981\n",
      "Minibatch:  353   2018-12-12 09:53:09.839506\n",
      "Minibatch:  354   2018-12-12 09:53:10.133014\n",
      "Minibatch:  355   2018-12-12 09:53:10.446932\n",
      "Minibatch:  356   2018-12-12 09:53:10.777834\n",
      "Minibatch:  357   2018-12-12 09:53:11.064938\n",
      "Minibatch:  358   2018-12-12 09:53:11.350662\n",
      "Minibatch:  359   2018-12-12 09:53:11.685124\n",
      "Minibatch:  360   2018-12-12 09:53:11.952975\n",
      "Minibatch:  361   2018-12-12 09:53:12.239580\n",
      "Minibatch:  362   2018-12-12 09:53:12.568296\n",
      "Minibatch:  363   2018-12-12 09:53:12.837388\n"
     ]
    },
    {
     "name": "stdout",
     "output_type": "stream",
     "text": [
      "Minibatch:  364   2018-12-12 09:53:13.092049\n",
      "Minibatch:  365   2018-12-12 09:53:13.418361\n",
      "Minibatch:  366   2018-12-12 09:53:13.697853\n",
      "Minibatch:  367   2018-12-12 09:53:13.970567\n",
      "Minibatch:  368   2018-12-12 09:53:14.264405\n",
      "Minibatch:  369   2018-12-12 09:53:14.562899\n",
      "Minibatch:  370   2018-12-12 09:53:14.833631\n",
      "Minibatch:  371   2018-12-12 09:53:15.118963\n",
      "Minibatch:  372   2018-12-12 09:53:15.435216\n",
      "Minibatch:  373   2018-12-12 09:53:15.702336\n"
     ]
    }
   ],
   "source": [
    "filepath = \"/home/muhammadayub/Desktop/CS230/models_saved/model5/model3_12_9__541_160.ckpt\" #4/model3_12_9__134_100.ckpt\" #model4/model3_12_9__9_80.ckpt\"\n",
    "# dev_test_or_train = 1\n",
    "# if(dev_test_or_train ==1): #train\n",
    "\n",
    "# filepathEvalMetrics = \"/home/muhammadayub/Desktop/CS230/models_saved/model3/model_12_9__\"+str(49)+\"_\"+str(60)+\"_evalMetrics_train.npy\"\n",
    "accuracies= []\n",
    "\n",
    "print(\" Running \", len(outputData) , \" minibatches to get the evaluation metrics\")\n",
    "output_classes = []\n",
    "predicted_classes = []\n",
    "\n",
    "preds_one_hot_ev_value = None\n",
    "output_one_hot_ev_value =None \n",
    "\n",
    "\n",
    "graph = tf.Graph()\n",
    "with graph.as_default(): \n",
    "    with tf.Session(graph=graph) as sess:\n",
    "        \n",
    "        #define the graph\n",
    "        X, Y = create_placeholders(64, 64, 28, 34)\n",
    "        parameters = initialize_parameters()\n",
    "        Z3 = forward_prop(X, parameters)\n",
    "        #optimization \n",
    "#         cost = tf.reduce_mean(tf.nn.softmax_cross_entropy_with_logits(logits = Z3, labels = Y))\n",
    "#         optimizer = tf.train.AdamOptimizer(learning_rate = learning_rate).minimize(cost)#1e-4).minimize(cross_entropy)\n",
    "\n",
    "        #calculating the accuracy of the model \n",
    "        softmaxZ3 = tf.nn.softmax(Z3) # size will be 2200, 34\n",
    "        output_class = tf.argmax(softmaxZ3,1) # size will be 2200, 1 or just (2200,)  # this is the predictions vector\n",
    "        output_class_of_data =  tf.argmax(Y,1)\n",
    "        num_correct = tf.equal(output_class, output_class_of_data) # must compare 2200\n",
    "        num_correct_to_int = tf.cast(num_correct, tf.float32)\n",
    "        accuracy = tf.reduce_mean(num_correct_to_int)\n",
    "        \n",
    "        \n",
    "        saver = tf.train.Saver()\n",
    "\n",
    "        saver.restore(sess , filepath)\n",
    "        print(\"Model restored.\")\n",
    "        \n",
    "        #devMiniBatches \n",
    "        #testMiniBatches\n",
    "        for i_  in range(len(outputData)):\n",
    "\n",
    "            output_image64 = outputData[i_]\n",
    "            inputImage64 = inputData[i_]\n",
    "            #temp_cost = sess.run([cost], feed_dict={X: inputImage64, Y: output_image64})\n",
    "            softmaxZ3Value, predicted_classes_val, output_class_val, accuracy_val = sess.run([softmaxZ3, output_class, output_class_of_data, accuracy], feed_dict={X: inputImage64, Y: output_image64})\n",
    "            \n",
    "            #print(outputData[i_][46])#tf.nn.top_k(a, 2) #https://stackoverflow.com/questions/40808772/tensorflow-top-n-values-in-tensor\n",
    "            accuracies.append(accuracy_val)\n",
    "            output_classes.append(output_class_val)\n",
    "            predicted_classes.append(predicted_classes_val)\n",
    "            \n",
    "            print('Minibatch: ', str(i_), \" \", datetime.datetime.now())\n",
    "            \n",
    "            \n",
    "#new graph for concatenating things and getting into the right format for the F1 score \n",
    "graph = tf.Graph()\n",
    "with graph.as_default(): \n",
    "    with tf.Session(graph=graph) as sess:            \n",
    "    \n",
    "        val1 = tf.concat(output_classes, axis = 0)\n",
    "        \n",
    "    \n",
    "        #after running the minibatches-> we can concatenate the values \n",
    "        preds = tf.concat(predicted_classes,axis = 0)\n",
    "        data_outputs = tf.concat(output_classes,axis = 0)\n",
    "        \n",
    "        d = 35 # d is the total number of classes you have \n",
    "        #classLabels =  np.array([2,3,5,6,5,4,2,0,0])# the indexes \n",
    "        # tf.one_hot(classLabels, d)\n",
    "\n",
    "        preds_one_hot = tf.one_hot(preds, d)\n",
    "        data_outputs_one_hot =tf.one_hot(data_outputs, d)#evaluated \n",
    "        preds_one_hot_ev, output_one_hot_ev = sess.run([preds_one_hot, data_outputs_one_hot])\n",
    "        \n",
    "        preds_one_hot_ev_value =preds_one_hot_ev\n",
    "        output_one_hot_ev_value =output_one_hot_ev\n",
    "        \n",
    "#For Debugging below:\n",
    "#         zVal = sess.run([Z3], feed_dict={X: inputImage64, Y: output_image64})\n",
    "#         softMaxVal = sess.run([softmaxZ3], feed_dict={X: inputImage64, Y: output_image64})\n",
    "#         output_class_val = sess.run([output_class], feed_dict={X: inputImage64, Y: output_image64})\n",
    "#         num_correct_val = sess.run([num_correct], feed_dict={X: inputImage64, Y: output_image64})\n",
    "#         num_correct_to_int_val = sess.run([num_correct_to_int], feed_dict={X: inputImage64, Y: output_image64})"
   ]
  },
  {
   "cell_type": "code",
   "execution_count": 117,
   "metadata": {},
   "outputs": [
    {
     "name": "stdout",
     "output_type": "stream",
     "text": [
      "(2, 3, 34)\n",
      "(2, 3)\n",
      "[array([[[0., 1., 0., 0., 0., 0., 0., 0., 0., 0., 0., 0., 0., 0., 0., 0.,\n",
      "         0., 0., 0., 0., 0., 0., 0., 0., 0., 0., 0., 0., 0., 0., 0., 0.,\n",
      "         0., 0.],\n",
      "        [0., 0., 1., 0., 0., 0., 0., 0., 0., 0., 0., 0., 0., 0., 0., 0.,\n",
      "         0., 0., 0., 0., 0., 0., 0., 0., 0., 0., 0., 0., 0., 0., 0., 0.,\n",
      "         0., 0.],\n",
      "        [0., 0., 0., 0., 0., 0., 0., 0., 0., 0., 0., 0., 0., 0., 0., 0.,\n",
      "         0., 0., 0., 0., 0., 0., 0., 0., 0., 0., 0., 0., 0., 0., 0., 0.,\n",
      "         1., 0.]],\n",
      "\n",
      "       [[0., 0., 0., 0., 1., 0., 0., 0., 0., 0., 0., 0., 0., 0., 0., 0.,\n",
      "         0., 0., 0., 0., 0., 0., 0., 0., 0., 0., 0., 0., 0., 0., 0., 0.,\n",
      "         0., 0.],\n",
      "        [0., 0., 0., 1., 0., 0., 0., 0., 0., 0., 0., 0., 0., 0., 0., 0.,\n",
      "         0., 0., 0., 0., 0., 0., 0., 0., 0., 0., 0., 0., 0., 0., 0., 0.,\n",
      "         0., 0.],\n",
      "        [1., 0., 0., 0., 0., 0., 0., 0., 0., 0., 0., 0., 0., 0., 0., 0.,\n",
      "         0., 0., 0., 0., 0., 0., 0., 0., 0., 0., 0., 0., 0., 0., 0., 0.,\n",
      "         0., 0.]]], dtype=float32)]\n",
      "[array([[ 1,  2, 32],\n",
      "       [ 4,  3,  0]], dtype=int32)]\n",
      "----------------\n",
      "(2, 34)\n",
      "[array([[0., 1., 1., 0., 0., 0., 0., 0., 0., 0., 0., 0., 0., 0., 0., 0.,\n",
      "        0., 0., 0., 0., 0., 0., 0., 0., 0., 0., 0., 0., 0., 0., 0., 0.,\n",
      "        1., 0.],\n",
      "       [1., 0., 0., 1., 1., 0., 0., 0., 0., 0., 0., 0., 0., 0., 0., 0.,\n",
      "        0., 0., 0., 0., 0., 0., 0., 0., 0., 0., 0., 0., 0., 0., 0., 0.,\n",
      "        0., 0.]], dtype=float32)]\n"
     ]
    }
   ],
   "source": [
    "data = np.array([[0. ,  0.34, 0.33 ,0. ,  0.  , 0. ,  0. ,  0.   ,0.  , 0. , \n",
    "                     0.   ,0. ,  0.,   0., 0.  , 0. ,  0. ,  0.,  0.   ,0.  , 0.  ,\n",
    "                     0. ,  0. ,  0. ,  0.  , 0. ,  0.  , 0., 0. ,  0. ,  0. ,\n",
    "                     0.  , 0.33, 0.  ], \n",
    "                [0.27 ,  0., 0. ,0.35 ,  0.38  , 0. ,  0. ,  0.   ,0.  , 0. , \n",
    "                     0.   ,0. ,  0.,   0., 0.  , 0. ,  0. ,  0.,  0.   ,0.  , 0.  ,\n",
    "                     0. ,  0. ,  0. ,  0.  , 0. ,  0.  , 0., 0. ,  0. ,  0. ,\n",
    "                     0.  , 0., 0.  ]])\n",
    "\n",
    "graph = tf.Graph()\n",
    "with graph.as_default(): \n",
    "    with tf.Session(graph=graph) as sess:\n",
    "        x = tf.placeholder(shape = (2,34), dtype=np.float32)\n",
    "        top4 =  tf.nn.top_k(x, 3)     \n",
    "\n",
    "        top4Indices = top4.indices\n",
    "        oneHotIndices = tf.one_hot(top4Indices, depth = 34)\n",
    "        summationOfOneHotFor_NHotEncoding = tf.reduce_sum(oneHotIndices, 1)\n",
    "        \n",
    "#         top4Vals = sess.run([top4], feed_dict={x:data})\n",
    "# top4Vals[0].indices\n",
    "        top4IndicesVals = sess.run([top4Indices], feed_dict={x:data})\n",
    "        \n",
    "        oneHotIndicesValues = sess.run([oneHotIndices], feed_dict={x:data})\n",
    "        \n",
    "        NHotEncodingValues = sess.run([summationOfOneHotFor_NHotEncoding], feed_dict={x:data})\n",
    "        \n",
    "        print(oneHotIndicesValues[0].shape)\n",
    "        print(top4IndicesVals[0].shape)\n",
    "        \n",
    "        print(oneHotIndicesValues)\n",
    "        print(top4IndicesVals)\n",
    "        \n",
    "        print('----------------')\n",
    "        \n",
    "        print(NHotEncodingValues[0].shape)\n",
    "        \n",
    "        print(NHotEncodingValues)\n",
    "        \n",
    "        \n",
    "        \n",
    "\n",
    "# tf.math.top_k "
   ]
  },
  {
   "cell_type": "code",
   "execution_count": null,
   "metadata": {
    "collapsed": true
   },
   "outputs": [],
   "source": [
    "graph = tf.Graph()\n",
    "with graph.as_default():\n",
    "    with tf.Session(graph = graph) as sess:\n",
    "        x = tf.placeholder(shape = )"
   ]
  },
  {
   "cell_type": "code",
   "execution_count": null,
   "metadata": {
    "collapsed": true
   },
   "outputs": [],
   "source": []
  },
  {
   "cell_type": "code",
   "execution_count": 100,
   "metadata": {},
   "outputs": [
    {
     "data": {
      "text/plain": [
       "(1, 34)"
      ]
     },
     "execution_count": 100,
     "metadata": {},
     "output_type": "execute_result"
    }
   ],
   "source": [
    "data = np.array([[0. ,  0.34, 0.33 ,0. ,  0.  , 0. ,  0. ,  0.   ,0.  , 0. , \n",
    "                     0.   ,0. ,  0.,   0., 0.  , 0. ,  0. ,  0.,  0.   ,0.  , 0.  ,\n",
    "                     0. ,  0. ,  0. ,  0.  , 0. ,  0.  , 0., 0. ,  0. ,  0. ,\n",
    "                     0.  , 0.33, 0.  ]])\n",
    "data.shape"
   ]
  },
  {
   "cell_type": "code",
   "execution_count": 93,
   "metadata": {
    "collapsed": true
   },
   "outputs": [],
   "source": [
    "_y_true_ = None\n",
    "_y_pred_ = None \n",
    "_f1Score_ = None \n",
    "_precision_ = None \n",
    "_recall_ =None \n",
    "TPVal = None\n",
    "FPVal = None\n",
    "FNVal = None \n",
    "_f1_ = None \n",
    "#using the F1 function found online -> get the values for the predictions  \n",
    "graph = tf.Graph()\n",
    "with graph.as_default(): \n",
    "    y_true = tf.Variable(output_one_hot_ev_value)\n",
    "    y_pred = tf.Variable(preds_one_hot_ev_value)\n",
    "    y_true = tf.cast(y_true, tf.float64)\n",
    "    y_pred = tf.cast(y_pred, tf.float64)\n",
    "\n",
    "    #moded from -> https://stackoverflow.com/questions/35365007/tensorflow-precision-recall-f1-score-and-confusion-matrix\n",
    "    TP = tf.count_nonzero(y_pred * y_true, axis=0) \n",
    "    FP = tf.count_nonzero(y_pred * (y_true - 1), axis=0) \n",
    "    FN = tf.count_nonzero((y_pred - 1) * y_true, axis=0)  # .001 for numerical stability \n",
    "\n",
    "    #they are integers right now and should be floats for numerical stability \n",
    "    TP = tf.cast(TP, tf.float32)\n",
    "    FP = tf.cast(FP, tf.float32)\n",
    "    FN = tf.cast(FN, tf.float32)\n",
    "    \n",
    "    \n",
    "    precision = TP / (TP + FP+tf.constant(.001))\n",
    "    recall = TP / (TP + FN+tf.constant(.001))\n",
    "    f1 = 2 * precision * recall / (precision + recall+tf.constant(.001))\n",
    "\n",
    "    f1Score = tf.reduce_mean(f1)\n",
    "\n",
    "    \n",
    "    with tf.Session(graph=graph) as sess:    \n",
    "        tf.global_variables_initializer().run(session=sess)\n",
    "        _f1_, _y_true_, _y_pred_, _f1Score_ , _precision_ ,_recall_ , TPVal,FPVal, FNVal = sess.run([f1, y_true, y_pred, f1Score, precision ,recall, TP,FP, FN ])          \n"
   ]
  },
  {
   "cell_type": "code",
   "execution_count": 94,
   "metadata": {},
   "outputs": [
    {
     "data": {
      "text/plain": [
       "24.88903738359079"
      ]
     },
     "execution_count": 94,
     "metadata": {},
     "output_type": "execute_result"
    }
   ],
   "source": [
    "sum(np.array(accuracies).flatten())/len(accuracies)*100"
   ]
  },
  {
   "cell_type": "code",
   "execution_count": 97,
   "metadata": {},
   "outputs": [
    {
     "data": {
      "text/plain": [
       "0.011378842"
      ]
     },
     "execution_count": 97,
     "metadata": {},
     "output_type": "execute_result"
    }
   ],
   "source": [
    "_f1_\n",
    "# _precision_\n",
    "# _recall_ \n",
    "_f1Score_"
   ]
  },
  {
   "cell_type": "code",
   "execution_count": null,
   "metadata": {
    "collapsed": true
   },
   "outputs": [],
   "source": []
  }
 ],
 "metadata": {
  "kernelspec": {
   "display_name": "Python 2",
   "language": "python",
   "name": "python2"
  },
  "language_info": {
   "codemirror_mode": {
    "name": "ipython",
    "version": 2
   },
   "file_extension": ".py",
   "mimetype": "text/x-python",
   "name": "python",
   "nbconvert_exporter": "python",
   "pygments_lexer": "ipython2",
   "version": "2.7.14"
  }
 },
 "nbformat": 4,
 "nbformat_minor": 2
}
